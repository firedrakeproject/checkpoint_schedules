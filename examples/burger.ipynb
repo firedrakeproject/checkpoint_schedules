{
 "cells": [
  {
   "cell_type": "markdown",
   "metadata": {},
   "source": [
    "# Adjoint-based sensitivity computation using checkpoint_schedules package\n",
    "\n",
    "The checkpointing is a method in general employed to reduce the peak of memory usage in adjoint computations. Adjoint method is at the core of many scietific applications as sensitivity analyses in fluids, inverse proplems, topology optimization.\n",
    "\n",
    "\n",
    "## Defining the application\n",
    "Here, we presented the checkpointing given by checkpointing_schedules package in an one-dimensional problem where it aims to compute an adjoint-based gradient. Hence, let us consider the cost function given by:\n",
    "\n",
    "\\begin{equation}\n",
    "    I(u) = \\int_{\\Omega} \\frac{1}{2} \\frac{u(x, \\tau)u(x, \\tau)}{u_0 u_0} \\, d x\n",
    "    \\label{cost_f} \\tag{1}\n",
    "\\end{equation}\n",
    "\n",
    "In this case, we intend to compute the sensitivity of the kinetic energy in a time $\\tau$ with respect to the initial condition. The variable $u = u(x, t)$ is governed by the viscous Burgers equation, a nonlinear equation for the advection and diffusion on momentum in one dimension:\n",
    "\n",
    "\\begin{equation}\n",
    "\\frac{\\partial u}{\\partial t} + u \\frac{\\partial u}{\\partial x} - \\nu \\frac{\\partial^2 u}{\\partial x^2} = 0,\n",
    "\\label{fwd} \\tag{2}\n",
    "\\end{equation}\n",
    "which satisfies the boundary condition $u(0, t) = u(L, t) = 0$. The initial condition is given by $u(0, t) = \\sin(\\pi x)$.\n",
    "\n",
    "In the adjoint-based gradient, it is necessary to define the adjoint system that is given as a function of the forward PDE (Partial Differential Equation) and a cost/objective function of interest. The adjoint system can be obtained in a continuous or discrete space. The former deals with the continuous PDE to define the adjoint PDE in a continuous space, whereas the latter uses the discrete forward PDE to obtain a discrete adjoint system. Discrete adjoint can be also determined by an algorithmic differentiation (AD). In this example, we present the adjoint-based gradient determined in a continuous space, where it is used the Lagrange multiplier approach. Thus, the adjoint-based gradient is given by the following expression:\n",
    "$$\\frac{\\partial I}{\\partial u_0} \\delta u_0 = \\int_{\\Omega}  u^{\\dagger}(x, 0) \\delta u_0 \\, dx,$$\n",
    "where $u^{\\dagger}(x, 0)$ is the solution of the adjoint system:\n",
    "\\begin{equation}\n",
    "\\frac{-\\partial u^{\\dagger}}{\\partial t} + u^{\\dagger} \\frac{\\partial u}{\\partial x} - u \\frac{\\partial u^{\\dagger}}{\\partial x} - \\nu \\frac{\\partial^2 u^{\\dagger}}{\\partial x^2} = 0,\n",
    "\\label{adj} \\tag{3}\n",
    "\\end{equation}\n",
    "which satisfies the boundary condition $u^{\\dagger} (0, t) = u(L, t)$. For the current adjoint sensitivity problem, the initial condition is $u^{\\dagger} (x, \\tau) = u(x, \\tau)$. \n",
    "\n",
    "The adjoint system is inverse in time, being the adjoint initial time $\\tau$ that is the final time of the forward equation. Therefore, to compute the adjoint based gradient means to store the forward solution of every time-step, since the adjoint equation depends of the forward solution. In addition, the gradient expression is at a function of the $u^{\\dagger} (0, t)$ that is final adjoint solution at the final adjoint time 0.  "
   ]
  },
  {
   "cell_type": "markdown",
   "metadata": {},
   "source": [
    "## Discretisation\n",
    "\n",
    "We discretise the forward and adjoint systems with Finite Element Method (FEM) following the methodology employed in [1] that shows the forward discretisation methodology in details. The adjoint discretization also follows the same spatial and time discretisation that is employed in the forward system.\n"
   ]
  },
  {
   "cell_type": "markdown",
   "metadata": {},
   "source": [
    "## Implementation\n",
    "\n",
    "The forward and adjoint solutions are numpy arrays. The forward and adjoint sparses matrices are built with scipy librabry, which is also used to solve the adjoint system. "
   ]
  },
  {
   "cell_type": "code",
   "execution_count": 1,
   "metadata": {},
   "outputs": [],
   "source": [
    "\"\"\"Library and package used in the current example.\"\"\"\n",
    "import numpy as np\n",
    "import functools\n",
    "import matplotlib.pyplot as plt\n",
    "from sympy import *\n",
    "from scipy.sparse import lil_matrix\n",
    "from scipy.sparse.linalg import spsolve"
   ]
  },
  {
   "cell_type": "markdown",
   "metadata": {},
   "source": [
    "Finally, we import the checkpoint_schedules package to execute the forward and adjoint solvers using the checkpointing method. \n",
    "\n",
    "From the checkpoint_schdeules library we import the actions used to execute our current adjoint-based gradient with the checkpointing method given by H-Revolve.\n",
    "\n",
    "The sequence of actions are: Forward, Reverse, Copy, End_Foward and End_Reverse. A briafly description are described below. \n",
    "\n",
    "- The Forward actions is used to advance the forward solver for a step number (s), and to configure the intermediate storage. \n",
    "- The Reverse is used to execute the adjoint solver from the start step n0 to the step n1, and to clear the forward data used in the adjoint solver. \n",
    "- The Copy action is used to copy the data from a storage level (either RAM or disk) to the forward tape, and to indicate whether this data can be deleted from the storage level. \n",
    "- The actions End_Forward and End_Reverse indicate whether the forward and reverse solver are finalised, respectively.\n",
    "\n",
    "From the checkpoint_schedules we also import the RevolveCheckpointSchedule and StorageLocation objects. The former provide an iterator over the sequence of actions, whereas the second provide the locations to store and copy the forward data that are RAM, DISK, TAPE and NONE. RAM and DISK are described to as first and second level of storage, respectivelly. TAPE refers to the local where store the forward solution while the forward solver is executed. NONE ....\n"
   ]
  },
  {
   "cell_type": "code",
   "execution_count": 2,
   "metadata": {},
   "outputs": [],
   "source": [
    "from checkpoint_schedules import \\\n",
    "     (Forward, EndForward, Reverse, Copy, EndReverse)\n",
    "from checkpoint_schedules import RevolveCheckpointSchedule, StorageLocation"
   ]
  },
  {
   "cell_type": "markdown",
   "metadata": {},
   "source": [
    "We first define the Burger's equation object. The constructor defines the spatial and time equations settings. The forward burger's system is implemented in the forward method, whereas the adjoint system is implemented in backward method."
   ]
  },
  {
   "cell_type": "code",
   "execution_count": 3,
   "metadata": {},
   "outputs": [],
   "source": [
    "class burger_equation():\n",
    "    \"\"\"This object define the forward burger's equation its\n",
    "    and adjoint system.\n",
    "\n",
    "    Attributes\n",
    "    ----------\n",
    "    L : float\n",
    "        The domain lenght\n",
    "    nx : int\n",
    "        Number of nodes.\n",
    "    dt : float\n",
    "        Time step.\n",
    "    T : float\n",
    "        Period of time.\n",
    "    nu : float\n",
    "        The viscosity.\n",
    "    \"\"\"\n",
    "    def __init__(self, L, nx, dt, T, nu):\n",
    "        self.nt = int(T/dt)\n",
    "        self.nu = nu\n",
    "        self.dx = L / (nx - 1)\n",
    "        self.dt = dt\n",
    "        self.nx = nx\n",
    "\n",
    "    def forward(self, u0, t0, tf):\n",
    "        \"\"\"Execute the foward system in time.\n",
    "\n",
    "        Paramters\n",
    "        ---------\n",
    "        u0 : numpy\n",
    "            Forward initial condition.\n",
    "        t0 : int\n",
    "            Initial step.\n",
    "        tn : int\n",
    "            Final step.\n",
    "        \"\"\"\n",
    "        dx = self.dx\n",
    "        nx = self.nx\n",
    "        dt = self.dt\n",
    "        b = self.nu/(dx * dx)\n",
    "        u = u0\n",
    "        u_new = np.zeros(nx)\n",
    "        b = self.nu/(dx*dx)\n",
    "        steps = int(tf - t0)\n",
    "        t = 0\n",
    "        while t < steps:\n",
    "            # Assemble of the mattrices system\n",
    "            A = lil_matrix((nx, nx),)\n",
    "            B = lil_matrix((nx, nx))\n",
    "            A[0, 0] = 2/3 + b * dt \n",
    "            A[0, 1] = 1/6 - b*dt/2 + dt/4*u[1]/dx\n",
    "            A[self.nx - 1, nx - 1] = 2/3 + b * dt\n",
    "            A[self.nx - 1, nx - 2] = 1/6 - b * dt/2 - dt/4 * u[nx - 2]/dx\n",
    "            B[0, 0] = 2/3 - b*dt\n",
    "            B[0, 1] = 1/6 + b*dt/2 - dt/4*u[1]/dx\n",
    "            B[nx - 1, nx - 1] = 2/3 - b * dt\n",
    "            B[nx - 1, nx - 2] = 1/6 + b * dt/2 + dt/4 * u[nx - 2]/dx\n",
    "            for i in range(1, nx - 1):\n",
    "                v_m = u[i]/dx\n",
    "                v_mm1 = u[i - 1]/dx\n",
    "                A[i, i - 1] = 1/6 - b * dt/2 - dt/4*v_mm1\n",
    "                A[i, i] = 2/3 + b * dt + dt/4*(v_mm1 - v_m)\n",
    "                A[i, i + 1] = 1/6 - b*dt/2 + dt/4*v_m\n",
    "                B[i, i - 1] = 1/6 + b*dt/2 + dt/4*v_mm1\n",
    "                B[i, i] = 2/3 - b*dt - dt/4*(v_mm1 - v_m)\n",
    "                B[i, i + 1] = 1/6 + b*dt/2 - dt/4*v_m\n",
    "                \n",
    "            d = B.dot(u)\n",
    "            u_new = spsolve(A, d)\n",
    "            u = u_new.copy()\n",
    "            t += 1\n",
    "\n",
    "        return u_new\n",
    "\n",
    "    def backward(self, u_fwd, p0):\n",
    "        \"\"\"Execute the adjoint system in time.\n",
    "\n",
    "        Parameters\n",
    "        ---------\n",
    "        u_fwd : numpy\n",
    "            Forward solution that is the adjoint dependency.\n",
    "        p0 : numpy\n",
    "            Adjoint solution used to initialise de adjoint solver.\n",
    "        \"\"\"\n",
    "        dx = self.dx\n",
    "        nx = self.nx\n",
    "        dt = self.dt\n",
    "        b = self.nu/(dx * dx)\n",
    "        p_new = np.zeros(nx)\n",
    "        b = self.nu/(dx*dx)\n",
    "\n",
    "        # Assemble of the mattrices system\n",
    "        A = lil_matrix((nx, nx),)\n",
    "        B = lil_matrix((nx, nx))\n",
    "        A[0, 0] = 2/3 + b * dt \n",
    "        A[0, 1] = 1/6 - b*dt/2 + dt/4*u[1]/dx\n",
    "        A[self.nx - 1, nx - 1] = 2/3 + b * dt\n",
    "        A[self.nx - 1, nx - 2] = 1/6 - b * dt/2 - dt/4 * u[nx - 2]/dx\n",
    "        B[0, 0] = 2/3 - b*dt\n",
    "        B[0, 1] = 1/6 + b*dt/2 - dt/4*u[1]/dx\n",
    "        B[nx - 1, nx - 1] = 2/3 - b * dt\n",
    "        B[nx - 1, nx - 2] = 1/6 + b * dt/2 + dt/4 * u[nx - 2]/dx\n",
    "        for i in range(1, nx - 1):\n",
    "            v_m = u_fwd[i]/dx\n",
    "            v_mm1 = u_fwd[i - 1]/dx\n",
    "            A[i, i - 1] = 1/6 - b * dt/2 - dt/4*v_mm1\n",
    "            A[i, i] = 2/3 + b * dt + dt/4*(v_mm1 - v_m)\n",
    "            A[i, i + 1] = 1/6 - b*dt/2 + dt/4*v_m\n",
    "            B[i, i - 1] = 1/6 + b*dt/2 + dt/4*v_mm1\n",
    "            B[i, i] = 2/3 - b*dt - dt/4*(v_mm1 - v_m)\n",
    "            B[i, i + 1] = 1/6 + b*dt/2 - dt/4*v_m\n",
    "        \n",
    "        d = B.dot(u)\n",
    "        p_new = spsolve(A, d)\n",
    "        return p_new\n",
    "\n",
    "    def forward_solution(self):\n",
    "        u = np.zeros((self.nt, self.nx))\n",
    "        x = np.linspace(0, L, self.nx)\n",
    "        t0 = np.exp(1/(8*self.nu))\n",
    "        for step in range(self.nt):\n",
    "            t = 1 + step*self.dt\n",
    "            for i in range(self.nx):\n",
    "                e = np.exp(x[i]*x[i]/(4*self.nu*t))\n",
    "                a = (t/t0)**(0.5)\n",
    "                u[step][i] = (x[i]/(t))/(1 + (a*e))\n",
    "\n",
    "        return u[-1]\n",
    "\n",
    "    def dudx(self):\n",
    "        x = Symbol('x')\n",
    "        t0 = exp(1/(8*self.nu))\n",
    "        e = exp(x*x/(4*self.nu))\n",
    "        t = 1\n",
    "        a = (t/t0)**(0.5)\n",
    "        u0 = (x/(t))/(1 + (a*e))\n",
    "        du_dx = diff(u0, x)\n",
    "        arr = np.linspace(0, L, self.nx)\n",
    "        der = np.zeros(nx)\n",
    "        for i in range(self.nx):\n",
    "            der[i] = du_dx.subs(x, arr[i])\n",
    "        return der\n",
    "\n"
   ]
  },
  {
   "cell_type": "markdown",
   "metadata": {},
   "source": [
    "Next, we build the CheckpointingManager object that is used to execute the forward and adjoint solvers that use a checkpointing method by following a sequence of actions provided by the checkpoint_schedules package. "
   ]
  },
  {
   "cell_type": "code",
   "execution_count": 4,
   "metadata": {},
   "outputs": [],
   "source": [
    "class CheckpointingManager():\n",
    "    \"\"\"Manage the forward and backward solvers.\n",
    "\n",
    "    Attributes\n",
    "    ----------\n",
    "    max_n : int\n",
    "        Total steps used to execute the solvers.\n",
    "    equation : object\n",
    "        The object....\n",
    "    backward : object\n",
    "        The backward solver.\n",
    "    save_ram : int\n",
    "        Number of checkpoint that will be stored in RAM.\n",
    "    save_disk : int\n",
    "        Number of checkpoint that will be stored in disk.\n",
    "    \"\"\"\n",
    "    def __init__(self, max_n, equation, save_ram, save_disk):\n",
    "        self.max_n = max_n\n",
    "        self.save_ram = save_ram\n",
    "        self.save_disk = save_disk\n",
    "        self.equation = equation\n",
    "        self.list_actions = []\n",
    "        \n",
    "\n",
    "    def execute(self):\n",
    "        \"\"\"Execute forward and adjoint with checkpointing mehtod.\n",
    "        \"\"\"\n",
    "        @functools.singledispatch\n",
    "        def action(cp_action):\n",
    "            raise TypeError(\"Unexpected action\")\n",
    "\n",
    "        @action.register(Forward)\n",
    "        def action_forward(cp_action):\n",
    "            nonlocal model_n\n",
    "#             u0 = self.equation.forward(u0, cp_action.n0, cp_action.n1)\n",
    "            n1 = min(cp_action.n1, self.max_n)\n",
    "            model_n = n1\n",
    "            if cp_action.n1 == self.max_n:\n",
    "                cp_schedule.finalize(n1)\n",
    "\n",
    "        @action.register(Reverse)\n",
    "        def action_reverse(cp_action):\n",
    "            nonlocal model_r, p0\n",
    "#             nonlocal p0\n",
    "#             if model_r == 0:\n",
    "#                 p0 = u\n",
    "#             p0 = self.equation(u0, p0)\n",
    "            model_r += cp_action.n1 - cp_action.n0\n",
    "            if cp_action.clear_adj_deps:\n",
    "                data.clear()\n",
    "\n",
    "        @action.register(Copy)\n",
    "        def action_copy(cp_action):\n",
    "            pass\n",
    "\n",
    "        @action.register(EndForward)\n",
    "        def action_end_forward(cp_action):\n",
    "            pass\n",
    "\n",
    "        @action.register(EndReverse)\n",
    "        def action_end_reverse(cp_action):\n",
    "            pass\n",
    "\n",
    "        model_n = 0\n",
    "        model_r = 0\n",
    "        p0 = None  # Initialiase the reverse computation.\n",
    "        ics = set()\n",
    "        data = set()\n",
    "\n",
    "        snapshots = {StorageLocation(0).name: {}, StorageLocation(1).name: {}}\n",
    "        cp_schedule = RevolveCheckpointSchedule(self.max_n, self.save_ram,\n",
    "                                                snap_on_disk=self.save_disk)\n",
    "        snapshots = {StorageLocation(0).name: {}, StorageLocation(1).name: {}}\n",
    "        \n",
    "        while True:\n",
    "            cp_action = next(cp_schedule)\n",
    "            action(cp_action)\n",
    "            self.list_actions.append([str(cp_action)])\n",
    "            if isinstance(cp_action, EndReverse):  \n",
    "#                 assert model_r == 0\n",
    "                break\n"
   ]
  },
  {
   "cell_type": "markdown",
   "metadata": {},
   "source": [
    "Initially, consider the following spatial setup."
   ]
  },
  {
   "cell_type": "code",
   "execution_count": 5,
   "metadata": {},
   "outputs": [],
   "source": [
    "L = 1  # Domain lenght\n",
    "nx = 500 # Number of nodes.\n",
    "nu = 0.005 # Viscosity"
   ]
  },
  {
   "cell_type": "markdown",
   "metadata": {},
   "source": [
    "The first case consider few times step only to exemplify how works the forward and adjoint computations with checkpoint_schedules package."
   ]
  },
  {
   "cell_type": "code",
   "execution_count": 6,
   "metadata": {},
   "outputs": [],
   "source": [
    "dt = 0.01 # Time variation.\n",
    "T = 0.05 # Final time\n",
    "burger = burger_equation(L, nx, dt, T, nu) # Buger's equation object"
   ]
  },
  {
   "cell_type": "markdown",
   "metadata": {},
   "source": [
    "On setting the time parameters as above, we have a case that execute the forward and adjoint solvers only for fives steps. "
   ]
  },
  {
   "cell_type": "markdown",
   "metadata": {},
   "source": [
    "Next, let us define the parameters necessary to obtain a sequence of actions. Thus, we set to store only two step of the forward data in RAM and 0 in disk."
   ]
  },
  {
   "cell_type": "code",
   "execution_count": 7,
   "metadata": {},
   "outputs": [],
   "source": [
    "max_n = int(T/dt) # Total steps.\n",
    "equation = burger # Equation object.\n",
    "save_ram = 2 # Number of steps to save in RAM.\n",
    "save_disk = 0 # Number of steps to save in disk.\n",
    "chk_manager = CheckpointingManager(max_n, equation, save_ram, save_disk)"
   ]
  },
  {
   "cell_type": "code",
   "execution_count": 8,
   "metadata": {},
   "outputs": [],
   "source": [
    "chk_manager.execute()"
   ]
  },
  {
   "cell_type": "markdown",
   "metadata": {},
   "source": [
    "To exemplify how the solvers work with checkpoint_schedules iterator, we store the actions which are printed below."
   ]
  },
  {
   "cell_type": "code",
   "execution_count": 9,
   "metadata": {},
   "outputs": [
    {
     "name": "stdout",
     "output_type": "stream",
     "text": [
      "checkpoint_schedules actions\n",
      "-----------------------------------\n",
      "Forward(0, 3, True, False, 'RAM')\n",
      "Forward(3, 4, True, False, 'RAM')\n",
      "Forward(4, 5, False, True, 'RAM')\n",
      "EndForward()\n",
      "Reverse(5, 4, True)\n",
      "Copy(3, 'RAM', 'TAPE', True)\n",
      "Forward(3, 4, False, True, 'RAM')\n",
      "Reverse(4, 3, True)\n",
      "Copy(0, 'RAM', 'TAPE', False)\n",
      "Forward(0, 1, False, False, 'NONE')\n",
      "Forward(1, 2, True, False, 'RAM')\n",
      "Forward(2, 3, False, True, 'RAM')\n",
      "Reverse(3, 2, True)\n",
      "Copy(1, 'RAM', 'TAPE', True)\n",
      "Forward(1, 2, False, True, 'RAM')\n",
      "Reverse(2, 1, True)\n",
      "Copy(0, 'RAM', 'TAPE', True)\n",
      "Forward(0, 1, False, True, 'RAM')\n",
      "Reverse(1, 0, True)\n",
      "EndReverse(True,)\n"
     ]
    }
   ],
   "source": [
    "from tabulate import tabulate\n",
    "print(tabulate(chk_manager.list_actions, headers=[\"checkpoint_schedules actions\"]))\n"
   ]
  },
  {
   "cell_type": "markdown",
   "metadata": {},
   "source": [
    "To remind that the checkppint_schedule actions are: Forward, Reverse, Copy, EndForward and EndReverse. \n",
    "Where Forward = Forward(n0, n1, write_ics, write_adj_deps, storage), Reverse = Reverse(n0, n1, clear_adj_deps), Copy = Copy(n, from_storage, to_storage, delete), EndForward and EndReverse().\n",
    " \n",
    "Therefore, the action \n",
    "Forward(0, 3, True, False, 'RAM'): execute the forward solver from step 0 to step 3, write the foward data (write_ics) of the step 0 in RAM (storage) and does not store the forward data for the adjoint computation. \n",
    "\n",
    "Another case with the forward action: \n",
    "Forward(4, 5, False, True, 'RAM'): execute the forward solver from step 0 to step 3, does not write the foward data (write_ics) of the step 4 and store the forward data for the adjoint computation of the step 5 in RAM.\n",
    "\n",
    "Reverse(4, 3, True): execute the adjoint solver from step 4 to step 3, and clear adj_deps that was used in the adjoint computation.\n",
    "\n",
    "Copy(0, 'RAM', 'TAPE', False): copy the forward data related to the step 0 from the storage level RAM to the TAPE and does not delete from the storage level RAM (since will be used again to restart the forward solver). \n",
    "\n",
    "Copy(0, 'RAM', 'TAPE', True): copy the forward data related to the step 0 from the storage level RAM to the TAPE and delete from the storage level RAM (since it is not being to be used again). \n"
   ]
  },
  {
   "cell_type": "code",
   "execution_count": 10,
   "metadata": {},
   "outputs": [],
   "source": [
    "save_ram = 1 # Number of steps to save in RAM.\n",
    "save_disk = 1 # Number of steps to save in disk.\n",
    "chk_manager = CheckpointingManager(max_n, equation, save_ram, save_disk)\n",
    "chk_manager.execute()"
   ]
  },
  {
   "cell_type": "code",
   "execution_count": 11,
   "metadata": {},
   "outputs": [
    {
     "name": "stdout",
     "output_type": "stream",
     "text": [
      "checkpoint_schedules actions\n",
      "-----------------------------------\n",
      "Forward(0, 2, True, False, 'DISK')\n",
      "Forward(2, 4, True, False, 'RAM')\n",
      "Forward(4, 5, False, True, 'RAM')\n",
      "EndForward()\n",
      "Reverse(5, 4, True)\n",
      "Copy(2, 'RAM', 'TAPE', False)\n",
      "Forward(2, 3, False, False, 'NONE')\n",
      "Forward(3, 4, False, True, 'RAM')\n",
      "Reverse(4, 3, True)\n",
      "Copy(2, 'RAM', 'TAPE', True)\n",
      "Forward(2, 3, False, True, 'RAM')\n",
      "Reverse(3, 2, True)\n",
      "Copy(0, 'DISK', 'TAPE', False)\n",
      "Forward(0, 1, True, False, 'RAM')\n",
      "Forward(1, 2, False, True, 'RAM')\n",
      "Reverse(2, 1, True)\n",
      "Copy(0, 'RAM', 'TAPE', True)\n",
      "Forward(0, 1, False, True, 'RAM')\n",
      "Reverse(1, 0, True)\n",
      "EndReverse(True,)\n"
     ]
    }
   ],
   "source": [
    "from tabulate import tabulate\n",
    "print(tabulate(chk_manager.list_actions, headers=[\"checkpoint_schedules actions\"]))\n"
   ]
  },
  {
   "cell_type": "markdown",
   "metadata": {},
   "source": [
    "Forward(0, 2, True, False, 'DISK'): execute the forward solver from step 0 to step 2, write the foward data (write_ics) of the step 0 in DISK (storage) and does not store the forward data for the adjoint computation. \n",
    "\n",
    "Copy(0, 'DISK', 'TAPE', False): copy the forward data related to the step 0 from the storage level DISK to the TAPE and does not delete from the storage level DISK. \n",
    "\n",
    "Forward(0, 1, True, False, 'RAM'): execute the forward solver from step 0 to step 1, write the foward data (write_ics) of the step 0 in RAM (storage) and does not store the forward data for the adjoint computation. \n",
    "\n",
    "Copy(0, 'RAM', 'TAPE', True): copy the forward data related to the step 0 from the storage level DISK to the TAPE and does not delete from the storage level DISK. "
   ]
  },
  {
   "cell_type": "markdown",
   "metadata": {},
   "source": [
    "## References\n",
    "\\[1\\] Dogan, Abdulkadir. \"A Galerkin finite element approach to Burgers' equation.\" Applied mathematics and computation 157.2 (2004): 331-346."
   ]
  },
  {
   "cell_type": "code",
   "execution_count": null,
   "metadata": {},
   "outputs": [],
   "source": []
  }
 ],
 "metadata": {
  "kernelspec": {
   "display_name": "Python 3 (ipykernel)",
   "language": "python",
   "name": "python3"
  },
  "language_info": {
   "codemirror_mode": {
    "name": "ipython",
    "version": 3
   },
   "file_extension": ".py",
   "mimetype": "text/x-python",
   "name": "python",
   "nbconvert_exporter": "python",
   "pygments_lexer": "ipython3",
   "version": "3.11.2"
  }
 },
 "nbformat": 4,
 "nbformat_minor": 2
}
