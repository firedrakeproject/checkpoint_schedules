{
 "cells": [
  {
   "cell_type": "markdown",
   "metadata": {},
   "source": [
    "## Using *checkpoint_schedules* package\n",
    "\n",
    "The *checkpoint_schedules* package offers a squedule of actions that enable the coordination of an adjoint-based gradient executions through a checkpoint strategy. The checkpoint schedule is built by the sequence of actions referred to as *Forward, EndForward, Reverse, Copy, EndReverse*. The actions provides functionalities such as storing the forward checkpoint data used to restart the forward solver, storing the forward checkpoint data for adjoint computations, and retrieving the stored data for both the forward solver restart and the adjoint computation. \n",
    "\n",
    "In the following code, we have implemented the `CheckpointingManager` class, which allows the manegement of the forward and adjoint executions in time. On using `CheckpointingManager.execute` method, we iterate over a sequence of actions given by the schedule `cp_schedule`. The actions are defined by using single-dispatch functions, where the `action` function is the generic function using the singledispatch decorator. Specific functions for different types of *checkpoint_schedules* actions are provided by using the register method of the base function `action`."
   ]
  },
  {
   "cell_type": "code",
   "execution_count": 15,
   "metadata": {},
   "outputs": [],
   "source": [
    "from checkpoint_schedules import Forward, EndForward, Reverse, Copy, EndReverse\n",
    "import functools\n",
    "\n",
    "class CheckpointingManager():\n",
    "    \"\"\"Manage the forward and adjoint solvers.\n",
    "\n",
    "    Attributes\n",
    "    ----------\n",
    "    save_ram : int\n",
    "        Number of checkpoint that will be stored in RAM.\n",
    "    save_disk : int\n",
    "        Number of checkpoint that will be stored on disk.\n",
    "    list_actions : list\n",
    "        Store the list of actions.\n",
    "    max_n : int\n",
    "        Total steps used to execute the solvers.\n",
    "    \"\"\"\n",
    "    def __init__(self, max_n, save_ram, save_disk=0):\n",
    "        self.max_n = max_n\n",
    "        self.save_ram = save_ram\n",
    "        self.save_disk = save_disk\n",
    "        self.list_actions = []\n",
    "        \n",
    "    def execute(self, cp_schedule):\n",
    "        \"\"\"Execute forward and adjoint with a checkpointing strategy.\n",
    "\n",
    "        Parameters\n",
    "        ----------\n",
    "        cp_schedule : object\n",
    "            Checkpointing schedule.\n",
    "        \"\"\"\n",
    "        @functools.singledispatch\n",
    "        def action(cp_action):\n",
    "            raise TypeError(\"Unexpected action\")\n",
    "\n",
    "        @action.register(Forward)\n",
    "        def action_forward(cp_action):\n",
    "            nonlocal model_n\n",
    "            if cp_action.write_ics:\n",
    "                print((\"*\").rjust(cp_action.n0*4))\n",
    "\n",
    "            print((\"|\" + \"--->\"*(cp_action.n1-cp_action.n0)).rjust(cp_action.n1*4) +\n",
    "                   \"   \"*(self.max_n - cp_action.n1 + 4) + \n",
    "                   self.list_actions[len(self.list_actions) - 1])\n",
    "\n",
    "            n1 = min(cp_action.n1, self.max_n)\n",
    "            model_n = n1\n",
    "            if cp_action.n1 == self.max_n:\n",
    "                cp_schedule.finalize(n1)\n",
    "\n",
    "        @action.register(Reverse)\n",
    "        def action_reverse(cp_action):\n",
    "            nonlocal model_r\n",
    "            print((\"<---\"*(cp_action.n1-cp_action.n0) + \"|\").rjust(cp_action.n1*4) \n",
    "                  + \"   \"*(self.max_n - cp_action.n1 + 4) + \n",
    "                    self.list_actions[len(self.list_actions) - 1])\n",
    "\n",
    "            model_r += cp_action.n1 - cp_action.n0\n",
    "            \n",
    "        @action.register(Copy)\n",
    "        def action_copy(cp_action):\n",
    "            print((\"+\").rjust(cp_action.n*4) \n",
    "                  + \"   \"*(self.max_n + 4) + \n",
    "                    self.list_actions[len(self.list_actions) - 1])\n",
    "\n",
    "    \n",
    "        @action.register(EndForward)\n",
    "        def action_end_forward(cp_action):\n",
    "            assert model_n == self.max_n\n",
    "            print(\"End Forward\")\n",
    "            \n",
    "        @action.register(EndReverse)\n",
    "        def action_end_reverse(cp_action):\n",
    "            nonlocal model_r\n",
    "            assert model_r == self.max_n\n",
    "            print(\"End Reverse\")\n",
    "\n",
    "        model_n = 0\n",
    "        model_r = 0\n",
    "\n",
    "        count = 0\n",
    "        while True:\n",
    "            cp_action = next(cp_schedule)\n",
    "            self.list_actions.append(str(cp_action))\n",
    "            action(cp_action)\n",
    "            count += 1\n",
    "            if isinstance(cp_action, EndReverse):  \n",
    "                break"
   ]
  },
  {
   "cell_type": "markdown",
   "metadata": {},
   "source": [
    "Firstly, let us define the total steps used in the computations and set the number of time steps to store the forward checkpoint data in RAM."
   ]
  },
  {
   "cell_type": "code",
   "execution_count": 16,
   "metadata": {},
   "outputs": [],
   "source": [
    "max_n = 4 # Total number of time steps.\n",
    "save_ram = 2 # Number of steps to save i RAM."
   ]
  },
  {
   "cell_type": "markdown",
   "metadata": {},
   "source": [
    "Next, let us set the `CheckpointingManager` manager object with the attributes defined above. "
   ]
  },
  {
   "cell_type": "code",
   "execution_count": 17,
   "metadata": {},
   "outputs": [],
   "source": [
    "chk_manager = CheckpointingManager(max_n, save_ram) # manager object"
   ]
  },
  {
   "cell_type": "markdown",
   "metadata": {},
   "source": [
    "The *checkpoint_schedules* package provide a range o iterators for the the following checkpoint strategies:\n",
    "* Revolve strategy\n",
    "* Multistage \n",
    "* two-level mixed periodic/binomial\n",
    "* H-Revolve\n",
    "* Mixing Storage\n",
    "* Periodic disk storage\n",
    "\n",
    "We start showing how the *checkpoint_schedules* works by building a schedule iterator (named `chk_iterator`) with the Revolve strategy. The schedule is building on executing `revolver.sequence()`."
   ]
  },
  {
   "cell_type": "code",
   "execution_count": 16,
   "metadata": {},
   "outputs": [],
   "source": [
    "from checkpoint_schedules import Revolve\n",
    "chk_iterator = Revolve(max_n, save_ram)\n",
    "revolver.sequence()"
   ]
  },
  {
   "cell_type": "markdown",
   "metadata": {},
   "source": [
    "`chk_manager.execute(revolver)` provides the executions of the forward and adjoint solvers with."
   ]
  },
  {
   "cell_type": "code",
   "execution_count": null,
   "metadata": {},
   "outputs": [],
   "source": [
    "chk_manager.execute(revolver)"
   ]
  },
  {
   "cell_type": "markdown",
   "metadata": {},
   "source": [
    "The output above illustrates how it works the forward and adjoint executions in time with the *checkpoint_schedules* package. The symbol `|` indicates the step that the solver initialises. The symbom `*` on top of `|` indicates that the data used to restart the forward solver is stored. Whereas the symbol `+` indicates the action of copying the storage data and be used as initial condition for the forward solver recomputations. \n",
    "\n",
    "To complement the illustration above, consider some of the actions explained as follow:\n",
    "\n",
    "* Forward action\n",
    "    - General form: *Forward(n0, n1, write_ics, write_adj_deps, 'storage')*\n",
    "    - Particular form: \n",
    "        * *Forward(0, 2, True, False, 'RAM')*:\n",
    "            - Execute the forward solver from step 0 to step 2.\n",
    "            - Write the forward data (*write_ics* is True) of step 0 to RAM (storage).\n",
    "            - The forward data is not stored for the adjoint computation (*write_adj_deps* is False).\n",
    "\n",
    "        * *Forward(3, 4, False, True, 'RAM')*:\n",
    "            - Execute the forward solver from step 3 to step 4.\n",
    "            - Do not write the forward data (*write_ics* is False) of step 4.\n",
    "            - Store the forward data for the adjoint computation (*write_adj_deps* is *True*) in RAM (storage).\n",
    "\n",
    "* Reverse action\n",
    "     - General form: *Reverse(n1, n0, clear_adj_deps)*\n",
    "     - Particular form:\n",
    "        * *Reverse(4, 3, True)*: \n",
    "            - Execute the adjoint solver from step 4 to step 3.\n",
    "            - Clear the adjoint dependencies (*clear_adj_deps* is True) used in the adjoint computation.\n",
    "* Copy action\n",
    "     - General form: Copy(n, from_storage, delete)\n",
    "     - Particular form:\n",
    "        * Copy(2, 'RAM', True):\n",
    "            - Copy the forward data related to step 2 from RAM.\n",
    "            - Delete the copied data from RAM (*delete* is *True*) as it is not needed anymore to restart the forward solver.\n",
    "\n",
    "        * Copy(0, 'DISK', False):\n",
    "            - Copy the forward data related to step 0 from DISK.\n",
    "            - Do not delete the copied data from DISK (*delete* is *FALSE*).\n",
    "\n"
   ]
  },
  {
   "cell_type": "code",
   "execution_count": 17,
   "metadata": {},
   "outputs": [
    {
     "name": "stdout",
     "output_type": "stream",
     "text": [
      "*\n",
      "|--->--->--->               Forward(0, 3, True, False, 'RAM')\n",
      "           |--->            Forward(3, 4, False, True, 'RAM')\n",
      "End Forward\n",
      "           <---|            Reverse(4, 3, True)\n",
      "+                        Copy(0, 'RAM', False)\n",
      "|--->--->                  Forward(0, 2, False, False, 'NONE')\n",
      "       |--->               Forward(2, 3, False, True, 'RAM')\n",
      "       <---|               Reverse(3, 2, True)\n",
      "+                        Copy(0, 'RAM', False)\n",
      "|--->                     Forward(0, 1, False, False, 'NONE')\n",
      "   |--->                  Forward(1, 2, False, True, 'RAM')\n",
      "   <---|                  Reverse(2, 1, True)\n",
      "+                        Copy(0, 'RAM', True)\n",
      "|--->                     Forward(0, 1, False, True, 'RAM')\n",
      "<---|                     Reverse(1, 0, True)\n",
      "End Reverse\n"
     ]
    }
   ],
   "source": [
    "from checkpoint_schedules import HRevolve\n",
    "s = 0\n",
    "revolver = HRevolve(max_n, save_ram, snap_on_disk=save_disk)\n",
    "revolver.sequence()\n",
    "chk_manager.execute(revolver)"
   ]
  },
  {
   "cell_type": "markdown",
   "metadata": {},
   "source": []
  },
  {
   "cell_type": "markdown",
   "metadata": {},
   "source": [
    "Below we have the schedule obtained from Disk-Revolve and Periodic-Disk-Revolve checkpoint strategies."
   ]
  },
  {
   "cell_type": "code",
   "execution_count": 18,
   "metadata": {},
   "outputs": [
    {
     "name": "stdout",
     "output_type": "stream",
     "text": [
      "None\n",
      "*\n",
      "|--->--->--->               Forward(0, 3, True, False, 'RAM')\n",
      "           |--->            Forward(3, 4, False, True, 'RAM')\n",
      "End Forward\n",
      "           <---|            Reverse(4, 3, True)\n",
      "+                        Copy(0, 'RAM', False)\n",
      "|--->--->                  Forward(0, 2, False, False, 'NONE')\n",
      "       |--->               Forward(2, 3, False, True, 'RAM')\n",
      "       <---|               Reverse(3, 2, True)\n",
      "+                        Copy(0, 'RAM', False)\n",
      "|--->                     Forward(0, 1, False, False, 'NONE')\n",
      "   |--->                  Forward(1, 2, False, True, 'RAM')\n",
      "   <---|                  Reverse(2, 1, True)\n",
      "+                        Copy(0, 'RAM', True)\n",
      "|--->                     Forward(0, 1, False, True, 'RAM')\n",
      "<---|                     Reverse(1, 0, True)\n",
      "End Reverse\n"
     ]
    }
   ],
   "source": [
    "from checkpoint_schedules import DiskRevolve\n",
    "revolver = DiskRevolve(max_n, save_ram, snap_on_disk=save_disk)\n",
    "print(revolver._schedule)\n",
    "revolver.sequence()\n",
    "chk_manager.execute(revolver)"
   ]
  },
  {
   "cell_type": "code",
   "execution_count": 19,
   "metadata": {},
   "outputs": [
    {
     "name": "stdout",
     "output_type": "stream",
     "text": [
      "We use periods of size  2\n",
      "*\n",
      "|--->--->                  Forward(0, 2, True, False, 'disk')\n",
      "       *\n",
      "       |--->               Forward(2, 3, True, False, 'RAM')\n",
      "           |--->            Forward(3, 4, False, True, 'RAM')\n",
      "End Forward\n",
      "           <---|            Reverse(4, 3, True)\n",
      "       +                        Copy(2, 'RAM', True)\n",
      "       |--->               Forward(2, 3, False, True, 'RAM')\n",
      "       <---|               Reverse(3, 2, True)\n",
      "+                        Copy(0, 'disk', False)\n",
      "*\n",
      "|--->                     Forward(0, 1, True, False, 'RAM')\n",
      "   |--->                  Forward(1, 2, False, True, 'RAM')\n",
      "   <---|                  Reverse(2, 1, True)\n",
      "+                        Copy(0, 'RAM', True)\n",
      "|--->                     Forward(0, 1, False, True, 'RAM')\n",
      "<---|                     Reverse(1, 0, True)\n",
      "End Reverse\n"
     ]
    }
   ],
   "source": [
    "from checkpoint_schedules import PeriodicDiskRevolve\n",
    "revolver = PeriodicDiskRevolve(max_n, save_ram, snap_on_disk=save_disk)\n",
    "revolver.sequence(period=2)\n",
    "chk_manager.execute(revolver)"
   ]
  },
  {
   "cell_type": "code",
   "execution_count": 20,
   "metadata": {},
   "outputs": [
    {
     "name": "stdout",
     "output_type": "stream",
     "text": [
      "|--->                     Forward(0, 1, False, True, 'disk')\n",
      "   *\n",
      "   |--->--->               Forward(1, 3, True, False, 'disk')\n",
      "           |--->            Forward(3, 4, False, True, 'RAM')\n",
      "End Forward\n",
      "           <---|            Reverse(4, 3, True)\n",
      "   +                        Copy(1, 'disk', True)\n",
      "   |--->                  Forward(1, 2, False, True, 'disk')\n",
      "       |--->               Forward(2, 3, False, True, 'RAM')\n",
      "       <---|               Reverse(3, 2, True)\n",
      "   +                        Copy(1, 'disk', True)\n",
      "   <---|                  Reverse(2, 1, True)\n",
      "+                        Copy(0, 'disk', True)\n",
      "<---|                     Reverse(1, 0, True)\n",
      "End Reverse\n"
     ]
    }
   ],
   "source": [
    "from checkpoint_schedules import MixedCheckpointSchedule\n",
    "snapshots = 2\n",
    "revolver = MixedCheckpointSchedule(max_n, snapshots)\n",
    "chk_manager.execute(revolver)"
   ]
  },
  {
   "cell_type": "code",
   "execution_count": 25,
   "metadata": {},
   "outputs": [
    {
     "name": "stdout",
     "output_type": "stream",
     "text": [
      "*\n",
      "|--->--->                  Forward(0, 2, True, False, 'disk')\n",
      "       *\n",
      "       |--->               Forward(2, 3, True, False, 'disk')\n",
      "           |--->            Forward(3, 4, False, True, 'RAM')\n",
      "End Forward\n",
      "           <---|            Reverse(4, 3, True)\n",
      "       +                        Copy(2, 'disk', True)\n",
      "       |--->               Forward(2, 3, False, True, 'RAM')\n",
      "       <---|               Reverse(3, 2, True)\n",
      "+                        Copy(0, 'disk', False)\n",
      "|--->                     Forward(0, 1, False, False, 'NONE')\n",
      "   |--->                  Forward(1, 2, False, True, 'RAM')\n",
      "   <---|                  Reverse(2, 1, True)\n",
      "+                        Copy(0, 'disk', True)\n",
      "|--->                     Forward(0, 1, False, True, 'RAM')\n",
      "<---|                     Reverse(1, 0, True)\n",
      "End Reverse\n"
     ]
    }
   ],
   "source": [
    "from checkpoint_schedules import MultistageCheckpointSchedule\n",
    "snapshots = 2\n",
    "revolver = MultistageCheckpointSchedule(max_n, 0, 2)\n",
    "chk_manager.execute(revolver)"
   ]
  },
  {
   "cell_type": "code",
   "execution_count": 22,
   "metadata": {},
   "outputs": [
    {
     "name": "stdout",
     "output_type": "stream",
     "text": [
      "*\n",
      "|--->--->                  Forward(0, 2, True, False, 'disk')\n",
      "       *\n",
      "       |--->--->            Forward(2, 4, True, False, 'disk')\n",
      "End Forward\n",
      "       +                        Copy(2, 'disk', False)\n",
      "       |--->               Forward(2, 3, False, False, 'NONE')\n",
      "           |--->            Forward(3, 4, False, True, 'RAM')\n",
      "           <---|            Reverse(4, 3, True)\n",
      "       +                        Copy(2, 'disk', False)\n",
      "       |--->               Forward(2, 3, False, True, 'RAM')\n",
      "       <---|               Reverse(3, 2, True)\n",
      "+                        Copy(0, 'disk', False)\n",
      "|--->                     Forward(0, 1, False, False, 'NONE')\n",
      "   |--->                  Forward(1, 2, False, True, 'RAM')\n",
      "   <---|                  Reverse(2, 1, True)\n",
      "+                        Copy(0, 'disk', False)\n",
      "|--->                     Forward(0, 1, False, True, 'RAM')\n",
      "<---|                     Reverse(1, 0, True)\n",
      "End Reverse\n"
     ]
    }
   ],
   "source": [
    "from checkpoint_schedules import TwoLevelCheckpointSchedule\n",
    "revolver = TwoLevelCheckpointSchedule(2, 10)\n",
    "chk_manager.execute(revolver)\n"
   ]
  },
  {
   "cell_type": "code",
   "execution_count": 23,
   "metadata": {},
   "outputs": [
    {
     "name": "stdout",
     "output_type": "stream",
     "text": [
      "*\n",
      "|--->--->                  Forward(0, 2, True, False, 'disk')\n",
      "       *\n",
      "       |--->--->            Forward(2, 4, True, False, 'disk')\n",
      "End Forward\n",
      "       +                        Copy(2, 'disk', False)\n",
      "       |--->--->            Forward(2, 4, False, True, 'RAM')\n",
      "       <---<---|            Reverse(4, 2, True)\n",
      "+                        Copy(0, 'disk', False)\n",
      "|--->--->                  Forward(0, 2, False, True, 'RAM')\n",
      "<---<---|                  Reverse(2, 0, True)\n",
      "End Reverse\n"
     ]
    }
   ],
   "source": [
    "from checkpoint_schedules import PeriodicDiskCheckpointSchedule\n",
    "revolver = PeriodicDiskCheckpointSchedule(2)\n",
    "chk_manager.execute(revolver)"
   ]
  },
  {
   "cell_type": "code",
   "execution_count": 24,
   "metadata": {},
   "outputs": [
    {
     "name": "stdout",
     "output_type": "stream",
     "text": [
      "*\n",
      "|--->--->--->               Forward(0, 3, True, False, 'RAM')\n",
      "           |--->            Forward(3, 4, False, True, 'RAM')\n",
      "End Forward\n",
      "           <---|            Reverse(4, 3, True)\n",
      "+                        Copy(0, 'RAM', False)\n",
      "|--->--->                  Forward(0, 2, False, False, 'NONE')\n",
      "       |--->               Forward(2, 3, False, True, 'RAM')\n",
      "       <---|               Reverse(3, 2, True)\n",
      "+                        Copy(0, 'RAM', False)\n",
      "|--->                     Forward(0, 1, False, False, 'NONE')\n",
      "   |--->                  Forward(1, 2, False, True, 'RAM')\n",
      "   <---|                  Reverse(2, 1, True)\n",
      "+                        Copy(0, 'RAM', True)\n",
      "|--->                     Forward(0, 1, False, True, 'RAM')\n",
      "<---|                     Reverse(1, 0, True)\n",
      "End Reverse\n"
     ]
    }
   ],
   "source": []
  },
  {
   "cell_type": "markdown",
   "metadata": {},
   "source": [
    "This first example gives the basics of executions involving an adjoint-based gradient using *checkpoint_schedules* package. The next section shows an example an application of adjoint-based gradient problem."
   ]
  }
 ],
 "metadata": {
  "kernelspec": {
   "display_name": "Python 3 (ipykernel)",
   "language": "python",
   "name": "python3"
  },
  "language_info": {
   "codemirror_mode": {
    "name": "ipython",
    "version": 3
   },
   "file_extension": ".py",
   "mimetype": "text/x-python",
   "name": "python",
   "nbconvert_exporter": "python",
   "pygments_lexer": "ipython3",
   "version": "3.11.2"
  }
 },
 "nbformat": 4,
 "nbformat_minor": 2
}
