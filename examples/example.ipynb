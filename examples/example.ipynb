{
 "cells": [
  {
   "attachments": {},
   "cell_type": "markdown",
   "metadata": {},
   "source": [
    "## Using *checkpoint_schedules* package\n",
    "\n",
    "The *checkpoint_schedules* package offers a squedule of actions that enable the coordination of an adjoint-based gradient executions through a checkpoint strategy. The checkpoint schedule is built by the sequence of actions referred to as *Forward, EndForward, Reverse, Copy, EndReverse*. The actions provides functionalities such as storing the forward checkpoint data used to restart the forward solver, storing the forward checkpoint data for adjoint computations, and retrieving the stored data for both the forward solver restart and the adjoint computation. \n",
    "\n",
    "In the following code, we have implemented the `CheckpointingManager` class, which allows the manegement of the forward and adjoint executions in time. On using `CheckpointingManager.execute` method, we iterate over a sequence of actions given by the schedule `cp_schedule`. The actions are defined by using single-dispatch functions, where the `action` function is the generic function using the singledispatch decorator. Specific functions for different types of *checkpoint_schedules* actions are provided by using the register method of the base function `action`."
   ]
  },
  {
   "cell_type": "code",
   "execution_count": 7,
   "metadata": {},
   "outputs": [],
   "source": [
    "from checkpoint_schedules import Forward, EndForward, Reverse, Copy, EndReverse\n",
    "import functools\n",
    "\n",
    "class CheckpointingManager():\n",
    "    \"\"\"Manage the forward and adjoint solvers.\n",
    "\n",
    "    Attributes\n",
    "    ----------\n",
    "    adj_grad_problem : object\n",
    "        Adjoint-based gradient object.\n",
    "    save_ram : int\n",
    "        Number of checkpoint that will be stored in RAM.\n",
    "    save_disk : int\n",
    "        Number of checkpoint that will be stored on disk.\n",
    "    list_actions : list\n",
    "        Store the list of actions.\n",
    "    max_n : int\n",
    "        Total steps used to execute the solvers.\n",
    "    \"\"\"\n",
    "    def __init__(self, max_n, save_ram, save_disk):\n",
    "        self.max_n = max_n\n",
    "        self.save_ram = save_ram\n",
    "        self.save_disk = save_disk\n",
    "        self.list_actions = []\n",
    "        \n",
    "    def execute(self, cp_schedule):\n",
    "        \"\"\"Execute forward and adjoint with a checkpointing strategy.\n",
    "\n",
    "        Parameters\n",
    "        ----------\n",
    "        cp_schedule : object\n",
    "            Checkpointing schedule.\n",
    "        \"\"\"\n",
    "        @functools.singledispatch\n",
    "        def action(cp_action):\n",
    "            raise TypeError(\"Unexpected action\")\n",
    "\n",
    "        @action.register(Forward)\n",
    "        def action_forward(cp_action):\n",
    "            nonlocal model_n\n",
    "            if cp_action.write_ics:\n",
    "                print((\"*\").rjust(cp_action.n0*4))\n",
    "\n",
    "            print((\"|\" + \"--->\"*(cp_action.n1-cp_action.n0)).rjust(cp_action.n1*4) +\n",
    "                   \"   \"*(self.max_n - cp_action.n0) + \n",
    "                   self.list_actions[len(self.list_actions) - 1])\n",
    "\n",
    "            n1 = min(cp_action.n1, self.max_n)\n",
    "            model_n = n1\n",
    "            if cp_action.n1 == self.max_n:\n",
    "                cp_schedule.finalize(n1)\n",
    "\n",
    "        @action.register(Reverse)\n",
    "        def action_reverse(cp_action):\n",
    "            nonlocal model_r\n",
    "            print((\"<---\"*(cp_action.n1-cp_action.n0) + \"|\").rjust(cp_action.n1*4) \n",
    "                  + \"   \"*(self.max_n - cp_action.n0) + \n",
    "                    self.list_actions[len(self.list_actions) - 1])\n",
    "\n",
    "            model_r += cp_action.n1 - cp_action.n0\n",
    "            \n",
    "        @action.register(Copy)\n",
    "        def action_copy(cp_action):\n",
    "            print((\"+\").rjust(cp_action.n*4) \n",
    "                  + \" \"*(self.max_n - cp_action.n) + \n",
    "                    self.list_actions[len(self.list_actions) - 1])\n",
    "\n",
    "    \n",
    "        @action.register(EndForward)\n",
    "        def action_end_forward(cp_action):\n",
    "            assert model_n == self.max_n\n",
    "            print(\"End Forward\")\n",
    "            \n",
    "        @action.register(EndReverse)\n",
    "        def action_end_reverse(cp_action):\n",
    "            nonlocal model_r\n",
    "            assert model_r == self.max_n\n",
    "            print(\"End Reverse\")\n",
    "\n",
    "        model_n = 0\n",
    "        model_r = 0\n",
    "\n",
    "        count = 0\n",
    "        while True:\n",
    "            cp_action = next(cp_schedule)\n",
    "            self.list_actions.append(str(cp_action))\n",
    "            action(cp_action)\n",
    "            count += 1\n",
    "            if isinstance(cp_action, EndReverse):  \n",
    "                break"
   ]
  },
  {
   "attachments": {},
   "cell_type": "markdown",
   "metadata": {},
   "source": [
    "Firstly, let us define the total steps used in the computations, and the number of steps that the checkpoint data is going to be saved in RAM and disk."
   ]
  },
  {
   "cell_type": "code",
   "execution_count": 8,
   "metadata": {},
   "outputs": [],
   "source": [
    "max_n = 4 # Total number of time steps.\n",
    "save_ram = 1 # Number of steps to save i RAM.\n",
    "save_disk = 1 # Number of steps to save in disk."
   ]
  },
  {
   "cell_type": "markdown",
   "metadata": {},
   "source": [
    "Next, let us set the `CheckpointingManager` manage object with the attibutes defined above. "
   ]
  },
  {
   "cell_type": "code",
   "execution_count": 9,
   "metadata": {},
   "outputs": [],
   "source": [
    "chk_manager = CheckpointingManager(max_n, save_ram, save_disk) # manager object"
   ]
  },
  {
   "attachments": {},
   "cell_type": "markdown",
   "metadata": {},
   "source": [
    "The *checkpoint_schedules* package is already working with multistage [2], the two-level mixed periodic/binomial [6], and H-Revolve [4] schedules that were originally implemented by [4]. However, we carried out minor modifications to reach sequence of operation attending our approach, i. e., the schedule has explicity actions of writing and deleting the data required for the forward solver restarting and for the use in the adjoint computation. If you want more details of the revolver algorithimics, fell free to access the API documentation avaiable here. \n",
    "\n",
    "Additionally, *checkpoint_schedules* provides an iterator that convert revolver operations into the *checkpoint_schedules* format. \n",
    "\n",
    "Before to obtain the schedule, we need to define the revolver approach. Below we choose the schedule iterator `revolver` with the H-Revolve approach."
   ]
  },
  {
   "cell_type": "code",
   "execution_count": 10,
   "metadata": {},
   "outputs": [],
   "source": [
    "from checkpoint_schedules import HRevolve\n",
    "revolver = HRevolve(max_n, save_ram, save_disk)"
   ]
  },
  {
   "cell_type": "markdown",
   "metadata": {},
   "source": [
    "We then define the sequence by `revolver.sequence()` and execute the forward and adjoint solver with `chk_manager.execute(revolver)`."
   ]
  },
  {
   "cell_type": "code",
   "execution_count": 11,
   "metadata": {},
   "outputs": [
    {
     "name": "stdout",
     "output_type": "stream",
     "text": [
      "*\n",
      "|--->--->            Forward(0, 2, True, False, 'DISK')\n",
      "       *\n",
      "       |--->      Forward(2, 3, True, False, 'RAM')\n",
      "           |--->   Forward(3, 4, False, True, 'RAM')\n",
      "End Forward\n",
      "           <---|   Reverse(4, 3, True)\n",
      "       +  Copy(2, 'RAM', True)\n",
      "       |--->      Forward(2, 3, False, True, 'RAM')\n",
      "       <---|      Reverse(3, 2, True)\n",
      "+    Copy(0, 'DISK', False)\n",
      "*\n",
      "|--->            Forward(0, 1, True, False, 'RAM')\n",
      "   |--->         Forward(1, 2, False, True, 'RAM')\n",
      "   <---|         Reverse(2, 1, True)\n",
      "+    Copy(0, 'RAM', True)\n",
      "|--->            Forward(0, 1, False, True, 'RAM')\n",
      "<---|            Reverse(1, 0, True)\n",
      "End Reverse\n"
     ]
    }
   ],
   "source": [
    "revolver.sequence()\n",
    "chk_manager.execute(revolver)"
   ]
  },
  {
   "attachments": {},
   "cell_type": "markdown",
   "metadata": {},
   "source": [
    "The output above illustrates how it works the forward and adjoint executions in time with the *checkpoint_schedules* package. The symbol `|` indicates the step that the solver initialises. The symbom `*` on top of `|` indicates that the data used to restart the forward solver is stored. Whereas the symbol `+` indicates the action of copying the storage data and be used as initial condition for the forward solver recomputations. \n",
    "\n",
    "To complement the illustration above, consider some of the actions explained as follow:\n",
    "\n",
    "* Forward action\n",
    "    - General form: *`Forward`(n0, n1, write_ics, write_adj_deps, 'storage')*\n",
    "    - Particular form: \n",
    "        * *Forward(0, 2, True, False, 'RAM')*:\n",
    "            - Execute the forward solver from step 0 to step 2.\n",
    "            - Write the forward data (*write_ics* is True) of step 0 to RAM (storage).\n",
    "            - The forward data is not stored for the adjoint computation (*write_adj_deps* is False).\n",
    "\n",
    "        * *Forward(3, 4, False, True, 'RAM')*:\n",
    "            - Execute the forward solver from step 3 to step 4.\n",
    "            - Do not write the forward data (*write_ics* is False) of step 4.\n",
    "            - Store the forward data for the adjoint computation (*write_adj_deps* is *True*) in RAM (storage).\n",
    "\n",
    "* Reverse action\n",
    "     - General form: *Reverse(n1, n0, clear_adj_deps)*\n",
    "     - Particular form:\n",
    "        * *Reverse(4, 3, True)*: \n",
    "            - Execute the adjoint solver from step 4 to step 3.\n",
    "            - Clear the adjoint dependencies (*clear_adj_deps* is True) used in the adjoint computation.\n",
    "* Copy action\n",
    "     - General form: Copy(n, from_storage, delete)\n",
    "     - Particular form:\n",
    "        * Copy(2, 'RAM', True):\n",
    "            - Copy the forward data related to step 2 from RAM.\n",
    "            - Delete the copied data from RAM (*delete* is *True*) as it is not needed anymore to restart the forward solver.\n",
    "\n",
    "        * Copy(0, 'DISK', False):\n",
    "            - Copy the forward data related to step 0 from DISK.\n",
    "            - Do not delete the copied data from DISK (*delete* is *FALSE*).\n",
    "\n"
   ]
  },
  {
   "attachments": {},
   "cell_type": "markdown",
   "metadata": {},
   "source": [
    "This first example gives the basics of executions involving an adjoint-based gradient using *checkpoint_schedules* package. The next section shows an example an application of adjoint-based gradient problem."
   ]
  }
 ],
 "metadata": {
  "kernelspec": {
   "display_name": "Python 3 (ipykernel)",
   "language": "python",
   "name": "python3"
  },
  "language_info": {
   "codemirror_mode": {
    "name": "ipython",
    "version": 3
   },
   "file_extension": ".py",
   "mimetype": "text/x-python",
   "name": "python",
   "nbconvert_exporter": "python",
   "pygments_lexer": "ipython3",
   "version": "3.11.2"
  }
 },
 "nbformat": 4,
 "nbformat_minor": 2
}
