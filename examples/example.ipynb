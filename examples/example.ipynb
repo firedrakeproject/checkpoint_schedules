{
 "cells": [
  {
   "attachments": {},
   "cell_type": "markdown",
   "metadata": {},
   "source": [
    "## Using *checkpoint_schedules* package\n",
    "\n",
    "The *checkpoint_schedules* package offers a squedule of actions that enable the coordination of an adjoint-based gradient executions through a checkpoint strategy. The checkpoint schedule is built by the sequence of actions referred to as *Forward, EndForward, Reverse, Copy, EndReverse*. The actions provides functionalities such as storing the forward checkpoint data used to restart the forward solver, storing the forward checkpoint data for adjoint computations, and retrieving the stored data for both the forward solver restart and the adjoint computation. \n",
    "\n",
    "In the following code, we have implemented the `CheckpointingManager` class, which allows the manegement of the forward and adjoint executions in time. On using `CheckpointingManager.execute` method, we iterate over a sequence of actions given by the schedule `cp_schedule`. The actions are defined by using single-dispatch functions, where the `action` function is the generic function using the singledispatch decorator. Specific functions for different types of *checkpoint_schedules* actions are provided by using the register method of the base function `action`."
   ]
  },
  {
   "cell_type": "code",
   "execution_count": 8,
   "metadata": {},
   "outputs": [],
   "source": [
    "from checkpoint_schedules import Forward, EndForward, Reverse, Copy, EndReverse\n",
    "import functools\n",
    "\n",
    "class CheckpointingManager():\n",
    "    \"\"\"Manage the forward and adjoint solvers.\n",
    "\n",
    "    Attributes\n",
    "    ----------\n",
    "    adj_grad_problem : object\n",
    "        Adjoint-based gradient object.\n",
    "    save_ram : int\n",
    "        Number of checkpoint that will be stored in RAM.\n",
    "    save_disk : int\n",
    "        Number of checkpoint that will be stored on disk.\n",
    "    list_actions : list\n",
    "        Store the list of actions.\n",
    "    max_n : int\n",
    "        Total steps used to execute the solvers.\n",
    "    \"\"\"\n",
    "    def __init__(self, max_n, save_ram, save_disk):\n",
    "        self.max_n = max_n\n",
    "        self.save_ram = save_ram\n",
    "        self.save_disk = save_disk\n",
    "        self.list_actions = []\n",
    "        \n",
    "    def execute(self, cp_schedule):\n",
    "        \"\"\"Execute forward and adjoint with a checkpointing strategy.\n",
    "\n",
    "        Parameters\n",
    "        ----------\n",
    "        cp_schedule : object\n",
    "            Checkpointing schedule.\n",
    "        \"\"\"\n",
    "        @functools.singledispatch\n",
    "        def action(cp_action):\n",
    "            raise TypeError(\"Unexpected action\")\n",
    "\n",
    "        @action.register(Forward)\n",
    "        def action_forward(cp_action):\n",
    "            nonlocal model_n\n",
    "            if cp_action.write_ics:\n",
    "                print((\"*\").rjust(cp_action.n0*4))\n",
    "\n",
    "            print((\"|\" + \"--->\"*(cp_action.n1-cp_action.n0)).rjust(cp_action.n1*4) +\n",
    "                   \"   \"*(self.max_n - cp_action.n0) + \n",
    "                   self.list_actions[len(self.list_actions) - 1])\n",
    "\n",
    "            n1 = min(cp_action.n1, self.max_n)\n",
    "            model_n = n1\n",
    "            if cp_action.n1 == self.max_n:\n",
    "                cp_schedule.finalize(n1)\n",
    "\n",
    "        @action.register(Reverse)\n",
    "        def action_reverse(cp_action):\n",
    "            nonlocal model_r\n",
    "            print((\"<---\"*(cp_action.n1-cp_action.n0) + \"|\").rjust(cp_action.n1*4) \n",
    "                  + \"   \"*(self.max_n - cp_action.n0) + \n",
    "                    self.list_actions[len(self.list_actions) - 1])\n",
    "\n",
    "            model_r += cp_action.n1 - cp_action.n0\n",
    "            \n",
    "        @action.register(Copy)\n",
    "        def action_copy(cp_action):\n",
    "            print((\"+\").rjust(cp_action.n*4) \n",
    "                  + \" \"*(self.max_n - cp_action.n) + \n",
    "                    self.list_actions[len(self.list_actions) - 1])\n",
    "\n",
    "    \n",
    "        @action.register(EndForward)\n",
    "        def action_end_forward(cp_action):\n",
    "            assert model_n == self.max_n\n",
    "            print(\"End Forward\")\n",
    "            \n",
    "        @action.register(EndReverse)\n",
    "        def action_end_reverse(cp_action):\n",
    "            nonlocal model_r\n",
    "            assert model_r == self.max_n\n",
    "            print(\"End Reverse\")\n",
    "\n",
    "        model_n = 0\n",
    "        model_r = 0\n",
    "\n",
    "        count = 0\n",
    "        while True:\n",
    "            cp_action = next(cp_schedule)\n",
    "            self.list_actions.append(str(cp_action))\n",
    "            action(cp_action)\n",
    "            count += 1\n",
    "            if isinstance(cp_action, EndReverse):  \n",
    "                break"
   ]
  },
  {
   "attachments": {},
   "cell_type": "markdown",
   "metadata": {},
   "source": [
    "Firstly, let us define the total steps used in the computations, and the number of steps that the checkpoint data is going to be saved in RAM and disk."
   ]
  },
  {
   "cell_type": "code",
   "execution_count": 9,
   "metadata": {},
   "outputs": [],
   "source": [
    "max_n = 100 # Total number of time steps.\n",
    "save_ram = 1 # Number of steps to save i RAM.\n",
    "save_disk = 2 # Number of steps to save in disk."
   ]
  },
  {
   "attachments": {},
   "cell_type": "markdown",
   "metadata": {},
   "source": [
    "Next, let us set the `CheckpointingManager` manage object with the attibutes defined above. "
   ]
  },
  {
   "cell_type": "code",
   "execution_count": 10,
   "metadata": {},
   "outputs": [],
   "source": [
    "chk_manager = CheckpointingManager(max_n, save_ram, save_disk) # manager object"
   ]
  },
  {
   "attachments": {},
   "cell_type": "markdown",
   "metadata": {},
   "source": [
    "The *checkpoint_schedules* package is already working with multistage [2], the two-level mixed periodic/binomial [6], and H-Revolve [4] schedules that were originally implemented by [4]. However, we carried out minor modifications to reach sequence of operation attending our approach, i. e., the schedule has explicity actions of writing and deleting the data required for the forward solver restarting and for the use in the adjoint computation. If you want more details of the revolver algorithimics, fell free to access the API documentation avaiable here. \n",
    "\n",
    "Additionally, *checkpoint_schedules* provides an iterator that convert revolver operations into the *checkpoint_schedules* format. \n",
    "\n",
    "Before to obtain the schedule, we need to define the revolver approach. Below we choose the schedule iterator `revolver` with the H-Revolve approach."
   ]
  },
  {
   "cell_type": "code",
   "execution_count": 11,
   "metadata": {},
   "outputs": [],
   "source": [
    "from checkpoint_schedules import HRevolve\n",
    "s = 0\n",
    "revolver = HRevolve(max_n, save_ram, save_disk)"
   ]
  },
  {
   "attachments": {},
   "cell_type": "markdown",
   "metadata": {},
   "source": [
    "We then define the sequence by `revolver.sequence()` and execute the forward and adjoint solver with `chk_manager.execute(revolver)`."
   ]
  },
  {
   "cell_type": "code",
   "execution_count": 12,
   "metadata": {},
   "outputs": [
    {
     "name": "stdout",
     "output_type": "stream",
     "text": [
      "[W^1_0, F_0->72, W^1_72, F_72->93, W^0_93, F_93->99, WF^0_100, F_99->100, B_100->99, DF^0_100, R^0_93, F_93->98, WF^0_99, F_98->99, B_99->98, DF^0_99, R^0_93, F_93->97, WF^0_98, F_97->98, B_98->97, DF^0_98, R^0_93, F_93->96, WF^0_97, F_96->97, B_97->96, DF^0_97, R^0_93, F_93->95, WF^0_96, F_95->96, B_96->95, DF^0_96, R^0_93, F_93->94, WF^0_95, F_94->95, B_95->94, DF^0_95, R^0_93, WF^0_94, F_93->94, B_94->93, DF^0_94, D^0_93, R^1_72, F_72->87, W^0_87, F_87->92, WF^0_93, F_92->93, B_93->92, DF^0_93, R^0_87, F_87->91, WF^0_92, F_91->92, B_92->91, DF^0_92, R^0_87, F_87->90, WF^0_91, F_90->91, B_91->90, DF^0_91, R^0_87, F_87->89, WF^0_90, F_89->90, B_90->89, DF^0_90, R^0_87, F_87->88, WF^0_89, F_88->89, B_89->88, DF^0_89, R^0_87, WF^0_88, F_87->88, B_88->87, DF^0_88, D^0_87, R^1_72, F_72->82, W^0_82, F_82->86, WF^0_87, F_86->87, B_87->86, DF^0_87, R^0_82, F_82->85, WF^0_86, F_85->86, B_86->85, DF^0_86, R^0_82, F_82->84, WF^0_85, F_84->85, B_85->84, DF^0_85, R^0_82, F_82->83, WF^0_84, F_83->84, B_84->83, DF^0_84, R^0_82, WF^0_83, F_82->83, B_83->82, DF^0_83, D^0_82, R^1_72, F_72->78, W^0_78, F_78->81, WF^0_82, F_81->82, B_82->81, DF^0_82, R^0_78, F_78->80, WF^0_81, F_80->81, B_81->80, DF^0_81, R^0_78, F_78->79, WF^0_80, F_79->80, B_80->79, DF^0_80, R^0_78, WF^0_79, F_78->79, B_79->78, DF^0_79, D^0_78, R^1_72, F_72->75, W^0_75, F_75->77, WF^0_78, F_77->78, B_78->77, DF^0_78, R^0_75, F_75->76, WF^0_77, F_76->77, B_77->76, DF^0_77, R^0_75, WF^0_76, F_75->76, B_76->75, DF^0_76, D^0_75, R^1_72, F_72->73, W^0_73, F_73->74, WF^0_75, F_74->75, B_75->74, DF^0_75, R^0_73, WF^0_74, F_73->74, B_74->73, DF^0_74, D^0_73, R^1_72, WF^0_73, F_72->73, B_73->72, DF^0_73, R^1_0, F_0->50, W^1_50, F_50->66, W^0_66, F_66->71, WF^0_72, F_71->72, B_72->71, DF^0_72, R^0_66, F_66->70, WF^0_71, F_70->71, B_71->70, DF^0_71, R^0_66, F_66->69, WF^0_70, F_69->70, B_70->69, DF^0_70, R^0_66, F_66->68, WF^0_69, F_68->69, B_69->68, DF^0_69, R^0_66, F_66->67, WF^0_68, F_67->68, B_68->67, DF^0_68, R^0_66, WF^0_67, F_66->67, B_67->66, DF^0_67, D^0_66, R^1_50, F_50->61, W^0_61, F_61->65, WF^0_66, F_65->66, B_66->65, DF^0_66, R^0_61, F_61->64, WF^0_65, F_64->65, B_65->64, DF^0_65, R^0_61, F_61->63, WF^0_64, F_63->64, B_64->63, DF^0_64, R^0_61, F_61->62, WF^0_63, F_62->63, B_63->62, DF^0_63, R^0_61, WF^0_62, F_61->62, B_62->61, DF^0_62, D^0_61, R^1_50, F_50->57, W^0_57, F_57->60, WF^0_61, F_60->61, B_61->60, DF^0_61, R^0_57, F_57->59, WF^0_60, F_59->60, B_60->59, DF^0_60, R^0_57, F_57->58, WF^0_59, F_58->59, B_59->58, DF^0_59, R^0_57, WF^0_58, F_57->58, B_58->57, DF^0_58, D^0_57, R^1_50, F_50->54, W^0_54, F_54->56, WF^0_57, F_56->57, B_57->56, DF^0_57, R^0_54, F_54->55, WF^0_56, F_55->56, B_56->55, DF^0_56, R^0_54, WF^0_55, F_54->55, B_55->54, DF^0_55, D^0_54, R^1_50, F_50->52, W^0_52, F_52->53, WF^0_54, F_53->54, B_54->53, DF^0_54, R^0_52, WF^0_53, F_52->53, B_53->52, DF^0_53, D^0_52, R^1_50, W^0_50, F_50->51, WF^0_52, F_51->52, B_52->51, DF^0_52, R^0_50, WF^0_51, F_50->51, B_51->50, DF^0_51, D^0_50, R^1_0, F_0->30, W^1_30, F_30->44, W^0_44, F_44->49, WF^0_50, F_49->50, B_50->49, DF^0_50, R^0_44, F_44->48, WF^0_49, F_48->49, B_49->48, DF^0_49, R^0_44, F_44->47, WF^0_48, F_47->48, B_48->47, DF^0_48, R^0_44, F_44->46, WF^0_47, F_46->47, B_47->46, DF^0_47, R^0_44, F_44->45, WF^0_46, F_45->46, B_46->45, DF^0_46, R^0_44, WF^0_45, F_44->45, B_45->44, DF^0_45, D^0_44, R^1_30, F_30->39, W^0_39, F_39->43, WF^0_44, F_43->44, B_44->43, DF^0_44, R^0_39, F_39->42, WF^0_43, F_42->43, B_43->42, DF^0_43, R^0_39, F_39->41, WF^0_42, F_41->42, B_42->41, DF^0_42, R^0_39, F_39->40, WF^0_41, F_40->41, B_41->40, DF^0_41, R^0_39, WF^0_40, F_39->40, B_40->39, DF^0_40, D^0_39, R^1_30, F_30->35, W^0_35, F_35->38, WF^0_39, F_38->39, B_39->38, DF^0_39, R^0_35, F_35->37, WF^0_38, F_37->38, B_38->37, DF^0_38, R^0_35, F_35->36, WF^0_37, F_36->37, B_37->36, DF^0_37, R^0_35, WF^0_36, F_35->36, B_36->35, DF^0_36, D^0_35, R^1_30, F_30->32, W^0_32, F_32->34, WF^0_35, F_34->35, B_35->34, DF^0_35, R^0_32, F_32->33, WF^0_34, F_33->34, B_34->33, DF^0_34, R^0_32, WF^0_33, F_32->33, B_33->32, DF^0_33, D^0_32, R^1_30, W^0_30, F_30->31, WF^0_32, F_31->32, B_32->31, DF^0_32, R^0_30, WF^0_31, F_30->31, B_31->30, DF^0_31, D^0_30, R^1_0, F_0->16, W^1_16, F_16->25, W^0_25, F_25->29, WF^0_30, F_29->30, B_30->29, DF^0_30, R^0_25, F_25->28, WF^0_29, F_28->29, B_29->28, DF^0_29, R^0_25, F_25->27, WF^0_28, F_27->28, B_28->27, DF^0_28, R^0_25, F_25->26, WF^0_27, F_26->27, B_27->26, DF^0_27, R^0_25, WF^0_26, F_25->26, B_26->25, DF^0_26, D^0_25, R^1_16, F_16->21, W^0_21, F_21->24, WF^0_25, F_24->25, B_25->24, DF^0_25, R^0_21, F_21->23, WF^0_24, F_23->24, B_24->23, DF^0_24, R^0_21, F_21->22, WF^0_23, F_22->23, B_23->22, DF^0_23, R^0_21, WF^0_22, F_21->22, B_22->21, DF^0_22, D^0_21, R^1_16, F_16->18, W^0_18, F_18->20, WF^0_21, F_20->21, B_21->20, DF^0_21, R^0_18, F_18->19, WF^0_20, F_19->20, B_20->19, DF^0_20, R^0_18, WF^0_19, F_18->19, B_19->18, DF^0_19, D^0_18, R^1_16, W^0_16, F_16->17, WF^0_18, F_17->18, B_18->17, DF^0_18, R^0_16, WF^0_17, F_16->17, B_17->16, DF^0_17, D^0_16, R^1_0, F_0->7, W^1_7, F_7->12, W^0_12, F_12->15, WF^0_16, F_15->16, B_16->15, DF^0_16, R^0_12, F_12->14, WF^0_15, F_14->15, B_15->14, DF^0_15, R^0_12, F_12->13, WF^0_14, F_13->14, B_14->13, DF^0_14, R^0_12, WF^0_13, F_12->13, B_13->12, DF^0_13, D^0_12, R^1_7, F_7->9, W^0_9, F_9->11, WF^0_12, F_11->12, B_12->11, DF^0_12, R^0_9, F_9->10, WF^0_11, F_10->11, B_11->10, DF^0_11, R^0_9, WF^0_10, F_9->10, B_10->9, DF^0_10, D^0_9, R^1_7, W^0_7, F_7->8, WF^0_9, F_8->9, B_9->8, DF^0_9, R^0_7, WF^0_8, F_7->8, B_8->7, DF^0_8, D^0_7, R^1_0, F_0->2, W^1_2, F_2->4, W^0_4, F_4->6, WF^0_7, F_6->7, B_7->6, DF^0_7, R^0_4, F_4->5, WF^0_6, F_5->6, B_6->5, DF^0_6, R^0_4, WF^0_5, F_4->5, B_5->4, DF^0_5, D^0_4, R^1_2, W^0_2, F_2->3, WF^0_4, F_3->4, B_4->3, DF^0_4, R^0_2, WF^0_3, F_2->3, B_3->2, DF^0_3, D^0_2, R^1_0, W^0_0, F_0->1, WF^0_2, F_1->2, B_2->1, DF^0_2, R^0_0, WF^0_1, F_0->1, B_1->0, DF^0_1, D^0_0]\n"
     ]
    }
   ],
   "source": [
    "revolver.sequence()\n",
    "print(revolver._schedule)\n",
    "# chk_manager.execute(revolver)"
   ]
  },
  {
   "attachments": {},
   "cell_type": "markdown",
   "metadata": {},
   "source": [
    "The output above illustrates how it works the forward and adjoint executions in time with the *checkpoint_schedules* package. The symbol `|` indicates the step that the solver initialises. The symbom `*` on top of `|` indicates that the data used to restart the forward solver is stored. Whereas the symbol `+` indicates the action of copying the storage data and be used as initial condition for the forward solver recomputations. \n",
    "\n",
    "To complement the illustration above, consider some of the actions explained as follow:\n",
    "\n",
    "* Forward action\n",
    "    - General form: *`Forward`(n0, n1, write_ics, write_adj_deps, 'storage')*\n",
    "    - Particular form: \n",
    "        * *Forward(0, 2, True, False, 'RAM')*:\n",
    "            - Execute the forward solver from step 0 to step 2.\n",
    "            - Write the forward data (*write_ics* is True) of step 0 to RAM (storage).\n",
    "            - The forward data is not stored for the adjoint computation (*write_adj_deps* is False).\n",
    "\n",
    "        * *Forward(3, 4, False, True, 'RAM')*:\n",
    "            - Execute the forward solver from step 3 to step 4.\n",
    "            - Do not write the forward data (*write_ics* is False) of step 4.\n",
    "            - Store the forward data for the adjoint computation (*write_adj_deps* is *True*) in RAM (storage).\n",
    "\n",
    "* Reverse action\n",
    "     - General form: *Reverse(n1, n0, clear_adj_deps)*\n",
    "     - Particular form:\n",
    "        * *Reverse(4, 3, True)*: \n",
    "            - Execute the adjoint solver from step 4 to step 3.\n",
    "            - Clear the adjoint dependencies (*clear_adj_deps* is True) used in the adjoint computation.\n",
    "* Copy action\n",
    "     - General form: Copy(n, from_storage, delete)\n",
    "     - Particular form:\n",
    "        * Copy(2, 'RAM', True):\n",
    "            - Copy the forward data related to step 2 from RAM.\n",
    "            - Delete the copied data from RAM (*delete* is *True*) as it is not needed anymore to restart the forward solver.\n",
    "\n",
    "        * Copy(0, 'DISK', False):\n",
    "            - Copy the forward data related to step 0 from DISK.\n",
    "            - Do not delete the copied data from DISK (*delete* is *FALSE*).\n",
    "\n"
   ]
  },
  {
   "attachments": {},
   "cell_type": "markdown",
   "metadata": {},
   "source": [
    "Below we have the schedule obtained from Disk-Revolve and Periodic-Disk-Revolve checkpoint strategies."
   ]
  },
  {
   "cell_type": "code",
   "execution_count": 6,
   "metadata": {},
   "outputs": [
    {
     "name": "stdout",
     "output_type": "stream",
     "text": [
      "None\n",
      "*\n",
      "|--->--->--->            Forward(0, 3, True, False, 'RAM')\n",
      "           |--->   Forward(3, 4, False, True, 'RAM')\n",
      "End Forward\n",
      "           <---|   Reverse(4, 3, True)\n",
      "+    Copy(0, 'RAM', False)\n",
      "|--->--->            Forward(0, 2, False, False, 'NONE')\n",
      "       |--->      Forward(2, 3, False, True, 'RAM')\n",
      "       <---|      Reverse(3, 2, True)\n",
      "+    Copy(0, 'RAM', False)\n",
      "|--->            Forward(0, 1, False, False, 'NONE')\n",
      "   |--->         Forward(1, 2, False, True, 'RAM')\n",
      "   <---|         Reverse(2, 1, True)\n",
      "+    Copy(0, 'RAM', True)\n",
      "|--->            Forward(0, 1, False, True, 'RAM')\n",
      "<---|            Reverse(1, 0, True)\n",
      "End Reverse\n"
     ]
    }
   ],
   "source": [
    "from checkpoint_schedules import DiskRevolve\n",
    "revolver = DiskRevolve(max_n, save_ram, save_disk)\n",
    "print(revolver._schedule)\n",
    "revolver.sequence()\n",
    "chk_manager.execute(revolver)"
   ]
  },
  {
   "cell_type": "code",
   "execution_count": 7,
   "metadata": {},
   "outputs": [
    {
     "name": "stdout",
     "output_type": "stream",
     "text": [
      "We use periods of size  2\n",
      "*\n",
      "|--->--->            Forward(0, 2, True, False, 'DISK')\n",
      "       *\n",
      "       |--->      Forward(2, 3, True, False, 'RAM')\n",
      "           |--->   Forward(3, 4, False, True, 'RAM')\n",
      "End Forward\n",
      "           <---|   Reverse(4, 3, True)\n",
      "       +  Copy(2, 'RAM', True)\n",
      "       |--->      Forward(2, 3, False, True, 'RAM')\n",
      "       <---|      Reverse(3, 2, True)\n",
      "+    Copy(0, 'DISK', False)\n",
      "*\n",
      "|--->            Forward(0, 1, True, False, 'RAM')\n",
      "   |--->         Forward(1, 2, False, True, 'RAM')\n",
      "   <---|         Reverse(2, 1, True)\n",
      "+    Copy(0, 'RAM', True)\n",
      "|--->            Forward(0, 1, False, True, 'RAM')\n",
      "<---|            Reverse(1, 0, True)\n",
      "End Reverse\n"
     ]
    }
   ],
   "source": [
    "from checkpoint_schedules import PeriodicDiskRevolve\n",
    "revolver = PeriodicDiskRevolve(max_n, save_ram, save_disk)\n",
    "revolver.sequence(period=2)\n",
    "chk_manager.execute(revolver)"
   ]
  },
  {
   "attachments": {},
   "cell_type": "markdown",
   "metadata": {},
   "source": [
    "This first example gives the basics of executions involving an adjoint-based gradient using *checkpoint_schedules* package. The next section shows an example an application of adjoint-based gradient problem."
   ]
  }
 ],
 "metadata": {
  "kernelspec": {
   "display_name": "Python 3 (ipykernel)",
   "language": "python",
   "name": "python3"
  },
  "language_info": {
   "codemirror_mode": {
    "name": "ipython",
    "version": 3
   },
   "file_extension": ".py",
   "mimetype": "text/x-python",
   "name": "python",
   "nbconvert_exporter": "python",
   "pygments_lexer": "ipython3",
   "version": "3.11.2"
  }
 },
 "nbformat": 4,
 "nbformat_minor": 2
}
