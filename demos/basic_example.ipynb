{
 "cells": [
  {
   "cell_type": "markdown",
   "metadata": {},
   "source": [
    "## Using *checkpoint_schedules*\n",
    "\n",
    "This example aims to introduce the usage of *checkpoint_schedules* through an initial illustration of how this package works and how to interpret the run time of forward and adjoint solvers using a schedule and generators provided by *checkpointing_schedules* package. \n",
    "\n",
    "### Managing the forward and adjoint executions\n",
    "Let us consider the `CheckpointingManager` class, which plays the essential role in managing forward and adjoint executions. This management is given by iterating over a schedule with the execution of `CheckpointingManager.execute(cp_schedule)`. To perform this task, the method requires a `cp_schedule` argument, which must be a *checkpoint_schedules* object containing a schedule attribute and a generator method. This generator is responsible for yielding the *checkpoint_schedules* actions to be executed.\n",
    "\n",
    "Whitin `CheckpointingManager.execute`, we implement the *checkpointing_schedules* actions using single-dispatch functions. The base function, `action`, is decorated with the `singledispatch`. Specific actions functions are then established by using the register method of the `action`. Hence, `CheckpointingManager.execute` effectively calls the specific action according to a schedule."
   ]
  },
  {
   "cell_type": "code",
   "execution_count": 1,
   "metadata": {},
   "outputs": [],
   "source": [
    "from checkpoint_schedules import Forward, EndForward, Reverse, Copy, Move, EndReverse, StorageType\n",
    "import functools\n",
    "\n",
    "class CheckpointingManager():\n",
    "    \"\"\"Manage the executions of the forward and adjoint solvers.\n",
    "\n",
    "    Attributes\n",
    "    ----------\n",
    "    max_n : int\n",
    "        Total steps used to execute the solvers.\n",
    "    chk_ram : int, optional\n",
    "        Number of checkpoint stored on `'RAM'`.\n",
    "    chk_disk : int, optional\n",
    "        Number of checkpoint stored on `'DISK'`.\n",
    "    \"\"\"\n",
    "    def __init__(self, max_n, chk_ram=0, chk_disk=0):\n",
    "        self.max_n = max_n\n",
    "        self.save_ram = chk_ram\n",
    "        self.save_disk = chk_disk\n",
    "        self.list_actions = []\n",
    "        \n",
    "    def execute(self, cp_schedule):\n",
    "        \"\"\"Execute forward and adjoint with a checkpointing schedule.\n",
    "\n",
    "        Parameters\n",
    "        ----------\n",
    "        cp_schedule : CheckpointSchedule\n",
    "            Checkpoint schedule object.\n",
    "        \"\"\"\n",
    "        @functools.singledispatch\n",
    "        def action(cp_action):\n",
    "            raise TypeError(\"Unexpected action\")\n",
    "\n",
    "        @action.register(Forward)\n",
    "        def action_forward(cp_action):\n",
    "            def illustrate_runtime(a, b, singlestorage):\n",
    "                if singlestorage:\n",
    "                    print(((a + '\\u2212\\u2212' + b)*(n1-cp_action.n0)).rjust(n1*4) +\n",
    "                   \"   \"*(self.max_n - n1 + 2) + \n",
    "                   self.list_actions[len(self.list_actions) - 1])\n",
    "                else:\n",
    "                    print((a + ('\\u2212\\u2212\\u2212' + b)*(n1-cp_action.n0)).rjust(n1*4) +\n",
    "                    \"   \"*(self.max_n - n1 + 2) + \n",
    "                    self.list_actions[len(self.list_actions) - 1])\n",
    "\n",
    "            nonlocal model_n\n",
    "            n1 = min(cp_action.n1, self.max_n)\n",
    "            if cp_action.write_ics and cp_action.write_adj_deps:\n",
    "                singlestorage = True\n",
    "                a = '\\u002b'\n",
    "                b = '\\u25b6'\n",
    "            else:\n",
    "                singlestorage = False\n",
    "                if cp_action.write_ics:\n",
    "                    a = '\\u002b'\n",
    "                else:\n",
    "                    a = ''\n",
    "                if cp_action.write_adj_deps:\n",
    "                    b = \"\\u25b6\"\n",
    "                else:\n",
    "                    b = \"\\u25b7\"\n",
    "            illustrate_runtime(a, b, singlestorage)\n",
    "            \n",
    "            model_n = n1\n",
    "            if n1 == self.max_n:\n",
    "                # Imposing the latest time step.\n",
    "                # It is required for the online schedule.\n",
    "                cp_schedule.finalize(n1)\n",
    "\n",
    "        @action.register(Reverse)\n",
    "        def action_reverse(cp_action):\n",
    "            nonlocal model_r\n",
    "            print((('\\u25c0' + '\\u2212\\u2212\\u2212')*(cp_action.n1-cp_action.n0)).rjust(cp_action.n1*4) \n",
    "                  + \"   \"*(self.max_n - cp_action.n1 + 2) + \n",
    "                    self.list_actions[len(self.list_actions) - 1])\n",
    "            model_r += cp_action.n1 - cp_action.n0\n",
    "            \n",
    "        @action.register(Copy)\n",
    "        def action_copy(cp_action):\n",
    "            print(\"    \"*(self.max_n + 1) + \n",
    "                    self.list_actions[len(self.list_actions) - 1])\n",
    "\n",
    "        @action.register(Move)\n",
    "        def action_move(cp_action):\n",
    "            print(\"    \"*(self.max_n + 1) + \n",
    "                    self.list_actions[len(self.list_actions) - 1])\n",
    "\n",
    "        @action.register(EndForward)\n",
    "        def action_end_forward(cp_action):\n",
    "            assert model_n == self.max_n\n",
    "            # The correct number of adjoint steps has been taken\n",
    "            print(\"End Forward\" + \"   \"*(self.max_n) + \n",
    "                    self.list_actions[len(self.list_actions) - 1])\n",
    "            if cp_schedule._max_n is None:\n",
    "                cp_schedule._max_n = self.max_n\n",
    "            \n",
    "        @action.register(EndReverse)\n",
    "        def action_end_reverse(cp_action):\n",
    "            nonlocal model_r\n",
    "            assert model_r == self.max_n\n",
    "            print(\"End Reverse\" + \"   \"*(self.max_n) + \n",
    "                  self.list_actions[len(self.list_actions) - 1])\n",
    "\n",
    "        model_n = 0\n",
    "        model_r = 0\n",
    "\n",
    "        for count, cp_action in enumerate(cp_schedule):\n",
    "            self.list_actions.append(str(cp_action))\n",
    "            action(cp_action)\n",
    "            if isinstance(cp_action, EndReverse):  \n",
    "                break"
   ]
  },
  {
   "cell_type": "markdown",
   "metadata": {},
   "source": [
    "### Schedule for no adjoint computation\n",
    "\n",
    "The code below creates the solver manager object given by the class `CheckpointManager`. In this example, the adjoint computation is not performed and there is no the storage of the forward data. Therefore, only maximum number of steps (representing `max_n`) is the required argument. "
   ]
  },
  {
   "cell_type": "code",
   "execution_count": 2,
   "metadata": {},
   "outputs": [],
   "source": [
    "max_n = 4 # Total number of time steps.\n",
    "solver_manager = CheckpointingManager(max_n) # manager object"
   ]
  },
  {
   "cell_type": "markdown",
   "metadata": {},
   "source": [
    "The `NoneCheckpointSchedule` provides the schedule and the generator to execute only the forward solver without storage the forward data."
   ]
  },
  {
   "cell_type": "code",
   "execution_count": 3,
   "metadata": {},
   "outputs": [
    {
     "name": "stdout",
     "output_type": "stream",
     "text": [
      "−−−▷−−−▷−−−▷−−−▷      Forward(0, 9223372036854775807, False, False, <StorageType.NONE: None>)\n",
      "End Forward            EndForward()\n"
     ]
    }
   ],
   "source": [
    "from checkpoint_schedules import NoneCheckpointSchedule\n",
    "cp_schedule = NoneCheckpointSchedule() # Checkpoint schedule object\n",
    "solver_manager.execute(cp_schedule) # Execute the forward solver by following the schedule."
   ]
  },
  {
   "cell_type": "markdown",
   "metadata": {},
   "source": [
    "The output of the `solver_manager.execute(cp_schedule)` execution illustrates the time-steps run of the forward solver on the left side, while displaying *checkpoint_schedules* actions on the right side. \n",
    "\n",
    "The general of the *Forward* action is as follows:\n",
    "```python\n",
    "Forward(n0, n1, write_ics, write_adj_deps, storage_type)\n",
    "```\n",
    "which reads as follows:\n",
    "- Advance the forward solver from step `n0` to the start of any step `n1`.\n",
    "- `write_ics` and `write_adj_deps` are booleans that indicate whether the forward \n",
    "solver should store the forward restart data and the forward data required for the \n",
    "adjoint computation, respectively.\n",
    "- `storage_type` is an enum that indicates the type of storage required for the\n",
    "forward restart data and the forward data required for the adjoint computation.\n",
    "\n",
    "In the following, we have *Forward* action in the context of the *NoneCheckpointSchedule* schedule.\n",
    "```python\n",
    "Forward(0, 9223372036854775807, False, False, <StorageType.NONE: None>)\n",
    "```\n",
    "- Advance the forward solver from step `n0 = 0` to the start of any step `n1`.\n",
    "- Both `write_ics` and `write_adj_deps` are  set to `'False'`, indicating that the forward solver does not store the forward restart data and the forward data required for the adjoint computation. \n",
    "- The storage type is `StorageType.NONE`, indicating that no specific storage type is required. \n",
    "- The `EndForward()` action indicates that the forward solver has reached the end of the time interval.\n",
    "\n",
    "This schedule is referred to as online since it does not require specifying a value for the maximum steps to obtain the schedule. Hence, users can define any desired step as needed. For this specific case, we set the maximum step with `max_n = 4`, which is an attribute of the `CheckpointingManager`. Whe then inform the schedule the final step by executing the following code below into the `action_forward` function.\n",
    "```python\n",
    " cp_schedule.finalize(n1)\n",
    "```\n",
    "The `n1` value is set according the user's requirement. \n",
    "\n",
    "Another action shown in the current schedule is the `EndForward()` action, which indicates the forward solver has reached the end of the time interval."
   ]
  },
  {
   "cell_type": "markdown",
   "metadata": {},
   "source": [
    "### Schedule for storing all time-step forward data\n",
    "\n",
    "We now begin to present the schedules when there is the adjoint solver computation. \n",
    "\n",
    "The following code is valuable for the cases where the user intend to store the forward data for all time-steps and does not applies any checkpointing strategy, e. g., given by the Revolve approach [1]. \n",
    "\n",
    "The schedule in which there is the storage of the forward data for all time steps in `'RAM`' is reached by using the `SingleMemoryStorageSchedule` class. The code below shows how to employ this type of schedule in the forward and adjoint computations.\n",
    "\n",
    "In this schedule there is no storage of the forward restart data based on the concept that when no checkpointing strategy is employed, there exists no necessity for retaining forward data restart."
   ]
  },
  {
   "cell_type": "code",
   "execution_count": 4,
   "metadata": {},
   "outputs": [
    {
     "name": "stdout",
     "output_type": "stream",
     "text": [
      "−−−▶−−−▶−−−▶−−−▶      Forward(0, 9223372036854775807, False, True, <StorageType.ADJ_DEPS: 3>)\n",
      "End Forward            EndForward()\n",
      "◀−−−◀−−−◀−−−◀−−−      Reverse(4, 0, True)\n",
      "End Reverse            EndReverse(False,)\n"
     ]
    }
   ],
   "source": [
    "from checkpoint_schedules import SingleMemoryStorageSchedule\n",
    "\n",
    "cp_schedule = SingleMemoryStorageSchedule()\n",
    "solver_manager.execute(cp_schedule)"
   ]
  },
  {
   "cell_type": "markdown",
   "metadata": {},
   "source": [
    "In this particular case, the *Forward* action Is given by:\n",
    "```python\n",
    "Forward(0, 9223372036854775807, False, True, <StorageType.RAM: 0>)\n",
    "```\n",
    "which reads:\n",
    "- Advance the forward solver from the step `n0=0` to the start of any step `n1`.\n",
    "- Do not store the forward restart data once if `write_ics` is `'False'`.\n",
    "- Store the forward data required for the adjoint computation once `write_adj_deps` is `'True'`.\n",
    "- Storage type is `<StorageType.ADJ_DEPS: 3>`, which indicates the storage in a place that holds the forward data required for the adjoint computation.\n",
    "\n",
    "In general, the *Reverse* action is given by:\n",
    "```python\n",
    "Reverse(n0, n1, clear_adj_deps)\n",
    "```\n",
    "which reads:\n",
    "- Advance the adjoint solver from the step `n0` to the start of the step `n1`.\n",
    "- Clear the adjoint dependency data if `clear_adj_deps` is `'True'`.\n",
    "\n",
    "In the currrent case, the *Reverse* action reads:\n",
    "```python\n",
    "Reverse(4, 0, True)\n",
    "```\n",
    "-  Advance the forward solver from the step `4` to the start of the step `0`.\n",
    "- Clear the adjoint dependency (forward data) once `clear_adj_deps` is `'True'`.\n",
    "\n",
    "If the adjoint computation is done, we have the action *EndReverse(True)* to indicate that the reverse action reached the end.\n",
    "\n",
    "*checkpoint_schedules* also allows the user execute forward and adjoint solver by storing all adjoint dependency in the `'disk'`. This type of schedule is generate by the class `SingleDiskStorageSchedule`. The following code illustrates the run of the forward and adjoint solver foir this case."
   ]
  },
  {
   "cell_type": "code",
   "execution_count": 5,
   "metadata": {},
   "outputs": [
    {
     "name": "stdout",
     "output_type": "stream",
     "text": [
      "−−−▶−−−▶−−−▶−−−▶      Forward(0, 9223372036854775807, False, True, <StorageType.DISK: 1>)\n",
      "End Forward            EndForward()\n",
      "                    Copy(4, <StorageType.DISK: 1>, <StorageType.ADJ_DEPS: 3>)\n",
      "            ◀−−−      Reverse(4, 3, True)\n",
      "                    Copy(3, <StorageType.DISK: 1>, <StorageType.ADJ_DEPS: 3>)\n",
      "        ◀−−−         Reverse(3, 2, True)\n",
      "                    Copy(2, <StorageType.DISK: 1>, <StorageType.ADJ_DEPS: 3>)\n",
      "    ◀−−−            Reverse(2, 1, True)\n",
      "                    Copy(1, <StorageType.DISK: 1>, <StorageType.ADJ_DEPS: 3>)\n",
      "◀−−−               Reverse(1, 0, True)\n"
     ]
    }
   ],
   "source": [
    "from checkpoint_schedules import SingleDiskStorageSchedule\n",
    "\n",
    "cp_schedule = SingleDiskStorageSchedule()\n",
    "solver_manager.execute(cp_schedule)\n"
   ]
  },
  {
   "cell_type": "markdown",
   "metadata": {},
   "source": [
    "In the case illustrated above, forward and adjoint executions with `SingleDiskStorageSchedule` also has the *Copy* action, which indicates copying of the forward data from a storage type\n",
    "to another.  Hence, it is required to copy the forward data from the `'disk'` to a place that holds the forward data used for the adjoint computation.\n",
    "\n",
    "In general, the *Copy* action is given by:\n",
    "```python\n",
    "Copy(n, from_storage, to_storage)\n",
    "```\n",
    "which reads:\n",
    "- Copy the data required for the adjoint computation from the step `n`.\n",
    "- The term `from_storage` denotes the storage type responsible for retaining forward data at step n, while `to_storage` refers to the designated storage type for storing this forward data.\n",
    "\n",
    "\n",
    "Thus, taking one of the *Copy* actions from the example above:\n",
    "```python\n",
    "Copy(4, <StorageType.DISK: 1>, <StorageType.ADJ_DEPS: 3>)\n",
    "```\n",
    "which reads:\n",
    "- Copy the data required for the adjoint computation from the step `4`.\n",
    "- The forward data is copied from `'disk'`, and the storage type to copy (`StorageType.ADJ_DEPS`) indicates the place that holds the forward data required for the adjoint computation.\n",
    "\n",
    "The provided schedule implies that the forward data required for the adjoint computation remains accessible in the `'disk'` storage. If the user wants to move the data from one storage type to another, and consequently the data is not more available in the original storage type, the optional `move_data` argument within the `SingleDiskStorageSchedule` must be configured as `True`, as demonstrated in the following example."
   ]
  },
  {
   "cell_type": "code",
   "execution_count": 6,
   "metadata": {},
   "outputs": [
    {
     "name": "stdout",
     "output_type": "stream",
     "text": [
      "−−−▶−−−▶−−−▶−−−▶      Forward(0, 9223372036854775807, False, True, <StorageType.DISK: 1>)\n",
      "End Forward            EndForward()\n",
      "                    Move(4, <StorageType.DISK: 1>, <StorageType.ADJ_DEPS: 3>)\n",
      "            ◀−−−      Reverse(4, 3, True)\n",
      "                    Move(3, <StorageType.DISK: 1>, <StorageType.ADJ_DEPS: 3>)\n",
      "        ◀−−−         Reverse(3, 2, True)\n",
      "                    Move(2, <StorageType.DISK: 1>, <StorageType.ADJ_DEPS: 3>)\n",
      "    ◀−−−            Reverse(2, 1, True)\n",
      "                    Move(1, <StorageType.DISK: 1>, <StorageType.ADJ_DEPS: 3>)\n",
      "◀−−−               Reverse(1, 0, True)\n"
     ]
    }
   ],
   "source": [
    "cp_schedule = SingleDiskStorageSchedule(move_data=True)\n",
    "solver_manager.execute(cp_schedule)"
   ]
  },
  {
   "cell_type": "markdown",
   "metadata": {},
   "source": [
    "The *Move* action has the general form:\n",
    "```python\n",
    "Move(n, from_storage, to_storage)\n",
    "```\n",
    "which reads:\n",
    "- Move the data required for the adjoint computation from the step `n`.\n",
    "- The term `from_storage` denotes the storage type responsible for retaining forward data at step `n`, while `to_storage` refers to the designated storage type for moving this forward data.\n",
    "\n",
    "\n",
    "Thus, taking one of the *Copy* actions from the example above:\n",
    "```python\n",
    "Move(4, <StorageType.DISK: 1>, <StorageType.ADJ_DEPS: 3>)\n",
    "```\n",
    "which reads:\n",
    "- Move the data required for the adjoint computation from the step `4`.\n",
    "- The forward data is moved from `'disk'` to a storage used for the adjoint computation."
   ]
  },
  {
   "cell_type": "markdown",
   "metadata": {},
   "source": [
    "### Schedules given by checkointing methods\n",
    "\n",
    "Now, let us consider the schedules given by the checkpointing strategies. We begin by exploring the Revolve approach, according to introduced in reference [1].\n",
    "\n",
    "The Revolve checkpointing strategy  generate schedule with storage only in `'RAM'`. So, we now set the attribute `chk_ram` of the `CheckpointingManager` class to specify the number of steps at whichshould store the forward restart data. \n",
    "\n",
    "The schedule is generated by the `Revolve` class, which takes the number of steps at which the adjoint data should be stored in `'RAM'` as an argument. This number of steps is specified by the attribute `chk_ram`.\n",
    "\n",
    "The code below shows how to generate a schedule for the `Revolve` checkpointing strategy and illustrates the execution of the forward and adjoint computations using the Revolve schedule."
   ]
  },
  {
   "cell_type": "code",
   "execution_count": 14,
   "metadata": {},
   "outputs": [
    {
     "name": "stdout",
     "output_type": "stream",
     "text": [
      "+−−−▷−−−▷            Forward(0, 2, True, False, <StorageType.RAM: 0>)\n",
      "       +−−−▷         Forward(2, 3, True, False, <StorageType.RAM: 0>)\n",
      "            −−−▶      Forward(3, 4, False, True, <StorageType.ADJ_DEPS: 3>)\n",
      "End Forward            EndForward()\n",
      "            ◀−−−      Reverse(4, 3, True)\n",
      "                    Move(2, <StorageType.RAM: 0>, <StorageType.FWD_RESTART: 2>)\n",
      "        −−−▶         Forward(2, 3, False, True, <StorageType.ADJ_DEPS: 3>)\n",
      "        ◀−−−         Reverse(3, 2, True)\n",
      "                    Copy(0, <StorageType.RAM: 0>, <StorageType.FWD_RESTART: 2>)\n",
      "−−−▷               Forward(0, 1, False, False, <StorageType.FWD_RESTART: 2>)\n",
      "    −−−▶            Forward(1, 2, False, True, <StorageType.ADJ_DEPS: 3>)\n",
      "    ◀−−−            Reverse(2, 1, True)\n",
      "                    Move(0, <StorageType.RAM: 0>, <StorageType.FWD_RESTART: 2>)\n",
      "−−−▶               Forward(0, 1, False, True, <StorageType.ADJ_DEPS: 3>)\n",
      "◀−−−               Reverse(1, 0, True)\n",
      "End Reverse            EndReverse()\n"
     ]
    }
   ],
   "source": [
    "from checkpoint_schedules import Revolve\n",
    "chk_ram = 2 \n",
    "solver_manager = CheckpointingManager(max_n, chk_ram=chk_ram) # manager object\n",
    "cp_schedule = Revolve(max_n, chk_ram) \n",
    "solver_manager.execute(cp_schedule)"
   ]
  },
  {
   "cell_type": "markdown",
   "metadata": {},
   "source": [
    "The employment of the checkpointing strategies in an adjoint-based gradient involves the forward solver restarting and recomputation.  As we see in the example above, we have the *Forward* action  as follows:\n",
    "```python\n",
    "Forward(0, 2, True, False, <StorageType.RAM: 0>)\n",
    "```\n",
    "which means:\n",
    "- Advance from time step 0 to the start of the time step 2.\n",
    "- Store the forward data required to restart the forward solver from time step 0.\n",
    "- The storage of the forward restart data is done in RAM.\n",
    "\n",
    "*In the time step illustrations, we have `'+−−−▷−−−▷'` associated to the *Forward* action explained above. The symbol `'+'` indicates that the forward data required for the forward recomputation from the step 0 is stored in `'RAM'`.*\n",
    "\n",
    "\n",
    "The following code illustrates the forward and adjoint computations using the checkpointing given by H-Revolve strategy [2]. In this case, the storage of the forward data is done in`'RAM'` and on `'disk'`. The checkpointing schedule is generated with `HRevolve` class, which requires the following parameters: maximum steps stored in RAM (`snap_in_ram`), maximum steps stored on disk (`snap_on_disk`), and the number of time steps (`max_n`). Thus, we firs import the necessary module `HRevolve` from the *checkpoint_schedules* package. Then, `HRevolve` class is instantiated with the following parameters: `snap_in_ram = 1`, `snap_on_disk = 1`, and `max_n = 4`. Finally, it is shown an illutration of the forward and adjoint executions using the H-Revolve checkpointing."
   ]
  },
  {
   "cell_type": "code",
   "execution_count": 15,
   "metadata": {},
   "outputs": [
    {
     "name": "stdout",
     "output_type": "stream",
     "text": [
      "+−−−▷−−−▷−−−▷         Forward(0, 3, True, False, <StorageType.RAM: 0>)\n",
      "            −−−▶      Forward(3, 4, False, True, <StorageType.ADJ_DEPS: 3>)\n",
      "End Forward            EndForward()\n",
      "            ◀−−−      Reverse(4, 3, True)\n",
      "                    Copy(0, <StorageType.RAM: 0>, <StorageType.FWD_RESTART: 2>)\n",
      "−−−▷−−−▷            Forward(0, 2, False, False, <StorageType.FWD_RESTART: 2>)\n",
      "        −−−▶         Forward(2, 3, False, True, <StorageType.ADJ_DEPS: 3>)\n",
      "        ◀−−−         Reverse(3, 2, True)\n",
      "                    Copy(0, <StorageType.RAM: 0>, <StorageType.FWD_RESTART: 2>)\n",
      "−−−▷               Forward(0, 1, False, False, <StorageType.FWD_RESTART: 2>)\n",
      "    −−−▶            Forward(1, 2, False, True, <StorageType.ADJ_DEPS: 3>)\n",
      "    ◀−−−            Reverse(2, 1, True)\n",
      "                    Move(0, <StorageType.RAM: 0>, <StorageType.FWD_RESTART: 2>)\n",
      "−−−▶               Forward(0, 1, False, True, <StorageType.ADJ_DEPS: 3>)\n",
      "◀−−−               Reverse(1, 0, True)\n",
      "End Reverse            EndReverse()\n"
     ]
    }
   ],
   "source": [
    "from checkpoint_schedules import HRevolve\n",
    "chk_disk = 1\n",
    "chk_ram = 1\n",
    "solver_manager = CheckpointingManager(max_n, chk_ram=chk_ram, chk_disk=chk_disk) # manager object\n",
    "cp_schedule = HRevolve(max_n, chk_ram, snap_on_disk=chk_disk)\n",
    "solver_manager.execute(cp_schedule)"
   ]
  },
  {
   "cell_type": "markdown",
   "metadata": {},
   "source": [
    "The following examples generate *checkpoint_schedules* actions similar to the explanations given above. The schedules below refer to the following checkpointing methods:\n",
    "\n",
    "- **Periodic Disk Revolve**: . \n",
    "- **Disk Revolve**: \n",
    "- **Two-Level**: \n",
    "- **Mixed Revolver**: \n",
    "- **Mulistage**: "
   ]
  },
  {
   "cell_type": "code",
   "execution_count": 9,
   "metadata": {},
   "outputs": [
    {
     "name": "stdout",
     "output_type": "stream",
     "text": [
      "------------------------------------------------\n",
      "Disk Revolve checkpointing schedule\n",
      "------------------------------------------------\n",
      "+−−−▷−−−▷−−−▷         Forward(0, 3, True, False, <StorageType.RAM: 0>)\n",
      "            −−−▶      Forward(3, 4, False, True, <StorageType.ADJ_DEPS: 3>)\n",
      "End Forward            EndForward()\n",
      "            ◀−−−      Reverse(4, 3, True)\n",
      "                    Copy(0, <StorageType.RAM: 0>, <StorageType.FWD_RESTART: 2>)\n",
      "−−−▷−−−▷            Forward(0, 2, False, False, <StorageType.FWD_RESTART: 2>)\n",
      "        −−−▶         Forward(2, 3, False, True, <StorageType.ADJ_DEPS: 3>)\n",
      "        ◀−−−         Reverse(3, 2, True)\n",
      "                    Copy(0, <StorageType.RAM: 0>, <StorageType.FWD_RESTART: 2>)\n",
      "−−−▷               Forward(0, 1, False, False, <StorageType.FWD_RESTART: 2>)\n",
      "    −−−▶            Forward(1, 2, False, True, <StorageType.ADJ_DEPS: 3>)\n",
      "    ◀−−−            Reverse(2, 1, True)\n",
      "                    Move(0, <StorageType.RAM: 0>, <StorageType.FWD_RESTART: 2>)\n",
      "−−−▶               Forward(0, 1, False, True, <StorageType.ADJ_DEPS: 3>)\n",
      "◀−−−               Reverse(1, 0, True)\n",
      "End Reverse            EndReverse()\n"
     ]
    }
   ],
   "source": [
    "from checkpoint_schedules import PeriodicDiskRevolve, DiskRevolve, MixedCheckpointSchedule, MultistageCheckpointSchedule, TwoLevelCheckpointSchedule\n",
    "print(\"------------------------------------------------\")\n",
    "print(\"Disk Revolve checkpointing schedule\")\n",
    "print(\"------------------------------------------------\")\n",
    "solver_manager = CheckpointingManager(max_n, chk_ram=chk_ram) # manager object``\n",
    "cp_schedule = DiskRevolve(max_n, chk_ram)\n",
    "solver_manager.execute(cp_schedule)"
   ]
  },
  {
   "cell_type": "code",
   "execution_count": 10,
   "metadata": {},
   "outputs": [
    {
     "name": "stdout",
     "output_type": "stream",
     "text": [
      "------------------------------------------------\n",
      "Periodic disk revolve checkpointing schedule\n",
      "------------------------------------------------\n",
      "We use periods of size  3\n",
      "+−−−▷−−−▷−−−▷         Forward(0, 3, True, False, <StorageType.RAM: 0>)\n",
      "            −−−▶      Forward(3, 4, False, True, <StorageType.ADJ_DEPS: 3>)\n",
      "End Forward            EndForward()\n",
      "            ◀−−−      Reverse(4, 3, True)\n",
      "                    Copy(0, <StorageType.RAM: 0>, <StorageType.FWD_RESTART: 2>)\n",
      "−−−▷−−−▷            Forward(0, 2, False, False, <StorageType.FWD_RESTART: 2>)\n",
      "        −−−▶         Forward(2, 3, False, True, <StorageType.ADJ_DEPS: 3>)\n",
      "        ◀−−−         Reverse(3, 2, True)\n",
      "                    Copy(0, <StorageType.RAM: 0>, <StorageType.FWD_RESTART: 2>)\n",
      "−−−▷               Forward(0, 1, False, False, <StorageType.FWD_RESTART: 2>)\n",
      "    −−−▶            Forward(1, 2, False, True, <StorageType.ADJ_DEPS: 3>)\n",
      "    ◀−−−            Reverse(2, 1, True)\n",
      "                    Move(0, <StorageType.RAM: 0>, <StorageType.FWD_RESTART: 2>)\n",
      "−−−▶               Forward(0, 1, False, True, <StorageType.ADJ_DEPS: 3>)\n",
      "◀−−−               Reverse(1, 0, True)\n",
      "End Reverse            EndReverse()\n"
     ]
    }
   ],
   "source": [
    "print(\"------------------------------------------------\")\n",
    "print(\"Periodic disk revolve checkpointing schedule\")\n",
    "print(\"------------------------------------------------\")\n",
    "cp_schedule = PeriodicDiskRevolve(max_n, chk_ram)\n",
    "solver_manager.execute(cp_schedule)"
   ]
  },
  {
   "cell_type": "code",
   "execution_count": 11,
   "metadata": {},
   "outputs": [
    {
     "name": "stdout",
     "output_type": "stream",
     "text": [
      "------------------------------------------------\n",
      "Mixed checkpointing schedule\n",
      "------------------------------------------------\n",
      "+−−−▷−−−▷−−−▷         Forward(0, 3, True, False, <StorageType.DISK: 1>)\n",
      "            −−−▶      Forward(3, 4, False, True, <StorageType.ADJ_DEPS: 3>)\n",
      "End Forward            EndForward()\n",
      "            ◀−−−      Reverse(4, 3, True)\n",
      "                    Copy(0, <StorageType.DISK: 1>, <StorageType.FWD_RESTART: 2>)\n",
      "−−−▷−−−▷            Forward(0, 2, False, False, <StorageType.FWD_RESTART: 2>)\n",
      "        −−−▶         Forward(2, 3, False, True, <StorageType.ADJ_DEPS: 3>)\n",
      "        ◀−−−         Reverse(3, 2, True)\n",
      "                    Move(0, <StorageType.DISK: 1>, <StorageType.FWD_RESTART: 2>)\n",
      "−−−▶               Forward(0, 1, False, True, <StorageType.DISK: 1>)\n",
      "    −−−▶            Forward(1, 2, False, True, <StorageType.ADJ_DEPS: 3>)\n",
      "    ◀−−−            Reverse(2, 1, True)\n",
      "                    Move(0, <StorageType.DISK: 1>, <StorageType.ADJ_DEPS: 3>)\n",
      "◀−−−               Reverse(1, 0, True)\n",
      "End Reverse            EndReverse()\n"
     ]
    },
    {
     "name": "stderr",
     "output_type": "stream",
     "text": [
      "/home/ma/d/ddolci/work/checkpoint_schedules/checkpoint_schedules/mixed.py:59: RuntimeWarning: Numba not available -- using memoization\n",
      "  warnings.warn(\"Numba not available -- using memoization\",\n"
     ]
    }
   ],
   "source": [
    "print(\"------------------------------------------------\")\n",
    "print(\"Mixed checkpointing schedule\")\n",
    "print(\"------------------------------------------------\")\n",
    "cp_schedule = MixedCheckpointSchedule(max_n, chk_disk)\n",
    "solver_manager.execute(cp_schedule)"
   ]
  },
  {
   "cell_type": "code",
   "execution_count": 12,
   "metadata": {},
   "outputs": [
    {
     "name": "stdout",
     "output_type": "stream",
     "text": [
      "------------------------------------------------\n",
      "Two-Level checkpointing schedule\n",
      "------------------------------------------------\n",
      "+−−−▷−−−▷            Forward(0, 2, True, False, <StorageType.DISK: 1>)\n",
      "       +−−−▷−−−▷      Forward(2, 4, True, False, <StorageType.DISK: 1>)\n",
      "End Forward            EndForward()\n",
      "                    Copy(2, <StorageType.DISK: 1>, <StorageType.FWD_RESTART: 2>)\n",
      "        −−−▷         Forward(2, 3, False, False, <StorageType.FWD_RESTART: 2>)\n",
      "            −−−▶      Forward(3, 4, False, True, <StorageType.ADJ_DEPS: 3>)\n",
      "            ◀−−−      Reverse(4, 3, True)\n",
      "                    Copy(2, <StorageType.DISK: 1>, <StorageType.FWD_RESTART: 2>)\n",
      "        −−−▶         Forward(2, 3, False, True, <StorageType.ADJ_DEPS: 3>)\n",
      "        ◀−−−         Reverse(3, 2, True)\n",
      "                    Copy(0, <StorageType.DISK: 1>, <StorageType.FWD_RESTART: 2>)\n",
      "−−−▷               Forward(0, 1, False, False, <StorageType.FWD_RESTART: 2>)\n",
      "    −−−▶            Forward(1, 2, False, True, <StorageType.ADJ_DEPS: 3>)\n",
      "    ◀−−−            Reverse(2, 1, True)\n",
      "                    Copy(0, <StorageType.DISK: 1>, <StorageType.FWD_RESTART: 2>)\n",
      "−−−▶               Forward(0, 1, False, True, <StorageType.ADJ_DEPS: 3>)\n",
      "◀−−−               Reverse(1, 0, True)\n",
      "End Reverse            EndReverse(False,)\n"
     ]
    }
   ],
   "source": [
    "print(\"------------------------------------------------\")\n",
    "print(\"Two-Level checkpointing schedule\")\n",
    "print(\"------------------------------------------------\")\n",
    "revolver = TwoLevelCheckpointSchedule(2, binomial_snapshots=2)\n",
    "solver_manager.execute(revolver)"
   ]
  },
  {
   "cell_type": "code",
   "execution_count": 13,
   "metadata": {},
   "outputs": [
    {
     "name": "stdout",
     "output_type": "stream",
     "text": [
      "------------------------------------------------\n",
      "Multistage checkpointing schedule\n",
      "------------------------------------------------\n",
      "+−−−▷−−−▷−−−▷         Forward(0, 3, True, False, <StorageType.DISK: 1>)\n",
      "            −−−▶      Forward(3, 4, False, True, <StorageType.ADJ_DEPS: 3>)\n",
      "End Forward            EndForward()\n",
      "            ◀−−−      Reverse(4, 3, True)\n",
      "                    Copy(0, <StorageType.DISK: 1>, <StorageType.FWD_RESTART: 2>)\n",
      "−−−▷−−−▷            Forward(0, 2, False, False, <StorageType.FWD_RESTART: 2>)\n",
      "        −−−▶         Forward(2, 3, False, True, <StorageType.ADJ_DEPS: 3>)\n",
      "        ◀−−−         Reverse(3, 2, True)\n",
      "                    Copy(0, <StorageType.DISK: 1>, <StorageType.FWD_RESTART: 2>)\n",
      "−−−▷               Forward(0, 1, False, False, <StorageType.FWD_RESTART: 2>)\n",
      "    −−−▶            Forward(1, 2, False, True, <StorageType.ADJ_DEPS: 3>)\n",
      "    ◀−−−            Reverse(2, 1, True)\n",
      "                    Move(0, <StorageType.DISK: 1>, <StorageType.FWD_RESTART: 2>)\n",
      "−−−▶               Forward(0, 1, False, True, <StorageType.ADJ_DEPS: 3>)\n",
      "◀−−−               Reverse(1, 0, True)\n",
      "End Reverse            EndReverse()\n"
     ]
    }
   ],
   "source": [
    "print(\"------------------------------------------------\")\n",
    "print(\"Multistage checkpointing schedule\")\n",
    "print(\"------------------------------------------------\")\n",
    "cp_schedule = MultistageCheckpointSchedule(max_n, 0, chk_disk)\n",
    "solver_manager.execute(cp_schedule)"
   ]
  },
  {
   "cell_type": "markdown",
   "metadata": {},
   "source": [
    "### References\n",
    "\n",
    "[1] Andreas Griewank and Andrea Walther, 'Algorithm 799: revolve: an implementation of checkpointing for the reverse or adjoint mode of computational differentiation', ACM Transactions on Mathematical Software, 26(1), pp. 19--45, 2000, doi: 10.1145/347837.347846\n",
    "\n",
    "[2] Herrmann, J. and Pallez (Aupy), G.. \"H-Revolve: a framework for adjoint computation on synchronous hierarchical platforms.\" ACM Transactions on Mathematical Software (TOMS) 46.2 (2020): 1-25. doi: 10.1145/3378672\n",
    "\n",
    "[3] Aupy, G.,  Herrmann, Ju. and Hovland, P. and Robert, Y. \"Optimal multistage \n",
    "    algorithm for adjoint computation\". SIAM Journal on Scientific Computing, 38(3),\n",
    "    C232-C255, (2016). DOI: https://doi.org/10.1145/347837.347846"
   ]
  }
 ],
 "metadata": {
  "kernelspec": {
   "display_name": "Python 3 (ipykernel)",
   "language": "python",
   "name": "python3"
  },
  "language_info": {
   "codemirror_mode": {
    "name": "ipython",
    "version": 3
   },
   "file_extension": ".py",
   "mimetype": "text/x-python",
   "name": "python",
   "nbconvert_exporter": "python",
   "pygments_lexer": "ipython3",
   "version": "3.11.2"
  }
 },
 "nbformat": 4,
 "nbformat_minor": 2
}
