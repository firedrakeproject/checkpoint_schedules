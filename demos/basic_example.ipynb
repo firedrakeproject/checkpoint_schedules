{
 "cells": [
  {
   "attachments": {},
   "cell_type": "markdown",
   "metadata": {},
   "source": [
    "## Using *checkpoint_schedules* package\n",
    "\n",
    "The *checkpoint_schedules* package offers a squedule of actions able to drive adjoint-based gradient executions through a checkpoint strategy, i. e., the schedules coordinate the selective storage of the forward used to initialise the forward solver and for use in the adjoint computation. Also, the foward and back advancement in time, and the retrievement of the storage data. \n",
    "That is carrided out by a checkpoint schedule built by the sequence of actions referred to as *Forward, EndForward, Reverse, Copy, Move, EndReverse*. The actions provide functionalities such as storing the forward checkpoint data used to restart the forward solver, storing the forward checkpoint data for adjoint computations, and retrieving the stored data for both the forward solver restart and the adjoint computation. \n",
    "\n",
    "In the following code, we have implemented the `CheckpointingManager` class, which allows the manegement of the forward and adjoint executions in time. On using `CheckpointingManager.execute` method, we iterate over a sequence of actions given by the schedule `cp_schedule`. The actions are defined by using single-dispatch functions, where the `action` function is the generic function using the singledispatch decorator. Specific functions for different types of *checkpoint_schedules* actions are provided by using the register method of the base function `action`."
   ]
  },
  {
   "cell_type": "code",
   "execution_count": 67,
   "metadata": {},
   "outputs": [],
   "source": [
    "from checkpoint_schedules import Forward, EndForward, Reverse, Copy, Move, EndReverse\n",
    "import functools\n",
    "\n",
    "class CheckpointingManager():\n",
    "    \"\"\"Manage the forward and adjoint solvers.\n",
    "\n",
    "    Attributes\n",
    "    ----------\n",
    "    save_ram : int\n",
    "        Number of checkpoint that will be stored in RAM.\n",
    "    save_disk : int\n",
    "        Number of checkpoint that will be stored on disk.\n",
    "    list_actions : list\n",
    "        Store the list of actions.\n",
    "    max_n : int\n",
    "        Total steps used to execute the solvers.\n",
    "    \"\"\"\n",
    "    def __init__(self, max_n, save_ram, save_disk=0):\n",
    "        self.max_n = max_n\n",
    "        self.save_ram = save_ram\n",
    "        self.save_disk = save_disk\n",
    "        self.list_actions = []\n",
    "        \n",
    "    def execute(self, cp_schedule):\n",
    "        \"\"\"Execute forward and adjoint with a checkpointing strategy.\n",
    "\n",
    "        Parameters\n",
    "        ----------\n",
    "        cp_schedule : object\n",
    "            Checkpointing schedule.\n",
    "        \"\"\"\n",
    "        @functools.singledispatch\n",
    "        def action(cp_action):\n",
    "            raise TypeError(\"Unexpected action\")\n",
    "\n",
    "        @action.register(Forward)\n",
    "        def action_forward(cp_action):\n",
    "            nonlocal model_n\n",
    "            n1 = min(cp_action.n1, self.max_n)\n",
    "            if cp_action.write_ics:\n",
    "                print((\" +\").rjust(cp_action.n0*4))\n",
    "            if cp_action.write_adj_deps:\n",
    "                print((\"+\").rjust(n1*4))\n",
    "   \n",
    "            print((\"|\" + \"--->\"*(n1-cp_action.n0)).rjust(n1*4) +\n",
    "                   \"   \"*(self.max_n - n1 + 4) + \n",
    "                   self.list_actions[len(self.list_actions) - 1])\n",
    "\n",
    "            model_n = n1\n",
    "            if n1 == self.max_n:\n",
    "                cp_schedule.finalize(n1)\n",
    "\n",
    "        @action.register(Reverse)\n",
    "        def action_reverse(cp_action):\n",
    "            nonlocal model_r\n",
    "            print((\"<---\"*(cp_action.n1-cp_action.n0) + \"|\").rjust(cp_action.n1*4) \n",
    "                  + \"   \"*(self.max_n - cp_action.n1 + 4) + \n",
    "                    self.list_actions[len(self.list_actions) - 1])\n",
    "\n",
    "            model_r += cp_action.n1 - cp_action.n0\n",
    "            \n",
    "        @action.register(Copy)\n",
    "        def action_copy(cp_action):\n",
    "            print((\"c\").rjust(cp_action.n*4) \n",
    "                  + \"   \"*(self.max_n + 4) + \n",
    "                    self.list_actions[len(self.list_actions) - 1])\n",
    "\n",
    "        @action.register(Move)\n",
    "        def action_move(cp_action):\n",
    "            print((\"-\").rjust(cp_action.n*4) \n",
    "                  + \"   \"*(self.max_n + 3) + \n",
    "                    self.list_actions[len(self.list_actions) - 1])\n",
    "\n",
    "        @action.register(EndForward)\n",
    "        def action_end_forward(cp_action):\n",
    "            assert model_n == self.max_n\n",
    "            # The correct number of adjoint steps has been taken\n",
    "            if cp_schedule._max_n is None:\n",
    "                cp_schedule._max_n = self.max_n\n",
    "            \n",
    "        @action.register(EndReverse)\n",
    "        def action_end_reverse(cp_action):\n",
    "            nonlocal model_r\n",
    "            assert model_r == self.max_n\n",
    "            print(\"End Reverse\")\n",
    "\n",
    "        model_n = 0\n",
    "        model_r = 0\n",
    "\n",
    "        for count, cp_action in enumerate(cp_schedule):\n",
    "            self.list_actions.append(str(cp_action))\n",
    "            action(cp_action)\n",
    "            if isinstance(cp_action, EndReverse):  \n",
    "                break"
   ]
  },
  {
   "cell_type": "code",
   "execution_count": 68,
   "metadata": {},
   "outputs": [],
   "source": [
    "max_n = 4 # Total number of time steps.\n",
    "save_ram = 2 # Number of steps to save i RAM."
   ]
  },
  {
   "cell_type": "code",
   "execution_count": 69,
   "metadata": {},
   "outputs": [],
   "source": [
    "chk_manager = CheckpointingManager(max_n, save_ram) # manager object"
   ]
  },
  {
   "cell_type": "code",
   "execution_count": 57,
   "metadata": {},
   "outputs": [
    {
     "name": "stdout",
     "output_type": "stream",
     "text": [
      "|--->--->--->--->            Forward(0, 9223372036854775807, False, False, <StorageType.NONE: None>)\n"
     ]
    }
   ],
   "source": [
    "from checkpoint_schedules import NoneCheckpointSchedule\n",
    "rev_ite = NoneCheckpointSchedule()\n",
    "chk_manager.execute(rev_ite)"
   ]
  },
  {
   "cell_type": "code",
   "execution_count": 58,
   "metadata": {},
   "outputs": [
    {
     "name": "stdout",
     "output_type": "stream",
     "text": [
      " +\n",
      "               +\n",
      "|--->--->--->--->            Forward(0, 9223372036854775807, True, True, <StorageType.WORKING_MEMORY: 4>)\n",
      "<---<---<---<---|            Reverse(4, 0, True)\n",
      "End Reverse\n"
     ]
    }
   ],
   "source": [
    "from checkpoint_schedules import SingleStorageSchedule\n",
    "rev_ite = SingleStorageSchedule()\n",
    "chk_manager.execute(rev_ite)"
   ]
  },
  {
   "cell_type": "code",
   "execution_count": 70,
   "metadata": {},
   "outputs": [],
   "source": [
    "from checkpoint_schedules import Revolve\n",
    "rev_ite = Revolve(max_n, save_ram)"
   ]
  },
  {
   "attachments": {},
   "cell_type": "markdown",
   "metadata": {},
   "source": [
    "`rev_ite.execute(revolver)` runs the executions of the forward and adjoint solvers with."
   ]
  },
  {
   "cell_type": "code",
   "execution_count": 60,
   "metadata": {},
   "outputs": [
    {
     "name": "stdout",
     "output_type": "stream",
     "text": [
      " +\n",
      "|--->--->                  Forward(0, 2, True, False, <StorageType.RAM: 0>)\n",
      "       +\n",
      "       |--->               Forward(2, 3, True, False, <StorageType.RAM: 0>)\n",
      "               +\n",
      "           |--->            Forward(3, 4, False, True, <StorageType.ADJ_DEPS: 3>)\n",
      "           <---|            Reverse(4, 3, True)\n",
      "       -                     Move(2, <StorageType.RAM: 0>, <StorageType.FWD_RESTART: 2>)\n",
      "           +\n",
      "       |--->               Forward(2, 3, False, True, <StorageType.ADJ_DEPS: 3>)\n",
      "       <---|               Reverse(3, 2, True)\n",
      "c                        Copy(0, <StorageType.RAM: 0>, <StorageType.FWD_RESTART: 2>)\n",
      "|--->                     Forward(0, 1, False, False, <StorageType.FWD_RESTART: 2>)\n",
      "       +\n",
      "   |--->                  Forward(1, 2, False, True, <StorageType.ADJ_DEPS: 3>)\n",
      "   <---|                  Reverse(2, 1, True)\n",
      "-                     Move(0, <StorageType.RAM: 0>, <StorageType.FWD_RESTART: 2>)\n",
      "   +\n",
      "|--->                     Forward(0, 1, False, True, <StorageType.ADJ_DEPS: 3>)\n",
      "<---|                     Reverse(1, 0, True)\n",
      "End Reverse\n"
     ]
    }
   ],
   "source": [
    "chk_manager.execute(rev_ite)"
   ]
  },
  {
   "cell_type": "code",
   "execution_count": 71,
   "metadata": {},
   "outputs": [
    {
     "name": "stdout",
     "output_type": "stream",
     "text": [
      " +\n",
      "|--->--->--->               Forward(0, 3, True, False, <StorageType.RAM: 0>)\n",
      "               +\n",
      "           |--->            Forward(3, 4, False, True, <StorageType.ADJ_DEPS: 3>)\n",
      "           <---|            Reverse(4, 3, True)\n",
      "c                        Copy(0, <StorageType.RAM: 0>, <StorageType.FWD_RESTART: 2>)\n",
      "|--->--->                  Forward(0, 2, False, False, <StorageType.FWD_RESTART: 2>)\n",
      "           +\n",
      "       |--->               Forward(2, 3, False, True, <StorageType.ADJ_DEPS: 3>)\n",
      "       <---|               Reverse(3, 2, True)\n",
      "c                        Copy(0, <StorageType.RAM: 0>, <StorageType.FWD_RESTART: 2>)\n",
      "|--->                     Forward(0, 1, False, False, <StorageType.FWD_RESTART: 2>)\n",
      "       +\n",
      "   |--->                  Forward(1, 2, False, True, <StorageType.ADJ_DEPS: 3>)\n",
      "   <---|                  Reverse(2, 1, True)\n",
      "-                     Move(0, <StorageType.RAM: 0>, <StorageType.FWD_RESTART: 2>)\n",
      "   +\n",
      "|--->                     Forward(0, 1, False, True, <StorageType.ADJ_DEPS: 3>)\n",
      "<---|                     Reverse(1, 0, True)\n",
      "End Reverse\n"
     ]
    }
   ],
   "source": [
    "from checkpoint_schedules import HRevolve\n",
    "save_disk = 1\n",
    "save_ram = 1\n",
    "chk_manager = CheckpointingManager(max_n, save_ram, save_disk=save_disk) # manager object\n",
    "revolver = HRevolve(max_n, save_ram, snap_on_disk=save_disk)\n",
    "chk_manager.execute(revolver)"
   ]
  },
  {
   "cell_type": "code",
   "execution_count": 62,
   "metadata": {},
   "outputs": [
    {
     "name": "stdout",
     "output_type": "stream",
     "text": [
      " +\n",
      "|--->--->--->               Forward(0, 3, True, False, <StorageType.RAM: 0>)\n",
      "               +\n",
      "           |--->            Forward(3, 4, False, True, <StorageType.ADJ_DEPS: 3>)\n",
      "           <---|            Reverse(4, 3, True)\n",
      "c                        Copy(0, <StorageType.RAM: 0>, <StorageType.FWD_RESTART: 2>)\n",
      "|--->--->                  Forward(0, 2, False, False, <StorageType.FWD_RESTART: 2>)\n",
      "           +\n",
      "       |--->               Forward(2, 3, False, True, <StorageType.ADJ_DEPS: 3>)\n",
      "       <---|               Reverse(3, 2, True)\n",
      "c                        Copy(0, <StorageType.RAM: 0>, <StorageType.FWD_RESTART: 2>)\n",
      "|--->                     Forward(0, 1, False, False, <StorageType.FWD_RESTART: 2>)\n",
      "       +\n",
      "   |--->                  Forward(1, 2, False, True, <StorageType.ADJ_DEPS: 3>)\n",
      "   <---|                  Reverse(2, 1, True)\n",
      "-                     Move(0, <StorageType.RAM: 0>, <StorageType.FWD_RESTART: 2>)\n",
      "   +\n",
      "|--->                     Forward(0, 1, False, True, <StorageType.ADJ_DEPS: 3>)\n",
      "<---|                     Reverse(1, 0, True)\n",
      "End Reverse\n"
     ]
    }
   ],
   "source": [
    "from checkpoint_schedules import DiskRevolve\n",
    "revolver = DiskRevolve(max_n, save_ram)\n",
    "chk_manager.execute(revolver)"
   ]
  },
  {
   "cell_type": "code",
   "execution_count": 63,
   "metadata": {},
   "outputs": [
    {
     "name": "stdout",
     "output_type": "stream",
     "text": [
      "We use periods of size  3\n",
      " +\n",
      "|--->--->--->               Forward(0, 3, True, False, <StorageType.RAM: 0>)\n",
      "               +\n",
      "           |--->            Forward(3, 4, False, True, <StorageType.ADJ_DEPS: 3>)\n",
      "           <---|            Reverse(4, 3, True)\n",
      "c                        Copy(0, <StorageType.RAM: 0>, <StorageType.FWD_RESTART: 2>)\n",
      "|--->--->                  Forward(0, 2, False, False, <StorageType.FWD_RESTART: 2>)\n",
      "           +\n",
      "       |--->               Forward(2, 3, False, True, <StorageType.ADJ_DEPS: 3>)\n",
      "       <---|               Reverse(3, 2, True)\n",
      "c                        Copy(0, <StorageType.RAM: 0>, <StorageType.FWD_RESTART: 2>)\n",
      "|--->                     Forward(0, 1, False, False, <StorageType.FWD_RESTART: 2>)\n",
      "       +\n",
      "   |--->                  Forward(1, 2, False, True, <StorageType.ADJ_DEPS: 3>)\n",
      "   <---|                  Reverse(2, 1, True)\n",
      "-                     Move(0, <StorageType.RAM: 0>, <StorageType.FWD_RESTART: 2>)\n",
      "   +\n",
      "|--->                     Forward(0, 1, False, True, <StorageType.ADJ_DEPS: 3>)\n",
      "<---|                     Reverse(1, 0, True)\n",
      "End Reverse\n"
     ]
    }
   ],
   "source": [
    "from checkpoint_schedules import PeriodicDiskRevolve\n",
    "revolver = PeriodicDiskRevolve(max_n, save_ram)\n",
    "chk_manager.execute(revolver)"
   ]
  },
  {
   "cell_type": "code",
   "execution_count": 64,
   "metadata": {},
   "outputs": [
    {
     "name": "stdout",
     "output_type": "stream",
     "text": [
      "   +\n",
      "|--->                     Forward(0, 1, False, True, <StorageType.DISK: 1>)\n",
      "   +\n",
      "   |--->--->               Forward(1, 3, True, False, <StorageType.DISK: 1>)\n",
      "               +\n",
      "           |--->            Forward(3, 4, False, True, <StorageType.ADJ_DEPS: 3>)\n",
      "           <---|            Reverse(4, 3, True)\n",
      "   -                     Move(1, <StorageType.DISK: 1>, <StorageType.FWD_RESTART: 2>)\n",
      "       +\n",
      "   |--->                  Forward(1, 2, False, True, <StorageType.DISK: 1>)\n",
      "           +\n",
      "       |--->               Forward(2, 3, False, True, <StorageType.ADJ_DEPS: 3>)\n",
      "       <---|               Reverse(3, 2, True)\n",
      "   -                     Move(1, <StorageType.DISK: 1>, <StorageType.ADJ_DEPS: 3>)\n",
      "   <---|                  Reverse(2, 1, True)\n",
      "-                     Move(0, <StorageType.DISK: 1>, <StorageType.ADJ_DEPS: 3>)\n",
      "<---|                     Reverse(1, 0, True)\n",
      "End Reverse\n"
     ]
    }
   ],
   "source": [
    "from checkpoint_schedules import MixedCheckpointSchedule\n",
    "snapshots = 2\n",
    "revolver = MixedCheckpointSchedule(max_n, snapshots)\n",
    "chk_manager.execute(revolver)"
   ]
  },
  {
   "cell_type": "code",
   "execution_count": 65,
   "metadata": {},
   "outputs": [
    {
     "name": "stdout",
     "output_type": "stream",
     "text": [
      " +\n",
      "|--->--->                  Forward(0, 2, True, False, <StorageType.DISK: 1>)\n",
      "       +\n",
      "       |--->               Forward(2, 3, True, False, <StorageType.DISK: 1>)\n",
      "               +\n",
      "           |--->            Forward(3, 4, False, True, <StorageType.ADJ_DEPS: 3>)\n",
      "           <---|            Reverse(4, 3, True)\n",
      "       -                     Move(2, <StorageType.DISK: 1>, <StorageType.FWD_RESTART: 2>)\n",
      "           +\n",
      "       |--->               Forward(2, 3, False, True, <StorageType.ADJ_DEPS: 3>)\n",
      "       <---|               Reverse(3, 2, True)\n",
      "c                        Copy(0, <StorageType.DISK: 1>, <StorageType.FWD_RESTART: 2>)\n",
      "|--->                     Forward(0, 1, False, False, <StorageType.FWD_RESTART: 2>)\n",
      "       +\n",
      "   |--->                  Forward(1, 2, False, True, <StorageType.ADJ_DEPS: 3>)\n",
      "   <---|                  Reverse(2, 1, True)\n",
      "-                     Move(0, <StorageType.DISK: 1>, <StorageType.FWD_RESTART: 2>)\n",
      "   +\n",
      "|--->                     Forward(0, 1, False, True, <StorageType.ADJ_DEPS: 3>)\n",
      "<---|                     Reverse(1, 0, True)\n",
      "End Reverse\n"
     ]
    }
   ],
   "source": [
    "from checkpoint_schedules import MultistageCheckpointSchedule\n",
    "snapshots = 2\n",
    "revolver = MultistageCheckpointSchedule(max_n, 0, snapshots)\n",
    "chk_manager.execute(revolver)"
   ]
  },
  {
   "cell_type": "code",
   "execution_count": 66,
   "metadata": {},
   "outputs": [
    {
     "name": "stdout",
     "output_type": "stream",
     "text": [
      " +\n",
      "|--->--->                  Forward(0, 2, True, False, <StorageType.DISK: 1>)\n",
      "       +\n",
      "       |--->--->            Forward(2, 4, True, False, <StorageType.DISK: 1>)\n",
      "       c                        Copy(2, <StorageType.DISK: 1>, <StorageType.FWD_RESTART: 2>)\n",
      "       |--->               Forward(2, 3, False, False, <StorageType.FWD_RESTART: 2>)\n",
      "               +\n",
      "           |--->            Forward(3, 4, False, True, <StorageType.ADJ_DEPS: 3>)\n",
      "           <---|            Reverse(4, 3, True)\n",
      "       c                        Copy(2, <StorageType.DISK: 1>, <StorageType.FWD_RESTART: 2>)\n",
      "           +\n",
      "       |--->               Forward(2, 3, False, True, <StorageType.ADJ_DEPS: 3>)\n",
      "       <---|               Reverse(3, 2, True)\n",
      "c                        Copy(0, <StorageType.DISK: 1>, <StorageType.FWD_RESTART: 2>)\n",
      "|--->                     Forward(0, 1, False, False, <StorageType.FWD_RESTART: 2>)\n",
      "       +\n",
      "   |--->                  Forward(1, 2, False, True, <StorageType.ADJ_DEPS: 3>)\n",
      "   <---|                  Reverse(2, 1, True)\n",
      "c                        Copy(0, <StorageType.DISK: 1>, <StorageType.FWD_RESTART: 2>)\n",
      "   +\n",
      "|--->                     Forward(0, 1, False, True, <StorageType.ADJ_DEPS: 3>)\n",
      "<---|                     Reverse(1, 0, True)\n",
      "End Reverse\n"
     ]
    }
   ],
   "source": [
    "from checkpoint_schedules import TwoLevelCheckpointSchedule\n",
    "revolver = TwoLevelCheckpointSchedule(2, snapshots)\n",
    "chk_manager.execute(revolver)\n"
   ]
  }
 ],
 "metadata": {
  "kernelspec": {
   "display_name": "Python 3 (ipykernel)",
   "language": "python",
   "name": "python3"
  },
  "language_info": {
   "codemirror_mode": {
    "name": "ipython",
    "version": 3
   },
   "file_extension": ".py",
   "mimetype": "text/x-python",
   "name": "python",
   "nbconvert_exporter": "python",
   "pygments_lexer": "ipython3",
   "version": "3.11.2"
  }
 },
 "nbformat": 4,
 "nbformat_minor": 2
}
