{
 "cells": [
  {
   "cell_type": "markdown",
   "metadata": {},
   "source": [
    "## Using *checkpoint_schedules*\n",
    "\n",
    "The examples aims to introduce the usage of checkpoint_schedules through an initial illustration of how this package works and how to interpret the run time of forward and adjoint solvers using a schedule of the *checkpointing_schedules* package.\n",
    "\n",
    "*checkpointing_schedules* is designed to be a versatile package that can hold both schedules using checkpointing methods and cases where no checkpointing strategies are employed. In the latter case, this package can provide a schedule when no adjoint computation is required, which leads no need forward checkpointing data storage. Furthermore, for the case where all time-steps forward checkpoint data used for the adjoint computation are stored either in memory or in disk.\n",
    "\n",
    "The schedule is given by a sequence of *checkpoint_schedules* actions: *Forward*, *Reverse*, *EndForward*, *EndReverse*, *Move*, and *Copy*.\n",
    "* *Forward*: indicate the forward solver execution. Additionally, it can manage the forward checkpoint data storage.\n",
    "* *Reverse*: indicate the adjoint solver execution.\n",
    "* *EndForward* and *EndReverse*: Indicate the end of the forward and adjoint solvers, respectively.\n",
    "* *Move*: Indicate movement forward checkpoint data storage from one storage type to another.\n",
    "* *Copy*: Indicate the copy of forward checkpoint data from one storage type to another.\n",
    "\n",
    "In the next sections of this example, we will explain how to employ these actions in the forward and adjoint solvers.\n",
    "\n",
    "### Manager of the forward and adjoint executions\n",
    "Let us consider the `CheckpointingManager` class, which plays the essential role in managing forward and adjoint executions. This management is given by iterating over a schedule with the execution of `CheckpointingManager.execute(cp_schedule)`. To perform this task, the method requires a `cp_schedule` argument, which must be a *checkpoint_schedules object* containing a schedule attibute and a generator method. This generator is responsible for yielding the *checkpoint_schedules* actions to be executed.\n",
    "\n",
    "Whitin `CheckpointingManager.execute`, we implement the *checkpointing_schedules* actions using single-dispatch functions. The base function, `action`, is decorated with the `singledispatch`. Specific actions functions are then established by using the register method of the `action`. Hence, `CheckpointingManager.execute` effectively calls the specific action according to a schedule."
   ]
  },
  {
   "cell_type": "code",
   "execution_count": 33,
   "metadata": {},
   "outputs": [],
   "source": [
    "from checkpoint_schedules import Forward, EndForward, Reverse, Copy, Move, EndReverse, StorageType\n",
    "import functools\n",
    "\n",
    "class CheckpointingManager():\n",
    "    \"\"\"Manage the executions of the forward and adjoint solvers.\n",
    "\n",
    "    Attributes\n",
    "    ----------\n",
    "    max_n : int\n",
    "        Total steps used to execute the solvers.\n",
    "    chk_ram : int, optional\n",
    "        Number of checkpoint stored on `'RAM'`.\n",
    "    chk_disk : int, optional\n",
    "        Number of checkpoint stored on `'DISK'`.\n",
    "    \"\"\"\n",
    "    def __init__(self, max_n, chk_ram=0, chk_disk=0):\n",
    "        self.max_n = max_n\n",
    "        self.save_ram = chk_ram\n",
    "        self.save_disk = chk_disk\n",
    "        self.list_actions = []\n",
    "        \n",
    "    def execute(self, cp_schedule):\n",
    "        \"\"\"Execute forward and adjoint with a checkpointing schedule.\n",
    "\n",
    "        Parameters\n",
    "        ----------\n",
    "        cp_schedule : CheckpointSchedule\n",
    "            Checkpointing schedule object.\n",
    "        \"\"\"\n",
    "        @functools.singledispatch\n",
    "        def action(cp_action):\n",
    "            raise TypeError(\"Unexpected action\")\n",
    "\n",
    "        @action.register(Forward)\n",
    "        def action_forward(cp_action):\n",
    "            def illustrate_runtime(a, b, singlestorage):\n",
    "                if singlestorage:\n",
    "                    print(((a + '\\u2212\\u2212' + b)*(n1-cp_action.n0)).rjust(n1*4) +\n",
    "                   \"   \"*(self.max_n - n1 + 4) + \n",
    "                   self.list_actions[len(self.list_actions) - 1])\n",
    "                else:\n",
    "                    print((a + ('\\u2212\\u2212\\u2212' + b)*(n1-cp_action.n0)).rjust(n1*4) +\n",
    "                    \"   \"*(self.max_n - n1 + 4) + \n",
    "                    self.list_actions[len(self.list_actions) - 1])\n",
    "\n",
    "            nonlocal model_n\n",
    "            n1 = min(cp_action.n1, self.max_n)\n",
    "            if cp_action.write_ics and cp_action.write_adj_deps:\n",
    "                a = '\\u002b'\n",
    "                b = \"\\u25b6\"\n",
    "                singlestorage = True\n",
    "            else:\n",
    "                singlestorage = False\n",
    "                if cp_action.write_ics:\n",
    "                    a = '\\u002b'\n",
    "                else:\n",
    "                    a = ''\n",
    "                if cp_action.write_adj_deps:\n",
    "                    b = \"\\u25b6\"\n",
    "                else:\n",
    "                    b = \"\\u25b7\"\n",
    "            illustrate_runtime(a, b, singlestorage)\n",
    "            \n",
    "            model_n = n1\n",
    "            if n1 == self.max_n:\n",
    "                # Imposing the latest time step.\n",
    "                # It is required for the online schedule.\n",
    "                cp_schedule.finalize(n1)\n",
    "\n",
    "        @action.register(Reverse)\n",
    "        def action_reverse(cp_action):\n",
    "            nonlocal model_r\n",
    "            print((('\\u25c0' + '\\u2212\\u2212\\u2212')*(cp_action.n1-cp_action.n0)).rjust(cp_action.n1*4) \n",
    "                  + \"   \"*(self.max_n - cp_action.n1 + 4) + \n",
    "                    self.list_actions[len(self.list_actions) - 1])\n",
    "            model_r += cp_action.n1 - cp_action.n0\n",
    "            \n",
    "        @action.register(Copy)\n",
    "        def action_copy(cp_action):\n",
    "            print(\"    \"*(self.max_n + 4) + \n",
    "                    self.list_actions[len(self.list_actions) - 1])\n",
    "\n",
    "        @action.register(Move)\n",
    "        def action_move(cp_action):\n",
    "            print(\"    \"*(self.max_n + 4) + \n",
    "                    self.list_actions[len(self.list_actions) - 1])\n",
    "\n",
    "        @action.register(EndForward)\n",
    "        def action_end_forward(cp_action):\n",
    "            assert model_n == self.max_n\n",
    "            # The correct number of adjoint steps has been taken\n",
    "            print(\"End Forward\" + \"   \"*(self.max_n + 2) + \n",
    "                    self.list_actions[len(self.list_actions) - 1])\n",
    "            if cp_schedule._max_n is None:\n",
    "                cp_schedule._max_n = self.max_n\n",
    "            \n",
    "        @action.register(EndReverse)\n",
    "        def action_end_reverse(cp_action):\n",
    "            nonlocal model_r\n",
    "            assert model_r == self.max_n\n",
    "            print(\"End Reverse\" + \"   \"*(self.max_n + 3) + \n",
    "                  self.list_actions[len(self.list_actions) - 1])\n",
    "\n",
    "        model_n = 0\n",
    "        model_r = 0\n",
    "\n",
    "        for count, cp_action in enumerate(cp_schedule):\n",
    "            self.list_actions.append(str(cp_action))\n",
    "            action(cp_action)\n",
    "            if isinstance(cp_action, EndReverse):  \n",
    "                break"
   ]
  },
  {
   "cell_type": "markdown",
   "metadata": {},
   "source": [
    "### Schedule without adjoint computation\n",
    "\n",
    "When adjoint computation is unnecessary, only `max_n` (representing the maximum number of steps) is the essential argument. To reach an comprehensive example, we define the `CheckpointingManager` object with a short number of steps, `max_n=4`."
   ]
  },
  {
   "cell_type": "code",
   "execution_count": 34,
   "metadata": {},
   "outputs": [],
   "source": [
    "max_n = 4 # Total number of time steps.\n",
    "solver_manager = CheckpointingManager(max_n) # manager object"
   ]
  },
  {
   "cell_type": "markdown",
   "metadata": {},
   "source": [
    "In this current case, we present the `NoneCheckpointSchedule` object, which efficiently manage the forward solver execution without the need for adjoint computation and without any data storage."
   ]
  },
  {
   "cell_type": "code",
   "execution_count": 35,
   "metadata": {},
   "outputs": [
    {
     "name": "stdout",
     "output_type": "stream",
     "text": [
      "−−−▷−−−▷−−−▷−−−▷            Forward(0, 9223372036854775807, False, False, <StorageType.NONE: None>)\n",
      "End Forward                  EndForward()\n"
     ]
    }
   ],
   "source": [
    "from checkpoint_schedules import NoneCheckpointSchedule\n",
    "cp_schedule = NoneCheckpointSchedule() # Create a object where no adjoint computation is needed.\n",
    "solver_manager.execute(cp_schedule) # Execute the solver according the schedule."
   ]
  },
  {
   "cell_type": "markdown",
   "metadata": {},
   "source": [
    "The output of the `solver_manager.execute(cp_schedule)` function illustrates the execution over time on the right side, while displaying *checkpoint_schedules* actions on the left side.\n",
    "\n",
    "The general *Forward* action explaining can be read  in the `Forward` class. In the following, we will explain the *Forward* action in the context of the *NoneCheckpointSchedule*.\n",
    "\n",
    "* *Forward(0, 9223372036854775807, False, False, <StorageType.NONE: None>)*:\n",
    "    - Advance the forward solver from step `n0 = 0` to the start of any step `n1`.\n",
    "    - Both `write_ics` and `write_adj_deps` are  set to `'False'`, indicating that the forward solver does not store the forward restart data and the forward data required for the adjoint computation. \n",
    "    - The storage type is `StorageType.NONE`, indicating that no specific storage type is required. \n",
    "    - The `EndForward()` action indicates that the forward solver has reached the end of the time interval.\n",
    "\n",
    "    This type of schedule is referred to as online since it does not require specifying a value for the maximum steps to obtain the schedule. Hence, users can define any desired step as needed. For this specific case, we set the maximum step with `max_n = 4`, which is an attribute of the CheckpointingManager. When then inform the schedule the final step by executing the following code below into the `action_forward` function.\n",
    "    ```python\n",
    "    n1 = min(cp_action.n1, self.max_n)\n",
    "    ...\n",
    "    cp_schedule.finalize(n1)\n",
    "    ```\n",
    "    The `cp_schedule.finalize(n1)` function can be set according the user's requirement and is used to inform the schedule that the forward solver has reached the end of the time interval.\n"
   ]
  },
  {
   "cell_type": "markdown",
   "metadata": {},
   "source": [
    "### Schedule for all time-steps forward data storage (no checkpointing)\n",
    "\n",
    "The following code is valuable for the cases where the user intend to store the forward checkpoint data for all time-steps and does not requires  any checkpointing strategy provided by the 'revolvers' methods. This schedule is given by using the `SingleStorageSchedule` class. The code below shows how to used this class in the forward and adjoint computations."
   ]
  },
  {
   "cell_type": "code",
   "execution_count": 36,
   "metadata": {},
   "outputs": [
    {
     "name": "stdout",
     "output_type": "stream",
     "text": [
      "−−−▶−−−▶−−−▶−−−▶            Forward(0, 9223372036854775807, False, True, <StorageType.ADJ_DEPS: 3>)\n",
      "End Forward                  EndForward()\n",
      "◀−−−◀−−−◀−−−◀−−−            Reverse(4, 0, True)\n",
      "End Reverse                     EndReverse(False,)\n"
     ]
    }
   ],
   "source": [
    "from checkpoint_schedules import SingleMemoryStorageSchedule\n",
    "\n",
    "cp_schedule = SingleMemoryStorageSchedule()\n",
    "solver_manager.execute(cp_schedule)"
   ]
  },
  {
   "cell_type": "markdown",
   "metadata": {},
   "source": [
    "In this particular case, we have:\n",
    "\n",
    "* *Forward(0, 9223372036854775807, True, True, <StorageType.RAM: 0>)*, which reads:\n",
    "    - Advance the forward solver from the step `n0` to the start of any step `n1`.\n",
    "    - Do not store the forward restart data once if `write_ics` is `'True'`.\n",
    "    - Store the forward data required for the adjoint computation once `write_adj_deps` is `'True'`.\n",
    "    - Storage type is `<StorageType.ADJ_DEPS: 3>`, which can be read as a \"variable\" that holds the adjoint dependency data (forward data) used for the adjoint computation.\n",
    "\n",
    "* *Reverse(4, 0, True)*\n",
    "-  Advance the forward solver from the step `4` to the start of the step `0`.\n",
    "- Clear the adjoint dependency data once `clear_adj_deps` is `'True'`.\n",
    "* *EndReverse(True)* indicates that the reverse actions reached the end of the time interval.\n",
    "\n",
    "This schedule does not focus on storing the forward restart data since there is no need to restart the forward solver. However, if the user requires storing the forward restart data for all time steps, the  `SingleMemoryStorageSchedule` class can sort it with the attributes `write_ics` and `storage_ics`. By setting `write_ics` to `True` and `storage_ics` to `True`, as illustrated in the following example, the user can effectively store the forward restart data for all time steps.\n",
    "\n"
   ]
  },
  {
   "cell_type": "code",
   "execution_count": 37,
   "metadata": {},
   "outputs": [
    {
     "name": "stdout",
     "output_type": "stream",
     "text": [
      "Store the forward restart data for all steps in Disk\n",
      "+−−▶+−−▶+−−▶+−−▶            Forward(0, 9223372036854775807, True, True, <StorageType.ADJ_DEPS: 3>)\n",
      "End Forward                  EndForward()\n",
      "◀−−−◀−−−◀−−−◀−−−            Reverse(4, 0, True)\n",
      "End Reverse                     EndReverse(False,)\n",
      " \n",
      "Store the forward restart data for all steps in RAM\n",
      "+−−▶+−−▶+−−▶+−−▶            Forward(0, 9223372036854775807, True, True, <StorageType.ADJ_DEPS: 3>)\n",
      "End Forward                  EndForward()\n",
      "◀−−−◀−−−◀−−−◀−−−            Reverse(4, 0, True)\n",
      "End Reverse                     EndReverse(False,)\n"
     ]
    }
   ],
   "source": [
    "from checkpoint_schedules import StorageType\n",
    "print(\"Store the forward restart data for all steps in Disk\")\n",
    "cp_schedule = SingleMemoryStorageSchedule(write_ics=True, storage_ics=StorageType.DISK)\n",
    "solver_manager.execute(cp_schedule)\n",
    "\n",
    "print(\" \")\n",
    "print(\"Store the forward restart data for all steps in RAM\")\n",
    "cp_schedule = SingleMemoryStorageSchedule(write_ics=True, storage_ics=StorageType.RAM)\n",
    "solver_manager.execute(cp_schedule)"
   ]
  },
  {
   "cell_type": "markdown",
   "metadata": {},
   "source": [
    "### Schedules for Checkpointing Strategies\n",
    "\n",
    "Now, let us consider the checkpoint schedules given by a checkpointing strategy. We will begin by exploring the Revolve approach, as introduced in reference [1].\n",
    "\n",
    "The Revolve checkpointing strategy involves storing checkpoints only in `'RAM'`. So, we now set the attribute `chk_ram` of the `CheckpointingManager` class to specify the number of steps at which the forward restart data should be stored in `'RAM'`. \n",
    "\n",
    "The schedule is generated by the `Revolve` class, which takes the number of steps at which the adjoint data should be stored in `'RAM'` as an argument. This number of steps is specified by the attribute `chk_ram`.\n",
    "\n",
    "The code below shows how to generate a schedule for the `Revolve` checkpointing strategy and illustrates the execution of the forward and adjoint computations using the generated Revolve schedule."
   ]
  },
  {
   "cell_type": "code",
   "execution_count": 38,
   "metadata": {},
   "outputs": [
    {
     "name": "stdout",
     "output_type": "stream",
     "text": [
      "+−−−▷−−−▷                  Forward(0, 2, True, False, <StorageType.RAM: 0>)\n",
      "       +−−−▷               Forward(2, 3, True, False, <StorageType.RAM: 0>)\n",
      "            −−−▶            Forward(3, 4, False, True, <StorageType.ADJ_DEPS: 3>)\n",
      "End Forward                  EndForward()\n",
      "            ◀−−−            Reverse(4, 3, True)\n",
      "                                Move(2, <StorageType.RAM: 0>, <StorageType.FWD_RESTART: 2>)\n",
      "        −−−▶               Forward(2, 3, False, True, <StorageType.ADJ_DEPS: 3>)\n",
      "        ◀−−−               Reverse(3, 2, True)\n",
      "                                Copy(0, <StorageType.RAM: 0>, <StorageType.FWD_RESTART: 2>)\n",
      "−−−▷                     Forward(0, 1, False, False, <StorageType.FWD_RESTART: 2>)\n",
      "    −−−▶                  Forward(1, 2, False, True, <StorageType.ADJ_DEPS: 3>)\n",
      "    ◀−−−                  Reverse(2, 1, True)\n",
      "                                Move(0, <StorageType.RAM: 0>, <StorageType.FWD_RESTART: 2>)\n",
      "−−−▶                     Forward(0, 1, False, True, <StorageType.ADJ_DEPS: 3>)\n",
      "◀−−−                     Reverse(1, 0, True)\n",
      "End Reverse                     EndReverse()\n"
     ]
    }
   ],
   "source": [
    "from checkpoint_schedules import Revolve\n",
    "chk_ram = 2 \n",
    "solver_manager = CheckpointingManager(max_n, chk_ram=chk_ram) # manager object\n",
    "cp_schedule = Revolve(max_n, chk_ram) \n",
    "solver_manager.execute(cp_schedule)"
   ]
  },
  {
   "cell_type": "markdown",
   "metadata": {},
   "source": [
    "In the following code illustrated the forward and adjoint computations using the checkpointing given by HRevolve strategy [2]. In this case, the storage of the forward data is done in`'RAM'` and on `'disk'`. The checkpointing schedule is generated with `HRevolve` class. \n",
    "\n",
    "The `HRevolve` class requires the following parameters: maximum steps stored in RAM (`snap_in_ram`), maximum steps stored on disk (`snap_on_disk`), and the number of time steps (`max_n`). Thus, we firs import the necessary module `HRevolve` from the *checkpoint_schedules* package. Then, `HRevolve` class is instantiated with the following parameters: `snap_in_ram = 1`, `snap_on_disk = 1`, and `max_n = 4`. Finally, we illustrate the forward and adjoint executions the H-Revolve checkpointing strategy based."
   ]
  },
  {
   "cell_type": "code",
   "execution_count": 39,
   "metadata": {},
   "outputs": [
    {
     "name": "stdout",
     "output_type": "stream",
     "text": [
      "+−−−▷−−−▷−−−▷               Forward(0, 3, True, False, <StorageType.RAM: 0>)\n",
      "            −−−▶            Forward(3, 4, False, True, <StorageType.ADJ_DEPS: 3>)\n",
      "End Forward                  EndForward()\n",
      "            ◀−−−            Reverse(4, 3, True)\n",
      "                                Copy(0, <StorageType.RAM: 0>, <StorageType.FWD_RESTART: 2>)\n",
      "−−−▷−−−▷                  Forward(0, 2, False, False, <StorageType.FWD_RESTART: 2>)\n",
      "        −−−▶               Forward(2, 3, False, True, <StorageType.ADJ_DEPS: 3>)\n",
      "        ◀−−−               Reverse(3, 2, True)\n",
      "                                Copy(0, <StorageType.RAM: 0>, <StorageType.FWD_RESTART: 2>)\n",
      "−−−▷                     Forward(0, 1, False, False, <StorageType.FWD_RESTART: 2>)\n",
      "    −−−▶                  Forward(1, 2, False, True, <StorageType.ADJ_DEPS: 3>)\n",
      "    ◀−−−                  Reverse(2, 1, True)\n",
      "                                Move(0, <StorageType.RAM: 0>, <StorageType.FWD_RESTART: 2>)\n",
      "−−−▶                     Forward(0, 1, False, True, <StorageType.ADJ_DEPS: 3>)\n",
      "◀−−−                     Reverse(1, 0, True)\n",
      "End Reverse                     EndReverse()\n"
     ]
    }
   ],
   "source": [
    "from checkpoint_schedules import HRevolve\n",
    "chk_disk = 1\n",
    "chk_ram = 1\n",
    "solver_manager = CheckpointingManager(max_n, chk_ram=chk_ram, chk_disk=chk_disk) # manager object\n",
    "cp_schedule = HRevolve(max_n, chk_ram, snap_on_disk=chk_disk)\n",
    "solver_manager.execute(cp_schedule)"
   ]
  },
  {
   "cell_type": "markdown",
   "metadata": {},
   "source": [
    "Let us consider some of the actions that are printed above:\n",
    "\n",
    "* *Forward(0, 3, True, False, <StorageType.RAM: 0>)* reads:\n",
    "    - Advance the forward solver from time step 0 to the start of the step 3.\n",
    "    - Store the forward data required to restart the forward solver at the start of step 0.\n",
    "    - Do not store the forward data required for the adjoint computation once `write_adj_deps` is `'False'`.\n",
    "    - Store the forward restart data in `'RAM'`.\n",
    "\n",
    "* *Forward(3, 4, False, True, <StorageType.ADJ_DEPS: 3>)* reads:\n",
    "    - Advance the forward solver from time step 3 to the start of the step 4.\n",
    "    - Do not store the forward data required to restart the forward solver at the start of step 3 (`write_ics` is False).\n",
    "    - Store the forward data required for the adjoint computation  (`write_adj_deps` is `'True'`).\n",
    "    - Store the forward for the adjoint computation in a 'variable' that holds the adjoint dependency required for the adjoint computation.\n",
    "\n",
    "* *Restart(4, 3, True)* reads:\n",
    "    - Restart the forward solver from the start of step 4 to the start of step 3.\n",
    "    - Clear the the adjoint dependency variable (`clear_adj_deps` is `'True'`).\n",
    "\n",
    "* *Copy(0, <StorageType.RAM: 0>, <StorageType.FWD_RESTART: 2>)* reads:\n",
    "    - Copy the forward data stored in `'RAM'` to the 'variable' that holds the data required to restart the forward solver at the start of step 0.\n",
    "\n",
    "* *Move(0, <StorageType.RAM: 0>, <StorageType.FWD_RESTART: 2>)* reads:\n",
    "    - Move the forward data stored in `'RAM'` to the 'variable' that holds the data required to restart the forward solver at the start of step 0. The data in `'RAM'` is cleared after the move once the data is no longer required.\n",
    "\n",
    "The code below illustrates the forward and adjoint computations for other checkpointing strategies available in the package. The output are similar to the one above. \n",
    "\n",
    "The complete list of checkpointing strategies available in the package are:\n",
    "* No checkpointing: without adjoint computation. No forward data is stored.\n",
    "* Single checkpointing storage: the forward data required for the adjoint computation is stored in all the time steps.\n",
    "* Revolve checkpointing: the storage is only stored in `'RAM'`. For additional details, see [Revolve checkpointing](https://doi.org/10.1016/j.jcp.2018.12.039).\n",
    "* Periodic disk checkpointing: the forward data required for the adjoint computation is stored in a periodic fashion. For additional details, see [Periodic checkpointing](https://doi.org/10.1016/j.jcp.2018.12.039).\n",
    "* Disk checkpointing: the forward data required for the adjoint computation is stored in `'RAM'` and in `'DISK'`. For additional details, see [Disk checkpointing](https://doi.org/10.1016/j.jcp.2018.12.039).\n",
    "* Multi-level checkpointing: the forward data required for the adjoint computation is stored in `'RAM'` and in `'DISK'`. For additional details, see [Multi-level checkpointing](https://doi.org/10.1016/j.jcp.2018.12.039).\n",
    "* Two-level checkpointing: the forward data required for the adjoint computation is stored in `'RAM'` and in `'DISK'`. For additional details, see [Two-level checkpointing](https://doi.org/10.1016/j.jcp.2018.12.039).\n",
    "* Mixed checkpointing: the forward data required for the adjoint computation is stored in `'RAM'` and in `'DISK'`. For additional details, see [Mixed checkpointing](https://doi.org/10.1016/j.jcp.2018.12.039)."
   ]
  },
  {
   "cell_type": "code",
   "execution_count": 40,
   "metadata": {},
   "outputs": [
    {
     "name": "stdout",
     "output_type": "stream",
     "text": [
      "+−−−▷−−−▷−−−▷               Forward(0, 3, True, False, <StorageType.RAM: 0>)\n",
      "            −−−▶            Forward(3, 4, False, True, <StorageType.ADJ_DEPS: 3>)\n",
      "End Forward                  EndForward()\n",
      "            ◀−−−            Reverse(4, 3, True)\n",
      "                                Copy(0, <StorageType.RAM: 0>, <StorageType.FWD_RESTART: 2>)\n",
      "−−−▷−−−▷                  Forward(0, 2, False, False, <StorageType.FWD_RESTART: 2>)\n",
      "        −−−▶               Forward(2, 3, False, True, <StorageType.ADJ_DEPS: 3>)\n",
      "        ◀−−−               Reverse(3, 2, True)\n",
      "                                Copy(0, <StorageType.RAM: 0>, <StorageType.FWD_RESTART: 2>)\n",
      "−−−▷                     Forward(0, 1, False, False, <StorageType.FWD_RESTART: 2>)\n",
      "    −−−▶                  Forward(1, 2, False, True, <StorageType.ADJ_DEPS: 3>)\n",
      "    ◀−−−                  Reverse(2, 1, True)\n",
      "                                Move(0, <StorageType.RAM: 0>, <StorageType.FWD_RESTART: 2>)\n",
      "−−−▶                     Forward(0, 1, False, True, <StorageType.ADJ_DEPS: 3>)\n",
      "◀−−−                     Reverse(1, 0, True)\n",
      "End Reverse                     EndReverse()\n"
     ]
    }
   ],
   "source": [
    "from checkpoint_schedules import DiskRevolve\n",
    "solver_manager = CheckpointingManager(max_n, chk_ram=chk_ram) # manager object``\n",
    "cp_schedule = DiskRevolve(max_n, chk_ram)\n",
    "solver_manager.execute(cp_schedule)"
   ]
  },
  {
   "cell_type": "code",
   "execution_count": 41,
   "metadata": {},
   "outputs": [
    {
     "name": "stdout",
     "output_type": "stream",
     "text": [
      "We use periods of size  3\n",
      "+−−−▷−−−▷−−−▷               Forward(0, 3, True, False, <StorageType.RAM: 0>)\n",
      "            −−−▶            Forward(3, 4, False, True, <StorageType.ADJ_DEPS: 3>)\n",
      "End Forward                  EndForward()\n",
      "            ◀−−−            Reverse(4, 3, True)\n",
      "                                Copy(0, <StorageType.RAM: 0>, <StorageType.FWD_RESTART: 2>)\n",
      "−−−▷−−−▷                  Forward(0, 2, False, False, <StorageType.FWD_RESTART: 2>)\n",
      "        −−−▶               Forward(2, 3, False, True, <StorageType.ADJ_DEPS: 3>)\n",
      "        ◀−−−               Reverse(3, 2, True)\n",
      "                                Copy(0, <StorageType.RAM: 0>, <StorageType.FWD_RESTART: 2>)\n",
      "−−−▷                     Forward(0, 1, False, False, <StorageType.FWD_RESTART: 2>)\n",
      "    −−−▶                  Forward(1, 2, False, True, <StorageType.ADJ_DEPS: 3>)\n",
      "    ◀−−−                  Reverse(2, 1, True)\n",
      "                                Move(0, <StorageType.RAM: 0>, <StorageType.FWD_RESTART: 2>)\n",
      "−−−▶                     Forward(0, 1, False, True, <StorageType.ADJ_DEPS: 3>)\n",
      "◀−−−                     Reverse(1, 0, True)\n",
      "End Reverse                     EndReverse()\n"
     ]
    }
   ],
   "source": [
    "from checkpoint_schedules import PeriodicDiskRevolve\n",
    "cp_schedule = PeriodicDiskRevolve(max_n, chk_ram)\n",
    "solver_manager.execute(cp_schedule)"
   ]
  },
  {
   "cell_type": "code",
   "execution_count": 42,
   "metadata": {},
   "outputs": [
    {
     "name": "stdout",
     "output_type": "stream",
     "text": [
      "+−−−▷−−−▷−−−▷               Forward(0, 3, True, False, <StorageType.DISK: 1>)\n",
      "            −−−▶            Forward(3, 4, False, True, <StorageType.ADJ_DEPS: 3>)\n",
      "End Forward                  EndForward()\n",
      "            ◀−−−            Reverse(4, 3, True)\n",
      "                                Copy(0, <StorageType.DISK: 1>, <StorageType.FWD_RESTART: 2>)\n",
      "−−−▷−−−▷                  Forward(0, 2, False, False, <StorageType.FWD_RESTART: 2>)\n",
      "        −−−▶               Forward(2, 3, False, True, <StorageType.ADJ_DEPS: 3>)\n",
      "        ◀−−−               Reverse(3, 2, True)\n",
      "                                Move(0, <StorageType.DISK: 1>, <StorageType.FWD_RESTART: 2>)\n",
      "−−−▶                     Forward(0, 1, False, True, <StorageType.DISK: 1>)\n",
      "    −−−▶                  Forward(1, 2, False, True, <StorageType.ADJ_DEPS: 3>)\n",
      "    ◀−−−                  Reverse(2, 1, True)\n",
      "                                Move(0, <StorageType.DISK: 1>, <StorageType.ADJ_DEPS: 3>)\n",
      "◀−−−                     Reverse(1, 0, True)\n",
      "End Reverse                     EndReverse()\n"
     ]
    }
   ],
   "source": [
    "from checkpoint_schedules import MixedCheckpointSchedule\n",
    "\n",
    "cp_schedule = MixedCheckpointSchedule(max_n, chk_disk)\n",
    "solver_manager.execute(cp_schedule)"
   ]
  },
  {
   "cell_type": "code",
   "execution_count": 43,
   "metadata": {},
   "outputs": [
    {
     "name": "stdout",
     "output_type": "stream",
     "text": [
      "+−−−▷−−−▷−−−▷               Forward(0, 3, True, False, <StorageType.DISK: 1>)\n",
      "            −−−▶            Forward(3, 4, False, True, <StorageType.ADJ_DEPS: 3>)\n",
      "End Forward                  EndForward()\n",
      "            ◀−−−            Reverse(4, 3, True)\n",
      "                                Copy(0, <StorageType.DISK: 1>, <StorageType.FWD_RESTART: 2>)\n",
      "−−−▷−−−▷                  Forward(0, 2, False, False, <StorageType.FWD_RESTART: 2>)\n",
      "        −−−▶               Forward(2, 3, False, True, <StorageType.ADJ_DEPS: 3>)\n",
      "        ◀−−−               Reverse(3, 2, True)\n",
      "                                Copy(0, <StorageType.DISK: 1>, <StorageType.FWD_RESTART: 2>)\n",
      "−−−▷                     Forward(0, 1, False, False, <StorageType.FWD_RESTART: 2>)\n",
      "    −−−▶                  Forward(1, 2, False, True, <StorageType.ADJ_DEPS: 3>)\n",
      "    ◀−−−                  Reverse(2, 1, True)\n",
      "                                Move(0, <StorageType.DISK: 1>, <StorageType.FWD_RESTART: 2>)\n",
      "−−−▶                     Forward(0, 1, False, True, <StorageType.ADJ_DEPS: 3>)\n",
      "◀−−−                     Reverse(1, 0, True)\n",
      "End Reverse                     EndReverse()\n"
     ]
    }
   ],
   "source": [
    "from checkpoint_schedules import MultistageCheckpointSchedule\n",
    "\n",
    "cp_schedule = MultistageCheckpointSchedule(max_n, 0, chk_disk)\n",
    "solver_manager.execute(cp_schedule)"
   ]
  },
  {
   "cell_type": "code",
   "execution_count": 14,
   "metadata": {},
   "outputs": [
    {
     "name": "stdout",
     "output_type": "stream",
     "text": [
      "|--->--->                  Forward(0, 2, True, False, <StorageType.DISK: 1>)\n",
      "       |--->--->            Forward(2, 4, True, False, <StorageType.DISK: 1>)\n",
      "End Forward                  EndForward()\n",
      "       c                        Copy(2, <StorageType.DISK: 1>, <StorageType.FWD_RESTART: 2>)\n",
      "       |--->               Forward(2, 3, False, False, <StorageType.FWD_RESTART: 2>)\n",
      "           |--->            Forward(3, 4, False, True, <StorageType.ADJ_DEPS: 3>)\n",
      "           <---|            Reverse(4, 3, True)\n",
      "       c                        Copy(2, <StorageType.DISK: 1>, <StorageType.FWD_RESTART: 2>)\n",
      "       |--->               Forward(2, 3, False, True, <StorageType.ADJ_DEPS: 3>)\n",
      "       <---|               Reverse(3, 2, True)\n",
      "c                        Copy(0, <StorageType.DISK: 1>, <StorageType.FWD_RESTART: 2>)\n",
      "|--->                     Forward(0, 1, False, False, <StorageType.FWD_RESTART: 2>)\n",
      "   |--->                  Forward(1, 2, False, True, <StorageType.ADJ_DEPS: 3>)\n",
      "   <---|                  Reverse(2, 1, True)\n",
      "c                        Copy(0, <StorageType.DISK: 1>, <StorageType.FWD_RESTART: 2>)\n",
      "|--->                     Forward(0, 1, False, True, <StorageType.ADJ_DEPS: 3>)\n",
      "<---|                     Reverse(1, 0, True)\n",
      "End Reverse                  EndReverse(False,)\n"
     ]
    }
   ],
   "source": [
    "from checkpoint_schedules import TwoLevelCheckpointSchedule\n",
    "revolver = TwoLevelCheckpointSchedule(2, binomial_snapshots=2)\n",
    "solver_manager.execute(revolver)"
   ]
  },
  {
   "cell_type": "markdown",
   "metadata": {},
   "source": [
    "### References\n",
    "\n",
    "[1] Andreas Griewank and Andrea Walther, 'Algorithm 799: revolve: an implementation of checkpointing for the reverse or adjoint mode of computational differentiation', ACM Transactions on Mathematical Software, 26(1), pp. 19--45, 2000, doi: 10.1145/347837.347846\n",
    "\n",
    "[2] Herrmann, J. and Pallez (Aupy), G.. \"H-Revolve: a framework for adjoint computation on synchronous hierarchical platforms.\" ACM Transactions on Mathematical Software (TOMS) 46.2 (2020): 1-25. doi: 10.1145/3378672\n",
    "\n",
    "[3] Aupy, G.,  Herrmann, Ju. and Hovland, P. and Robert, Y. \"Optimal multistage \n",
    "    algorithm for adjoint computation\". SIAM Journal on Scientific Computing, 38(3),\n",
    "    C232-C255, (2016). DOI: https://doi.org/10.1145/347837.347846"
   ]
  },
  {
   "cell_type": "code",
   "execution_count": null,
   "metadata": {},
   "outputs": [],
   "source": []
  }
 ],
 "metadata": {
  "kernelspec": {
   "display_name": "Python 3 (ipykernel)",
   "language": "python",
   "name": "python3"
  },
  "language_info": {
   "codemirror_mode": {
    "name": "ipython",
    "version": 3
   },
   "file_extension": ".py",
   "mimetype": "text/x-python",
   "name": "python",
   "nbconvert_exporter": "python",
   "pygments_lexer": "ipython3",
   "version": "3.11.2"
  }
 },
 "nbformat": 4,
 "nbformat_minor": 2
}
