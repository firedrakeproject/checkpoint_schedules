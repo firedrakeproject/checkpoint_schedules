{
 "cells": [
  {
   "attachments": {},
   "cell_type": "markdown",
   "metadata": {},
   "source": [
    "## Using *checkpoint_schedules* package\n",
    "\n",
    "The *checkpoint_schedules* package offers a squedule of actions able to drive adjoint-based gradient executions through a checkpoint strategy, i. e., the schedules coordinate the selective storage of the forward used to initialise the forward solver and for use in the adjoint computation. Also, the foward and back advancement in time, and the retrievement of the storage data. \n",
    "That is carrided out by a checkpoint schedule built by the sequence of actions referred to as *Forward, EndForward, Reverse, Copy, EndReverse*. The actions provide functionalities such as storing the forward checkpoint data used to restart the forward solver, storing the forward checkpoint data for adjoint computations, and retrieving the stored data for both the forward solver restart and the adjoint computation. \n",
    "\n",
    "In the following code, we have implemented the `CheckpointingManager` class, which allows the manegement of the forward and adjoint executions in time. On using `CheckpointingManager.execute` method, we iterate over a sequence of actions given by the schedule `cp_schedule`. The actions are defined by using single-dispatch functions, where the `action` function is the generic function using the singledispatch decorator. Specific functions for different types of *checkpoint_schedules* actions are provided by using the register method of the base function `action`."
   ]
  },
  {
   "cell_type": "code",
   "execution_count": 1,
   "metadata": {},
   "outputs": [],
   "source": [
    "from checkpoint_schedules import Forward, EndForward, Reverse, Copy, EndReverse\n",
    "import functools\n",
    "\n",
    "class CheckpointingManager():\n",
    "    \"\"\"Manage the forward and adjoint solvers.\n",
    "\n",
    "    Attributes\n",
    "    ----------\n",
    "    save_ram : int\n",
    "        Number of checkpoint that will be stored in RAM.\n",
    "    save_disk : int\n",
    "        Number of checkpoint that will be stored on disk.\n",
    "    list_actions : list\n",
    "        Store the list of actions.\n",
    "    max_n : int\n",
    "        Total steps used to execute the solvers.\n",
    "    \"\"\"\n",
    "    def __init__(self, max_n, save_ram, save_disk=0):\n",
    "        self.max_n = max_n\n",
    "        self.save_ram = save_ram\n",
    "        self.save_disk = save_disk\n",
    "        self.list_actions = []\n",
    "        \n",
    "    def execute(self, cp_schedule):\n",
    "        \"\"\"Execute forward and adjoint with a checkpointing strategy.\n",
    "\n",
    "        Parameters\n",
    "        ----------\n",
    "        cp_schedule : object\n",
    "            Checkpointing schedule.\n",
    "        \"\"\"\n",
    "        @functools.singledispatch\n",
    "        def action(cp_action):\n",
    "            raise TypeError(\"Unexpected action\")\n",
    "\n",
    "        @action.register(Forward)\n",
    "        def action_forward(cp_action):\n",
    "            nonlocal model_n\n",
    "            if cp_action.write_ics:\n",
    "                print((\"*\").rjust(cp_action.n0*4))\n",
    "\n",
    "            print((\"|\" + \"--->\"*(cp_action.n1-cp_action.n0)).rjust(cp_action.n1*4) +\n",
    "                   \"   \"*(self.max_n - cp_action.n1 + 4) + \n",
    "                   self.list_actions[len(self.list_actions) - 1])\n",
    "\n",
    "            n1 = min(cp_action.n1, self.max_n)\n",
    "            model_n = n1\n",
    "            if cp_action.n1 == self.max_n:\n",
    "                cp_schedule.finalize(n1)\n",
    "\n",
    "        @action.register(Reverse)\n",
    "        def action_reverse(cp_action):\n",
    "            nonlocal model_r\n",
    "            print((\"<---\"*(cp_action.n1-cp_action.n0) + \"|\").rjust(cp_action.n1*4) \n",
    "                  + \"   \"*(self.max_n - cp_action.n1 + 4) + \n",
    "                    self.list_actions[len(self.list_actions) - 1])\n",
    "\n",
    "            model_r += cp_action.n1 - cp_action.n0\n",
    "            \n",
    "        @action.register(Copy)\n",
    "        def action_copy(cp_action):\n",
    "            print((\"+\").rjust(cp_action.n*4) \n",
    "                  + \"   \"*(self.max_n + 4) + \n",
    "                    self.list_actions[len(self.list_actions) - 1])\n",
    "\n",
    "    \n",
    "        @action.register(EndForward)\n",
    "        def action_end_forward(cp_action):\n",
    "            assert model_n == self.max_n\n",
    "            print(\"End Forward\")\n",
    "            \n",
    "        @action.register(EndReverse)\n",
    "        def action_end_reverse(cp_action):\n",
    "            nonlocal model_r\n",
    "            assert model_r == self.max_n\n",
    "            print(\"End Reverse\")\n",
    "\n",
    "        model_n = 0\n",
    "        model_r = 0\n",
    "\n",
    "        count = 0\n",
    "        while True:\n",
    "            cp_action = next(cp_schedule)\n",
    "            self.list_actions.append(str(cp_action))\n",
    "            action(cp_action)\n",
    "            count += 1\n",
    "            if isinstance(cp_action, EndReverse):  \n",
    "                break"
   ]
  },
  {
   "attachments": {},
   "cell_type": "markdown",
   "metadata": {},
   "source": [
    "Firstly, let us define the total steps used in the computations and set the number of time steps to store the forward checkpoint data in RAM."
   ]
  },
  {
   "cell_type": "code",
   "execution_count": 2,
   "metadata": {},
   "outputs": [],
   "source": [
    "max_n = 4 # Total number of time steps.\n",
    "save_ram = 2 # Number of steps to save i RAM."
   ]
  },
  {
   "attachments": {},
   "cell_type": "markdown",
   "metadata": {},
   "source": [
    "Next, let us set the `CheckpointingManager` manager object with the attributes defined above. "
   ]
  },
  {
   "cell_type": "code",
   "execution_count": 3,
   "metadata": {},
   "outputs": [],
   "source": [
    "chk_manager = CheckpointingManager(max_n, save_ram) # manager object"
   ]
  },
  {
   "attachments": {},
   "cell_type": "markdown",
   "metadata": {},
   "source": [
    "The *checkpoint_schedules* package provide a range o iterators for the the following checkpoint strategies:\n",
    "* Revolve \n",
    "* Multistage \n",
    "* two-level mixed periodic/binomial\n",
    "* H-Revolve\n",
    "* Mixing Storage\n",
    "* Periodic disk storage\n",
    "\n",
    "We start showing how the *checkpoint_schedules* works by building a schedule iterator (named `chk_iterator`) with the Revolve strategy. The schedule is building on executing `revolver.sequence()`."
   ]
  },
  {
   "cell_type": "code",
   "execution_count": 4,
   "metadata": {},
   "outputs": [],
   "source": [
    "from checkpoint_schedules import Revolve\n",
    "rev_ite = Revolve(max_n, save_ram)\n",
    "rev_ite.sequence()"
   ]
  },
  {
   "attachments": {},
   "cell_type": "markdown",
   "metadata": {},
   "source": [
    "`rev_ite.execute(revolver)` runs the executions of the forward and adjoint solvers with."
   ]
  },
  {
   "cell_type": "code",
   "execution_count": 5,
   "metadata": {},
   "outputs": [
    {
     "name": "stdout",
     "output_type": "stream",
     "text": [
      "*\n",
      "|--->--->                  Forward(0, 2, True, False, 'RAM')\n",
      "       *\n",
      "       |--->               Forward(2, 3, True, False, 'RAM')\n",
      "           |--->            Forward(3, 4, False, True, 'RAM')\n",
      "End Forward\n",
      "           <---|            Reverse(4, 3, True)\n",
      "       +                        Copy(2, 'RAM', True)\n",
      "       |--->               Forward(2, 3, False, True, 'RAM')\n",
      "       <---|               Reverse(3, 2, True)\n",
      "+                        Copy(0, 'RAM', False)\n",
      "|--->                     Forward(0, 1, False, False, <StorageType.NONE: None>)\n",
      "   |--->                  Forward(1, 2, False, True, 'RAM')\n",
      "   <---|                  Reverse(2, 1, True)\n",
      "+                        Copy(0, 'RAM', True)\n",
      "|--->                     Forward(0, 1, False, True, 'RAM')\n",
      "<---|                     Reverse(1, 0, True)\n",
      "End Reverse\n"
     ]
    }
   ],
   "source": [
    "chk_manager.execute(rev_ite)"
   ]
  },
  {
   "attachments": {},
   "cell_type": "markdown",
   "metadata": {},
   "source": [
    "The output above illustrates how it works the forward and adjoint executions in time with the *checkpoint_schedules* package. The symbol `|` indicates the step that the solver initialises. The symbom `*` on top of `|` indicates that the data used to restart the forward solver is stored. Whereas the symbol `+` indicates the action of copying the storage data used as initial conditions for the forward solver recomputation. \n",
    "\n",
    "To complement the illustration above, consider some of the actions explained as follow:\n",
    "\n",
    "* Forward action\n",
    "    - General form: *Forward(n0, n1, write_ics, write_adj_deps, 'storage')*\n",
    "    - Particular form: \n",
    "        * *Forward(0, 2, True, False, 'RAM')*:\n",
    "            - Execute the forward solver from the starting step 0 until \n",
    "            to reach the forward solution at step 2.\n",
    "            - Write the forward data required to initialise the forward solver from step 0. \n",
    "            The storage is in RAM.\n",
    "            - It is not required to store the forward data for the adjoint computation \n",
    "            (*write_adj_deps* is False).\n",
    "\n",
    "        * *Forward(3, 4, False, True, 'RAM')*:\n",
    "            - Execute the forward solver from the starting step 3 until \n",
    "            to reach the forward solution at step 4.\n",
    "            - It is not required to store the forward data (*write_ics* is False) used to initialise the forward solver.\n",
    "            - Write the forward data required for the adjoint computation (*write_adj_deps* is *True*). The storage is in RAM.\n",
    "\n",
    "* Reverse action\n",
    "     - General form: *Reverse(n1, n0, clear_adj_deps)*\n",
    "     - Particular form:\n",
    "        * *Reverse(4, 3, True)*: \n",
    "            - Execute the adjoint solver from the starting step 4 untial to reach the reverse solution at the step 3.\n",
    "            - Clear the adjoint dependencies (*clear_adj_deps* is True) used in the adjoint computation.\n",
    "* Copy action\n",
    "     - General form: Copy(n, from_storage, delete)\n",
    "     - Particular form:\n",
    "        * Copy(2, 'RAM', True):\n",
    "            - Copy the forward data stored in RAM that is required to initialise the forward solver from the step 2.\n",
    "            - Delete the stored data from RAM (*delete* is *True*) as it is not needed anymore to restart the forward solver.\n",
    "\n",
    "        * Copy(0, 'RAM', False):\n",
    "            - Copy the forward data stored in RAM that is required to initialise the forward solver from the step 0.\n",
    "            - Do not delete the stored data from RAM (*delete* is `FALSE`).\n",
    "\n"
   ]
  },
  {
   "cell_type": "code",
   "execution_count": 6,
   "metadata": {},
   "outputs": [
    {
     "name": "stdout",
     "output_type": "stream",
     "text": [
      "*\n",
      "|--->--->                  Forward(0, 2, True, False, 'DISK')\n",
      "       *\n",
      "       |--->               Forward(2, 3, True, False, 'RAM')\n",
      "           |--->            Forward(3, 4, False, True, 'RAM')\n",
      "End Forward\n",
      "           <---|            Reverse(4, 3, True)\n",
      "       +                        Copy(2, 'RAM', True)\n",
      "       |--->               Forward(2, 3, False, True, 'RAM')\n",
      "       <---|               Reverse(3, 2, True)\n",
      "+                        Copy(0, 'DISK', False)\n",
      "*\n",
      "|--->                     Forward(0, 1, True, False, 'RAM')\n",
      "   |--->                  Forward(1, 2, False, True, 'RAM')\n",
      "   <---|                  Reverse(2, 1, True)\n",
      "+                        Copy(0, 'RAM', True)\n",
      "|--->                     Forward(0, 1, False, True, 'RAM')\n",
      "<---|                     Reverse(1, 0, True)\n",
      "End Reverse\n"
     ]
    }
   ],
   "source": [
    "from checkpoint_schedules import HRevolve\n",
    "save_disk = 1\n",
    "save_ram = 1\n",
    "chk_manager = CheckpointingManager(max_n, save_ram, save_disk=save_disk) # manager object\n",
    "revolver = HRevolve(max_n, save_ram, snap_on_disk=save_disk)\n",
    "revolver.sequence(w_cost=(0, 0.5), r_cost=(0, 0.5))\n",
    "chk_manager.execute(revolver)"
   ]
  },
  {
   "attachments": {},
   "cell_type": "markdown",
   "metadata": {},
   "source": [
    "Below we have the schedule obtained from Disk-Revolve and Periodic-Disk-Revolve checkpoint strategies."
   ]
  },
  {
   "cell_type": "code",
   "execution_count": 7,
   "metadata": {},
   "outputs": [
    {
     "name": "stdout",
     "output_type": "stream",
     "text": [
      "None\n",
      "*\n",
      "|--->--->                  Forward(0, 2, True, False, 'DISK')\n",
      "       *\n",
      "       |--->               Forward(2, 3, True, False, 'RAM')\n",
      "           |--->            Forward(3, 4, False, True, 'RAM')\n",
      "End Forward\n",
      "           <---|            Reverse(4, 3, True)\n",
      "       +                        Copy(2, 'RAM', True)\n",
      "       |--->               Forward(2, 3, False, True, 'RAM')\n",
      "       <---|               Reverse(3, 2, True)\n",
      "+                        Copy(0, 'DISK', False)\n",
      "*\n",
      "|--->                     Forward(0, 1, True, False, 'RAM')\n",
      "   |--->                  Forward(1, 2, False, True, 'RAM')\n",
      "   <---|                  Reverse(2, 1, True)\n",
      "+                        Copy(0, 'RAM', True)\n",
      "|--->                     Forward(0, 1, False, True, 'RAM')\n",
      "<---|                     Reverse(1, 0, True)\n",
      "End Reverse\n"
     ]
    }
   ],
   "source": [
    "from checkpoint_schedules import DiskRevolve\n",
    "revolver = DiskRevolve(max_n, save_ram, snap_on_disk=save_disk)\n",
    "print(revolver._schedule)\n",
    "revolver.sequence(w_cost=0.5, r_cost=0.5)\n",
    "chk_manager.execute(revolver)"
   ]
  },
  {
   "cell_type": "code",
   "execution_count": 8,
   "metadata": {},
   "outputs": [
    {
     "name": "stdout",
     "output_type": "stream",
     "text": [
      "We use periods of size  2\n",
      "*\n",
      "|--->--->                  Forward(0, 2, True, False, 'DISK')\n",
      "       *\n",
      "       |--->               Forward(2, 3, True, False, 'RAM')\n",
      "           |--->            Forward(3, 4, False, True, 'RAM')\n",
      "End Forward\n",
      "           <---|            Reverse(4, 3, True)\n",
      "       +                        Copy(2, 'RAM', True)\n",
      "       |--->               Forward(2, 3, False, True, 'RAM')\n",
      "       <---|               Reverse(3, 2, True)\n",
      "+                        Copy(0, 'DISK', False)\n",
      "*\n",
      "|--->                     Forward(0, 1, True, False, 'RAM')\n",
      "   |--->                  Forward(1, 2, False, True, 'RAM')\n",
      "   <---|                  Reverse(2, 1, True)\n",
      "+                        Copy(0, 'RAM', True)\n",
      "|--->                     Forward(0, 1, False, True, 'RAM')\n",
      "<---|                     Reverse(1, 0, True)\n",
      "End Reverse\n"
     ]
    }
   ],
   "source": [
    "from checkpoint_schedules import PeriodicDiskRevolve\n",
    "revolver = PeriodicDiskRevolve(max_n, save_ram, snap_on_disk=save_disk)\n",
    "revolver.sequence(period=2)\n",
    "chk_manager.execute(revolver)"
   ]
  },
  {
   "cell_type": "code",
   "execution_count": 9,
   "metadata": {},
   "outputs": [],
   "source": [
    "# from checkpoint_schedules import MixedCheckpointSchedule\n",
    "# snapshots = 2\n",
    "# revolver = MixedCheckpointSchedule(max_n, snapshots)\n",
    "# chk_manager.execute(revolver)"
   ]
  },
  {
   "cell_type": "code",
   "execution_count": 10,
   "metadata": {},
   "outputs": [
    {
     "name": "stdout",
     "output_type": "stream",
     "text": [
      "*\n",
      "|--->--->                  Forward(0, 2, True, False, 'DISK')\n",
      "       *\n",
      "       |--->               Forward(2, 3, True, False, 'DISK')\n",
      "           |--->            Forward(3, 4, False, True, 'RAM')\n",
      "End Forward\n",
      "           <---|            Reverse(4, 3, True)\n",
      "       +                        Copy(2, 'DISK', True)\n",
      "       |--->               Forward(2, 3, False, True, 'RAM')\n",
      "       <---|               Reverse(3, 2, True)\n",
      "+                        Copy(0, 'DISK', False)\n",
      "|--->                     Forward(0, 1, False, False, 'NONE')\n",
      "   |--->                  Forward(1, 2, False, True, 'RAM')\n",
      "   <---|                  Reverse(2, 1, True)\n",
      "+                        Copy(0, 'DISK', True)\n",
      "|--->                     Forward(0, 1, False, True, 'RAM')\n",
      "<---|                     Reverse(1, 0, True)\n",
      "End Reverse\n"
     ]
    }
   ],
   "source": [
    "from checkpoint_schedules import MultistageCheckpointSchedule\n",
    "snapshots = 2\n",
    "revolver = MultistageCheckpointSchedule(max_n, 0, 2)\n",
    "chk_manager.execute(revolver)"
   ]
  },
  {
   "cell_type": "code",
   "execution_count": 11,
   "metadata": {},
   "outputs": [],
   "source": [
    "# from checkpoint_schedules import TwoLevelCheckpointSchedule\n",
    "# revolver = TwoLevelCheckpointSchedule(2, 10)\n",
    "# chk_manager.execute(revolver)\n"
   ]
  },
  {
   "attachments": {},
   "cell_type": "markdown",
   "metadata": {},
   "source": [
    "This first example gives the basics of executions involving an adjoint-based gradient using *checkpoint_schedules* package. The next section shows an example an application of adjoint-based gradient problem."
   ]
  }
 ],
 "metadata": {
  "kernelspec": {
   "display_name": "Python 3 (ipykernel)",
   "language": "python",
   "name": "python3"
  },
  "language_info": {
   "codemirror_mode": {
    "name": "ipython",
    "version": 3
   },
   "file_extension": ".py",
   "mimetype": "text/x-python",
   "name": "python",
   "nbconvert_exporter": "python",
   "pygments_lexer": "ipython3",
   "version": "3.11.2"
  }
 },
 "nbformat": 4,
 "nbformat_minor": 2
}
