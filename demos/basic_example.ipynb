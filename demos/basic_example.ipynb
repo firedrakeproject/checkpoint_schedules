{
 "cells": [
  {
   "attachments": {},
   "cell_type": "markdown",
   "metadata": {},
   "source": [
    "## Using *checkpoint_schedules* package\n",
    "\n",
    "This first example aim to present a quick start of the *checkpoint_schedules* usage. Thus, the example is a basic illustration showing how this package woks and how to read the time execution using this package.\n",
    "\n",
    "To execute a adjoint-based gradient problem with *checkpoint_schedules*, we initially implement `CheckpointingManager` class built to handle both forward and adjoint executions. This management is achieved by iterating over a sequence of schedules through the execution of `CheckpointingManager.execute(cp_schedule)`. The `cp_schedule` must be a *checkpoint_schedules* objective with a generator method that allows the execution of the forward and adjoint solvers driven by the schedules of actions: *Forward, EndForward, Reverse, Copy, Move, EndReverse.*\n",
    "\n",
    "Whitin `CheckpointingManager.execute` method, we define the actions using single-dispatch functions, with the `action` function being the generic function decorated with the `singledispatch` function. Specific functions for the *checkpoint_schedules* actions are provided through the register method of the `action` base function."
   ]
  },
  {
   "cell_type": "code",
   "execution_count": 21,
   "metadata": {},
   "outputs": [],
   "source": [
    "from checkpoint_schedules import Forward, EndForward, Reverse, Copy, Move, EndReverse\n",
    "import functools\n",
    "\n",
    "class CheckpointingManager():\n",
    "    \"\"\"Manage the forward and adjoint solvers.\n",
    "\n",
    "    Attributes\n",
    "    ----------\n",
    "    save_ram : int\n",
    "        Number of checkpoint that will be stored in `'RAM'`.\n",
    "    save_disk : int\n",
    "        Number of checkpoint that will be stored on `'disk'`.\n",
    "    list_actions : list\n",
    "        Store the list of actions.\n",
    "    max_n : int\n",
    "        Total steps used to execute the solvers.\n",
    "    \"\"\"\n",
    "    def __init__(self, max_n, chk_ram=0, chk_disk=0):\n",
    "        self.max_n = max_n\n",
    "        self.save_ram = chk_ram\n",
    "        self.save_disk = chk_disk\n",
    "        self.list_actions = []\n",
    "        \n",
    "    def execute(self, cp_schedule):\n",
    "        \"\"\"Execute forward and adjoint with a checkpointing strategy.\n",
    "\n",
    "        Parameters\n",
    "        ----------\n",
    "        cp_schedule : CheckpointSchedule\n",
    "            Checkpointing schedule object.\n",
    "        \"\"\"\n",
    "        @functools.singledispatch\n",
    "        def action(cp_action):\n",
    "            raise TypeError(\"Unexpected action\")\n",
    "\n",
    "        @action.register(Forward)\n",
    "        def action_forward(cp_action):\n",
    "            nonlocal model_n\n",
    "            n1 = min(cp_action.n1, self.max_n)\n",
    "            if cp_action.write_ics:\n",
    "                print((\" +\").rjust(cp_action.n0*4))\n",
    "            if cp_action.write_adj_deps:\n",
    "                print((\"+\").rjust(n1*4))\n",
    "   \n",
    "            print((\"|\" + \"--->\"*(n1-cp_action.n0)).rjust(n1*4) +\n",
    "                   \"   \"*(self.max_n - n1 + 4) + \n",
    "                   self.list_actions[len(self.list_actions) - 1])\n",
    "\n",
    "            model_n = n1\n",
    "            if n1 == self.max_n:\n",
    "                cp_schedule.finalize(n1)\n",
    "\n",
    "        @action.register(Reverse)\n",
    "        def action_reverse(cp_action):\n",
    "            nonlocal model_r\n",
    "            print((\"<---\"*(cp_action.n1-cp_action.n0) + \"|\").rjust(cp_action.n1*4) \n",
    "                  + \"   \"*(self.max_n - cp_action.n1 + 4) + \n",
    "                    self.list_actions[len(self.list_actions) - 1])\n",
    "\n",
    "            model_r += cp_action.n1 - cp_action.n0\n",
    "            \n",
    "        @action.register(Copy)\n",
    "        def action_copy(cp_action):\n",
    "            print((\"c\").rjust(cp_action.n*4) \n",
    "                  + \"   \"*(self.max_n + 4) + \n",
    "                    self.list_actions[len(self.list_actions) - 1])\n",
    "\n",
    "        @action.register(Move)\n",
    "        def action_move(cp_action):\n",
    "            print((\"-\").rjust(cp_action.n*4) \n",
    "                  + \"   \"*(self.max_n + 3) + \n",
    "                    self.list_actions[len(self.list_actions) - 1])\n",
    "\n",
    "        @action.register(EndForward)\n",
    "        def action_end_forward(cp_action):\n",
    "            assert model_n == self.max_n\n",
    "            # The correct number of adjoint steps has been taken\n",
    "            if cp_schedule._max_n is None:\n",
    "                cp_schedule._max_n = self.max_n\n",
    "            \n",
    "        @action.register(EndReverse)\n",
    "        def action_end_reverse(cp_action):\n",
    "            nonlocal model_r\n",
    "            assert model_r == self.max_n\n",
    "            print(\"End Reverse\")\n",
    "\n",
    "        model_n = 0\n",
    "        model_r = 0\n",
    "\n",
    "        for count, cp_action in enumerate(cp_schedule):\n",
    "            self.list_actions.append(str(cp_action))\n",
    "            action(cp_action)\n",
    "            if isinstance(cp_action, EndReverse):  \n",
    "                break"
   ]
  },
  {
   "cell_type": "markdown",
   "metadata": {},
   "source": [
    "Notice that `CheckpointingManager` constructor is optional to define the number of checkpoint steps to store in ram (`chk_ram`) and in disk (`chk_disk`). The reason is that *checkpointing_schedules* works for the case where no adjoint calculation is performed. Therefore, there is no need of storing any forward checkpointing data. This type of schedule is available to make easier the integration of this package with an adjoint-based gradient solver which is not restrict on applying the a checkpointing strategy. To exemplify this case of no adjoint computation, let us impose the number of total steps `max_n` and the object to drive the the forward solver (`solver_manager`). "
   ]
  },
  {
   "cell_type": "code",
   "execution_count": 22,
   "metadata": {},
   "outputs": [],
   "source": [
    "max_n = 4 # Total number of time steps.\n",
    "solver_manager = CheckpointingManager(max_n) # manager object"
   ]
  },
  {
   "cell_type": "markdown",
   "metadata": {},
   "source": [
    "The checkpoint schedule for the case where there is no adjoint calculation is give by `checkpoint_schedules.NoneCheckpointSchedule`. Below we have illustrated the employment of this schedule for the time steps (`max_n`) defined above."
   ]
  },
  {
   "cell_type": "code",
   "execution_count": 23,
   "metadata": {},
   "outputs": [
    {
     "name": "stdout",
     "output_type": "stream",
     "text": [
      "|--->--->--->--->            Forward(0, 9223372036854775807, False, False, <StorageType.NONE: None>)\n"
     ]
    }
   ],
   "source": [
    "from checkpoint_schedules import NoneCheckpointSchedule\n",
    "cp_schedule = NoneCheckpointSchedule() # checkpoint schedule object\n",
    "solver_manager.execute(cp_schedule)"
   ]
  },
  {
   "cell_type": "markdown",
   "metadata": {},
   "source": [
    "The ouputs of the `solver_manager.execute(cp_schedule)` illustrate the execution in time on the right side and print *checkpoint_schedules* action on the left side.\n",
    "\n",
    "To clarify how the `Forward` action works, consider initially the general form: \n",
    "    \n",
    "    * *Forward(n0, n1, write_ics, write_adj_deps, 'storage')*:\n",
    "\n",
    "        - Advance the forward solver from the step `n0`` to the start of the step `n1`.\n",
    "        - Store the forward data required to initialise the forward solver from the step `n0` if `write_ics` is `'True'`.\n",
    "        - Write the forward data required for the adjoint computation from the step `n1` to the step `n0` if `write_adj_deps` is `'True'`.\n",
    "        - Storage type to save the forward data.\n",
    "\n",
    "Therefore, for this particular case, we have:\n",
    "\n",
    "    * Forward(0, 9223372036854775807, False, False, <StorageType.NONE: None>), which reads:\n",
    "    \n"
   ]
  },
  {
   "cell_type": "code",
   "execution_count": 25,
   "metadata": {},
   "outputs": [
    {
     "name": "stdout",
     "output_type": "stream",
     "text": [
      " +\n",
      "               +\n",
      "|--->--->--->--->            Forward(0, 9223372036854775807, True, True, <StorageType.WORKING_MEMORY: 4>)\n",
      "<---<---<---<---|            Reverse(4, 0, True)\n",
      "End Reverse\n"
     ]
    }
   ],
   "source": [
    "from checkpoint_schedules import SingleMemoryStorageSchedule\n",
    "\n",
    "cp_schedule = SingleMemoryStorageSchedule()\n",
    "solver_manager.execute(cp_schedule)"
   ]
  },
  {
   "cell_type": "code",
   "execution_count": 28,
   "metadata": {},
   "outputs": [
    {
     "name": "stdout",
     "output_type": "stream",
     "text": [
      " +\n",
      "|--->--->                  Forward(0, 2, True, False, <StorageType.RAM: 0>)\n",
      "       +\n",
      "       |--->               Forward(2, 3, True, False, <StorageType.RAM: 0>)\n",
      "               +\n",
      "           |--->            Forward(3, 4, False, True, <StorageType.ADJ_DEPS: 3>)\n",
      "           <---|            Reverse(4, 3, True)\n",
      "       -                     Move(2, <StorageType.RAM: 0>, <StorageType.FWD_RESTART: 2>)\n",
      "           +\n",
      "       |--->               Forward(2, 3, False, True, <StorageType.ADJ_DEPS: 3>)\n",
      "       <---|               Reverse(3, 2, True)\n",
      "c                        Copy(0, <StorageType.RAM: 0>, <StorageType.FWD_RESTART: 2>)\n",
      "|--->                     Forward(0, 1, False, False, <StorageType.FWD_RESTART: 2>)\n",
      "       +\n",
      "   |--->                  Forward(1, 2, False, True, <StorageType.ADJ_DEPS: 3>)\n",
      "   <---|                  Reverse(2, 1, True)\n",
      "-                     Move(0, <StorageType.RAM: 0>, <StorageType.FWD_RESTART: 2>)\n",
      "   +\n",
      "|--->                     Forward(0, 1, False, True, <StorageType.ADJ_DEPS: 3>)\n",
      "<---|                     Reverse(1, 0, True)\n",
      "End Reverse\n"
     ]
    }
   ],
   "source": [
    "from checkpoint_schedules import Revolve\n",
    "chk_ram = 2\n",
    "solver_manager = CheckpointingManager(max_n, chk_ram=chk_ram) # manager object\n",
    "cp_schedule = Revolve(max_n, chk_ram)\n",
    "solver_manager.execute(cp_schedule)"
   ]
  },
  {
   "cell_type": "code",
   "execution_count": 31,
   "metadata": {},
   "outputs": [
    {
     "name": "stdout",
     "output_type": "stream",
     "text": [
      " +\n",
      "|--->--->--->               Forward(0, 3, True, False, <StorageType.RAM: 0>)\n",
      "               +\n",
      "           |--->            Forward(3, 4, False, True, <StorageType.ADJ_DEPS: 3>)\n",
      "           <---|            Reverse(4, 3, True)\n",
      "c                        Copy(0, <StorageType.RAM: 0>, <StorageType.FWD_RESTART: 2>)\n",
      "|--->--->                  Forward(0, 2, False, False, <StorageType.FWD_RESTART: 2>)\n",
      "           +\n",
      "       |--->               Forward(2, 3, False, True, <StorageType.ADJ_DEPS: 3>)\n",
      "       <---|               Reverse(3, 2, True)\n",
      "c                        Copy(0, <StorageType.RAM: 0>, <StorageType.FWD_RESTART: 2>)\n",
      "|--->                     Forward(0, 1, False, False, <StorageType.FWD_RESTART: 2>)\n",
      "       +\n",
      "   |--->                  Forward(1, 2, False, True, <StorageType.ADJ_DEPS: 3>)\n",
      "   <---|                  Reverse(2, 1, True)\n",
      "-                     Move(0, <StorageType.RAM: 0>, <StorageType.FWD_RESTART: 2>)\n",
      "   +\n",
      "|--->                     Forward(0, 1, False, True, <StorageType.ADJ_DEPS: 3>)\n",
      "<---|                     Reverse(1, 0, True)\n",
      "End Reverse\n"
     ]
    }
   ],
   "source": [
    "from checkpoint_schedules import HRevolve\n",
    "chk_disk = 1\n",
    "chk_ram = 1\n",
    "solver_manager = CheckpointingManager(max_n, chk_ram=chk_ram, chk_disk=chk_disk) # manager object\n",
    "cp_schedule = HRevolve(max_n, chk_ram, snap_on_disk=chk_disk)\n",
    "solver_manager.execute(cp_schedule)"
   ]
  },
  {
   "cell_type": "code",
   "execution_count": 32,
   "metadata": {},
   "outputs": [
    {
     "name": "stdout",
     "output_type": "stream",
     "text": [
      " +\n",
      "|--->--->--->               Forward(0, 3, True, False, <StorageType.RAM: 0>)\n",
      "               +\n",
      "           |--->            Forward(3, 4, False, True, <StorageType.ADJ_DEPS: 3>)\n",
      "           <---|            Reverse(4, 3, True)\n",
      "c                        Copy(0, <StorageType.RAM: 0>, <StorageType.FWD_RESTART: 2>)\n",
      "|--->--->                  Forward(0, 2, False, False, <StorageType.FWD_RESTART: 2>)\n",
      "           +\n",
      "       |--->               Forward(2, 3, False, True, <StorageType.ADJ_DEPS: 3>)\n",
      "       <---|               Reverse(3, 2, True)\n",
      "c                        Copy(0, <StorageType.RAM: 0>, <StorageType.FWD_RESTART: 2>)\n",
      "|--->                     Forward(0, 1, False, False, <StorageType.FWD_RESTART: 2>)\n",
      "       +\n",
      "   |--->                  Forward(1, 2, False, True, <StorageType.ADJ_DEPS: 3>)\n",
      "   <---|                  Reverse(2, 1, True)\n",
      "-                     Move(0, <StorageType.RAM: 0>, <StorageType.FWD_RESTART: 2>)\n",
      "   +\n",
      "|--->                     Forward(0, 1, False, True, <StorageType.ADJ_DEPS: 3>)\n",
      "<---|                     Reverse(1, 0, True)\n",
      "End Reverse\n"
     ]
    }
   ],
   "source": [
    "from checkpoint_schedules import DiskRevolve\n",
    "solver_manager = CheckpointingManager(max_n, chk_ram=chk_ram) # manager object``\n",
    "cp_schedule = DiskRevolve(max_n, chk_ram)\n",
    "solver_manager.execute(cp_schedule)"
   ]
  },
  {
   "cell_type": "code",
   "execution_count": 33,
   "metadata": {},
   "outputs": [
    {
     "name": "stdout",
     "output_type": "stream",
     "text": [
      "We use periods of size  3\n",
      " +\n",
      "|--->--->--->               Forward(0, 3, True, False, <StorageType.RAM: 0>)\n",
      "               +\n",
      "           |--->            Forward(3, 4, False, True, <StorageType.ADJ_DEPS: 3>)\n",
      "           <---|            Reverse(4, 3, True)\n",
      "c                        Copy(0, <StorageType.RAM: 0>, <StorageType.FWD_RESTART: 2>)\n",
      "|--->--->                  Forward(0, 2, False, False, <StorageType.FWD_RESTART: 2>)\n",
      "           +\n",
      "       |--->               Forward(2, 3, False, True, <StorageType.ADJ_DEPS: 3>)\n",
      "       <---|               Reverse(3, 2, True)\n",
      "c                        Copy(0, <StorageType.RAM: 0>, <StorageType.FWD_RESTART: 2>)\n",
      "|--->                     Forward(0, 1, False, False, <StorageType.FWD_RESTART: 2>)\n",
      "       +\n",
      "   |--->                  Forward(1, 2, False, True, <StorageType.ADJ_DEPS: 3>)\n",
      "   <---|                  Reverse(2, 1, True)\n",
      "-                     Move(0, <StorageType.RAM: 0>, <StorageType.FWD_RESTART: 2>)\n",
      "   +\n",
      "|--->                     Forward(0, 1, False, True, <StorageType.ADJ_DEPS: 3>)\n",
      "<---|                     Reverse(1, 0, True)\n",
      "End Reverse\n"
     ]
    }
   ],
   "source": [
    "from checkpoint_schedules import PeriodicDiskRevolve\n",
    "cp_schedule = PeriodicDiskRevolve(max_n, chk_ram)\n",
    "solver_manager.execute(cp_schedule)"
   ]
  },
  {
   "cell_type": "code",
   "execution_count": 34,
   "metadata": {},
   "outputs": [
    {
     "name": "stdout",
     "output_type": "stream",
     "text": [
      " +\n",
      "|--->--->--->               Forward(0, 3, True, False, <StorageType.DISK: 1>)\n",
      "               +\n",
      "           |--->            Forward(3, 4, False, True, <StorageType.ADJ_DEPS: 3>)\n",
      "           <---|            Reverse(4, 3, True)\n",
      "c                        Copy(0, <StorageType.DISK: 1>, <StorageType.FWD_RESTART: 2>)\n",
      "|--->--->                  Forward(0, 2, False, False, <StorageType.FWD_RESTART: 2>)\n",
      "           +\n",
      "       |--->               Forward(2, 3, False, True, <StorageType.ADJ_DEPS: 3>)\n",
      "       <---|               Reverse(3, 2, True)\n",
      "-                     Move(0, <StorageType.DISK: 1>, <StorageType.FWD_RESTART: 2>)\n",
      "   +\n",
      "|--->                     Forward(0, 1, False, True, <StorageType.DISK: 1>)\n",
      "       +\n",
      "   |--->                  Forward(1, 2, False, True, <StorageType.ADJ_DEPS: 3>)\n",
      "   <---|                  Reverse(2, 1, True)\n",
      "-                     Move(0, <StorageType.DISK: 1>, <StorageType.ADJ_DEPS: 3>)\n",
      "<---|                     Reverse(1, 0, True)\n",
      "End Reverse\n"
     ]
    },
    {
     "name": "stderr",
     "output_type": "stream",
     "text": [
      "/home/ma/d/ddolci/work/checkpoint_schedules/checkpoint_schedules/mixed.py:59: RuntimeWarning: Numba not available -- using memoization\n",
      "  warnings.warn(\"Numba not available -- using memoization\",\n"
     ]
    }
   ],
   "source": [
    "from checkpoint_schedules import MixedCheckpointSchedule\n",
    "\n",
    "cp_schedule = MixedCheckpointSchedule(max_n, chk_disk)\n",
    "solver_manager.execute(cp_schedule)"
   ]
  },
  {
   "cell_type": "code",
   "execution_count": 35,
   "metadata": {},
   "outputs": [
    {
     "name": "stdout",
     "output_type": "stream",
     "text": [
      " +\n",
      "|--->--->--->               Forward(0, 3, True, False, <StorageType.DISK: 1>)\n",
      "               +\n",
      "           |--->            Forward(3, 4, False, True, <StorageType.ADJ_DEPS: 3>)\n",
      "           <---|            Reverse(4, 3, True)\n",
      "c                        Copy(0, <StorageType.DISK: 1>, <StorageType.FWD_RESTART: 2>)\n",
      "|--->--->                  Forward(0, 2, False, False, <StorageType.FWD_RESTART: 2>)\n",
      "           +\n",
      "       |--->               Forward(2, 3, False, True, <StorageType.ADJ_DEPS: 3>)\n",
      "       <---|               Reverse(3, 2, True)\n",
      "c                        Copy(0, <StorageType.DISK: 1>, <StorageType.FWD_RESTART: 2>)\n",
      "|--->                     Forward(0, 1, False, False, <StorageType.FWD_RESTART: 2>)\n",
      "       +\n",
      "   |--->                  Forward(1, 2, False, True, <StorageType.ADJ_DEPS: 3>)\n",
      "   <---|                  Reverse(2, 1, True)\n",
      "-                     Move(0, <StorageType.DISK: 1>, <StorageType.FWD_RESTART: 2>)\n",
      "   +\n",
      "|--->                     Forward(0, 1, False, True, <StorageType.ADJ_DEPS: 3>)\n",
      "<---|                     Reverse(1, 0, True)\n",
      "End Reverse\n"
     ]
    }
   ],
   "source": [
    "from checkpoint_schedules import MultistageCheckpointSchedule\n",
    "\n",
    "cp_schedule = MultistageCheckpointSchedule(max_n, 0, chk_disk)\n",
    "solver_manager.execute(cp_schedule)"
   ]
  },
  {
   "cell_type": "code",
   "execution_count": 36,
   "metadata": {},
   "outputs": [
    {
     "name": "stdout",
     "output_type": "stream",
     "text": [
      " +\n",
      "|--->--->                  Forward(0, 2, True, False, <StorageType.DISK: 1>)\n",
      "       +\n",
      "       |--->--->            Forward(2, 4, True, False, <StorageType.DISK: 1>)\n",
      "       c                        Copy(2, <StorageType.DISK: 1>, <StorageType.FWD_RESTART: 2>)\n",
      "       |--->               Forward(2, 3, False, False, <StorageType.FWD_RESTART: 2>)\n",
      "               +\n",
      "           |--->            Forward(3, 4, False, True, <StorageType.ADJ_DEPS: 3>)\n",
      "           <---|            Reverse(4, 3, True)\n",
      "       c                        Copy(2, <StorageType.DISK: 1>, <StorageType.FWD_RESTART: 2>)\n",
      "           +\n",
      "       |--->               Forward(2, 3, False, True, <StorageType.ADJ_DEPS: 3>)\n",
      "       <---|               Reverse(3, 2, True)\n",
      "c                        Copy(0, <StorageType.DISK: 1>, <StorageType.FWD_RESTART: 2>)\n",
      "|--->                     Forward(0, 1, False, False, <StorageType.FWD_RESTART: 2>)\n",
      "       +\n",
      "   |--->                  Forward(1, 2, False, True, <StorageType.ADJ_DEPS: 3>)\n",
      "   <---|                  Reverse(2, 1, True)\n",
      "c                        Copy(0, <StorageType.DISK: 1>, <StorageType.FWD_RESTART: 2>)\n",
      "   +\n",
      "|--->                     Forward(0, 1, False, True, <StorageType.ADJ_DEPS: 3>)\n",
      "<---|                     Reverse(1, 0, True)\n",
      "End Reverse\n"
     ]
    }
   ],
   "source": [
    "from checkpoint_schedules import TwoLevelCheckpointSchedule\n",
    "revolver = TwoLevelCheckpointSchedule(2, chk_disk)\n",
    "solver_manager.execute(revolver)\n"
   ]
  }
 ],
 "metadata": {
  "kernelspec": {
   "display_name": "Python 3 (ipykernel)",
   "language": "python",
   "name": "python3"
  },
  "language_info": {
   "codemirror_mode": {
    "name": "ipython",
    "version": 3
   },
   "file_extension": ".py",
   "mimetype": "text/x-python",
   "name": "python",
   "nbconvert_exporter": "python",
   "pygments_lexer": "ipython3",
   "version": "3.11.3"
  }
 },
 "nbformat": 4,
 "nbformat_minor": 2
}
