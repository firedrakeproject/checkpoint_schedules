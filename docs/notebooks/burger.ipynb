{
 "cells": [
  {
   "cell_type": "markdown",
   "metadata": {},
   "source": [
    "# *checkpoint_schedule* application: Adjoint-Based Gradient with Burger's Equation\n",
    "\n",
    "This user example shows adjoint-based gradient computation using the *checkpointing_schedules* package. We initially define the adjoint-based gradient problem and then present the forward and adjoint solvers prescribed by the *checkpointing_schedules* package.\n",
    "\n",
    "### Defining the application\n",
    "\n",
    "Let us consider a one-dimensional (1D) problem aiming to compute the gradient/sensitivity of an objective functional $I$ with respect to a control parameter. The objective functional is given by the expression:\n",
    "\n",
    "$$\n",
    "I(u) = \\int_{\\Omega} \\frac{1}{2} u(x, \\tau)u(x, \\tau) \\, dx\n",
    "\\tag{1}\n",
    "$$\n",
    "\n",
    "This measures the energy of a 1D velocity variable $u = u(x, \\tau)$ at a time $\\tau$, where $u$ is governed by the 1D viscous Burgers equation, a non-linear equation for the advection and diffusion of momentum:\n",
    "\n",
    "$$\n",
    "\\frac{\\partial u}{\\partial t} + u \\frac{\\partial u}{\\partial x} - \\nu \\frac{\\partial^2 u}{\\partial x^2} = 0.\n",
    "\\tag{2}\n",
    "$$\n",
    "\n",
    "Here, $x \\in [0, L]$ is the space variable, and $t \\in \\mathbb{R}^{+}$ represents the time variable. The boundary condition is $u(0, t) = u(L, t) = 0$, where $L$ is the length of the 1D domain. The initial condition is given by $u(0, t) = u_0 = \\sin(\\pi x)$.\n",
    "\n",
    "The control parameter is the initial condition $u_0$. Thus, the objective is to compute the adjoint-based gradient of the cost function $I(u)$ with respect to $u_0$.\n",
    "\n",
    "This example sets the adjoint equation from the continuous formulation, meaning the adjoint PDE is obtained from the continuous forward PDE (Partial Differential Equation). The adjoint-based gradient is given by the expression:\n",
    "\n",
    "$$\n",
    "\\frac{d I}{d u_0} = \\int_{\\Omega}  \\lambda(x, 0) \\delta u_0 \\, dx,\n",
    "\\tag{3}\n",
    "$$\n",
    "\n",
    "where $\\lambda(x, 0)$ is the adjoint variable governed by the adjoint system:\n",
    "\n",
    "$$\n",
    "\\frac{\\partial \\lambda}{\\partial t} - \\lambda \\frac{\\partial u}{\\partial x} + u \\frac{\\partial \\lambda}{\\partial x} + \\nu \\frac{\\partial^2 \\lambda}{\\partial x^2} = 0,\n",
    "\\tag{4}\n",
    "$$\n",
    "\n",
    "satisfying the boundary condition $\\lambda (0, t) = \\lambda(L, t) = 0$. In this case, the initial condition is $\\lambda (x, \\tau) = u(x, \\tau)$.\n",
    "\n",
    "Once the adjoint equation is solved from the initial time $t = \\tau$ to the final time $\\tau = 0$ the adjoint equation depends on the forward solution (see the adjoint equation (4)), it is necessary to store the forward state variable. Storing the entire forward state in preparation for the adjoint calculation has a memory footprint linear in the number of time steps. For sufficiently large problems this will exhaust the\n",
    "memory of any computer system. To overcome this kind of problem, checkpointing algorithms are used to reduce the memory usage.\n",
    "\n",
    "#### Checkpointing manager implementation\n",
    "\n",
    "As shown in the [illustrative example](https://nbviewer.org/github/firedrakeproject/checkpoint_schedules/blob/main/docs/notebooks/tutorial.ipynb), we define the `CheckpointingManager` class to manage the execution of forward and adjoint models with a checkpointing schedule. The `CheckpointingManager` contains the `execute` method, which performs each action specified in the checkpointing schedule (`_schedule`). Within the `execute` method, the single-dispatch generic function `action` function is employed. `action` is overloaded by the `action_forward`, `action_adjoint`, `action_copy`, `action_move`, `action_end_forward`, and `action_end_reverse` functions. These functions correspond to different actions reached during the iterations over the elements of the `cp_schedule`.\n",
    "\n",
    "For instance, if the action is `Forward`, the `action_forward` function is called. Within this function, the necessary code is implemented to progress the forward equation. In this particular example, the forward solver is executed by calling `self.equation.forward`. Here, `self.equation` is an attribute of `CheckpointingManager`. Similarly, the adjoint solver is executed by calling `self.equation.adjoint` within the `action_reverse` function.\n"
   ]
  },
  {
   "cell_type": "code",
   "execution_count": 107,
   "metadata": {},
   "outputs": [],
   "source": [
    "import functools, sys\n",
    "from checkpoint_schedules import *\n",
    "\n",
    "class CheckpointingManager:\n",
    "    \"\"\"Manage the forward and backward solvers.\n",
    "\n",
    "    Attributes\n",
    "    ----------\n",
    "    schedule : CheckpointSchedule\n",
    "        The schedule created by `checkpoint_schedules` package.\n",
    "    equation : object\n",
    "        An equation object used to solve the forward and adjoint solvers.\n",
    "    \n",
    "    Notes\n",
    "    -----\n",
    "    The `equation` object contains methods to execute the forward and adjoint. In \n",
    "    addition, it contains methods to copy data from one storage to another, and\n",
    "    to set the initial condition for the adjoint.\n",
    "    \"\"\"\n",
    "    def __init__(self, schedule, equation):\n",
    "        self.max_n = sys.maxsize\n",
    "        self.equation = equation\n",
    "        self.reverse_step = 0\n",
    "        self._schedule = schedule\n",
    "        \n",
    "    def execute(self):\n",
    "        \"\"\"Execute forward and adjoint using checkpointing.\n",
    "        \"\"\"\n",
    "        @functools.singledispatch\n",
    "        def action(cp_action):\n",
    "            raise TypeError(\"Unexpected action\")\n",
    "\n",
    "        @action.register(Forward)\n",
    "        def action_forward(cp_action):\n",
    "            n1 = cp_action.n1\n",
    "            if (\n",
    "                isinstance(self._schedule, SingleMemoryStorageSchedule) \n",
    "                or isinstance(self._schedule, SingleDiskStorageSchedule)\n",
    "            ): \n",
    "                self.equation.forward(cp_action.n0, n1, storage=cp_action.storage,\n",
    "                                      single_storage=True, write_adj_deps=cp_action.write_adj_deps)\n",
    "            else:    \n",
    "                self.equation.forward(cp_action.n0, n1, storage=cp_action.storage,\n",
    "                                      write_adj_deps=cp_action.write_adj_deps, write_ics=cp_action.write_ics)\n",
    "            if n1 > self.equation.model[\"max_n\"]:\n",
    "                n1 = min(n1, self.equation.model[\"max_n\"])\n",
    "                self._schedule.finalize(n1)\n",
    "            \n",
    "\n",
    "        @action.register(Reverse)\n",
    "        def action_reverse(cp_action):\n",
    "            if self.reverse_step == 0:\n",
    "                self.equation.adjoint_initial_condition()\n",
    "            self.equation.adjoint(cp_action.n0, cp_action.n1, cp_action.clear_adj_deps)\n",
    "            self.reverse_step += cp_action.n1 - cp_action.n0\n",
    "            \n",
    "        @action.register(Copy)\n",
    "        def action_copy(cp_action):\n",
    "            self.equation.copy_data(cp_action.n, cp_action.from_storage, cp_action.to_storage)\n",
    "\n",
    "        @action.register(Move)\n",
    "        def action_move(cp_action):\n",
    "            self.equation.copy_data(cp_action.n, cp_action.from_storage, cp_action.to_storage, move=True)\n",
    "            \n",
    "        @action.register(EndForward)\n",
    "        def action_end_forward(cp_action):\n",
    "            if self._schedule.max_n is None:\n",
    "                self._schedule._max_n = self.max_n\n",
    "            assert self.reverse_step == 0\n",
    "            \n",
    "        @action.register(EndReverse)\n",
    "        def action_end_reverse(cp_action):\n",
    "            if self._schedule.max_n != self.reverse_step:\n",
    "                raise ValueError(\"The number of steps in the reverse phase\"\n",
    "                                 \"is different from the number of steps in the\"\n",
    "                                 \"forward phase.\")\n",
    "            \n",
    "        self.reverse_step = 0\n",
    "        for _, cp_action in enumerate(self._schedule):\n",
    "            action(cp_action)\n",
    "            if isinstance(cp_action, EndReverse):\n",
    "                break\n"
   ]
  },
  {
   "cell_type": "markdown",
   "metadata": {},
   "source": [
    "#### Burger's equation implementation\n",
    "\n",
    "The sensitivity computation is performed by solving the forward and adjoint equations. The forward equation is 1D viscous Burgers equation (2). For this current sensitivity problem, the adjoint equation is given by (4). \n",
    "\n",
    "To solve forward and adjoint solvers, we implement `BurgersEquation` class that execute the forward and adjoint solvers. In addition, the `BurgersEquation` has the `copy_data` that copies the data from one storage type to another, and `adjoint_initial_condition` that sets the adjoint initial condition.\n",
    "\n",
    "Both the forward and adjoint systems are discretised using the Finite Element Method (FEM). We use the first-order Lagrange basis functions to discretise the spatial domain. The backward finite difference method is employed to discretise the equations in time."
   ]
  },
  {
   "cell_type": "code",
   "execution_count": 108,
   "metadata": {},
   "outputs": [],
   "source": [
    "import numpy as np\n",
    "from enum import Enum\n",
    "import os\n",
    "from scipy.sparse.linalg import spsolve\n",
    "from scipy.sparse import lil_matrix\n",
    "from scipy.optimize import newton\n",
    "\n",
    "\n",
    "class BurgersEquation:\n",
    "    \"\"\"This class is capable to solve the time-dependent forward \n",
    "    and adjoint burger's equation.\n",
    "\n",
    "    Attributes\n",
    "    ----------\n",
    "    model : dict\n",
    "        The model parameters containing the essential information to solve\n",
    "        the burger's equation.\n",
    "    init_condition : array\n",
    "        The initial condition used to solve the forward burger's equation.\n",
    "    mesh : array\n",
    "        The spatial mesh.\n",
    "    \"\"\"\n",
    "    def __init__(self, model, forward_initial_condition, mesh):\n",
    "        self.model = model\n",
    "        self.mesh = mesh\n",
    "        self.snapshots = {StorageType.RAM: {}, StorageType.DISK: {}}\n",
    "        self.forward_work_memory = {StorageType.WORK: {}}\n",
    "        self.forward_initial_condition = forward_initial_condition\n",
    "        self.forward_final_solution = None\n",
    "        self.forward_work_memory[StorageType.WORK][0] = forward_initial_condition\n",
    "        self.adjoint_work_memory = {StorageType.WORK: {}}\n",
    "\n",
    "    def _mass_matrix(self):\n",
    "        \"\"\"This function assembles the mass matrix.\n",
    "\n",
    "        Returns\n",
    "        -------\n",
    "        M : scipy.sparse.lil_matrix\n",
    "            The mass matrix.\n",
    "        \n",
    "        Notes\n",
    "        -----\n",
    "        The mass matrix is assembled a linear spatial basis functions.\n",
    "        \"\"\"\n",
    "        num_nodes = self.model[\"nx\"]\n",
    "        local_matrix = (1 / 6) * np.array([[2, 1], [1, 2]])\n",
    "        M = lil_matrix((num_nodes, num_nodes))\n",
    "        for i in range(num_nodes - 1):\n",
    "            M[i:i + 2, i:i + 2] += local_matrix\n",
    "        return M\n",
    "    \n",
    "    def _stiffness_matrix(self):\n",
    "        \"\"\"This function assembles the stiffness matrix.\n",
    "\n",
    "        Returns\n",
    "        -------\n",
    "        K : scipy.sparse.lil_matrix\n",
    "            The stiffness matrix.\n",
    "        \"\"\"\n",
    "        num_nodes = self.model[\"nx\"]\n",
    "        h = self.model[\"lx\"] / self.model[\"nx\"] \n",
    "        # 1D mesh is uniform. Thus, the mesh spacing is constant.\n",
    "        b = self.model[\"nu\"] / (h ** 2)\n",
    "        local_stiffness = np.array([[-1, 1], [1, -1]])\n",
    "        K = lil_matrix((num_nodes, num_nodes))\n",
    "        for i in range(num_nodes - 1):\n",
    "            K[i:i + 2, i:i + 2] += b * local_stiffness\n",
    "        return K\n",
    "    \n",
    "    def _convection_matrix(self, u, adjoint=False):\n",
    "        \"\"\"This function assembles the convection matrix.\n",
    "\n",
    "        Parameters\n",
    "        ----------\n",
    "        u : array\n",
    "            State vector.\n",
    "\n",
    "        Returns\n",
    "        -------\n",
    "        C : scipy.sparse.lil_matrix\n",
    "            The convection matrix.\n",
    "        \"\"\"\n",
    "        num_nodes = self.model[\"nx\"]\n",
    "        # 1D mesh is uniform. Thus, the mesh spacing is constant.\n",
    "        h = self.model[\"lx\"] / self.model[\"nx\"] \n",
    "        C = lil_matrix((num_nodes, num_nodes))\n",
    "        C[0, 0] = - 1 / 2 * u[0] / h\n",
    "        C[num_nodes - 1, num_nodes - 1] = 1 / 2 * u[num_nodes - 1] / h\n",
    "        C[0, 1] = 1/2 * u[0] / h\n",
    "        C[num_nodes - 1, num_nodes - 2] = - 1 / 2 * u[num_nodes - 2] / h\n",
    "        for i in range(1, num_nodes - 1):\n",
    "            # Convection term uses the approach described in [1] and [2], \n",
    "            # which assumes `u` constant over an element.\n",
    "            # [1] Kutluay SE, Esen AL, Dag I. Numerical solutions of the Burgers’ equation\n",
    "            # by the least-squares quadratic B-spline finite element method. Journal of\n",
    "            # computational and Applied Mathematics. 2004 May 1;167(1):21-33.\n",
    "            # [2] Dogan A. A Galerkin finite element approach to Burgers' equation.\n",
    "            # Applied mathematics and computation. 2004 Oct 5;157(2):331-46.\n",
    "            C[i, i - 1] = - 1 / 2 * u[i - 1] / h\n",
    "            C[i, i] = 1 / 2 * (u[i - 1] - u[i]) / h\n",
    "            C[i, i + 1] = 1 / 2 * u[i] / h\n",
    "        if adjoint:\n",
    "            c_local = np.array([[1/3, 1/6], [1/3, 1/6]])\n",
    "            for i in range(num_nodes - 1):\n",
    "                C[i:i + 2, i:i + 2] += c_local * (u[i + 1] - u[i]) / h\n",
    "\n",
    "        return C\n",
    "    \n",
    "    def forward(\n",
    "            self, n0, n1, storage=None, write_adj_deps=False,\n",
    "            write_ics=False, single_storage=False\n",
    "    ):\n",
    "        \"\"\"Solve the non-linear forward burger's equation in time.\n",
    "\n",
    "        Parameters\n",
    "        ----------\n",
    "        n0 : int\n",
    "            Initial time step.\n",
    "        n1 : int\n",
    "            Final time step.\n",
    "        storage : StorageType, optional\n",
    "            The storage type, which can be StorageType.RAM, StorageType.DISK,\n",
    "            StorageType.WORK, or StorageType.NONE.\n",
    "        write_adj_deps : bool, optional\n",
    "            Whether the adjoint dependency data will be stored.\n",
    "        write_ics : bool, optional\n",
    "            Whether the forward restart data will be stored.\n",
    "        single_storage : bool, optional\n",
    "            This parameter is used to indicated whether a checkpointing schedule\n",
    "            is single storage or not. Single storage means that no checkpointing\n",
    "            algorithm (eg, `Revolve`, `HRevole`) is employed. \n",
    "        \"\"\"\n",
    "        M = self._mass_matrix()\n",
    "        K = self._stiffness_matrix()\n",
    "        def non_linear(u_new, u):\n",
    "            \"\"\"Define the non-linear system.\n",
    "\n",
    "            Parameters\n",
    "            ----------\n",
    "            u_new : array\n",
    "                Forward solution at the `n + 1` time step.\n",
    "            u : array\n",
    "                Forward solution at the `n` time step.\n",
    "            \"\"\"\n",
    "            C = self._convection_matrix(u_new)\n",
    "            # Set the boundary conditions.\n",
    "            u[0] = u[self.model[\"nx\"] - 1] = 0\n",
    "            F = M * u_new - M * u + self.model[\"dt\"] * (- K * u_new + C * u_new)\n",
    "            return F\n",
    "\n",
    "        # Get the initial condition\n",
    "        u = self.forward_work_memory[StorageType.WORK][n0]\n",
    "        if not single_storage:\n",
    "            del self.forward_work_memory[StorageType.WORK][n0]\n",
    "        u_new = u.copy()\n",
    "        n1 = min(n1, self.model[\"max_n\"])\n",
    "        step = n0\n",
    "        while step < n1:\n",
    "            if ((write_ics and step == n0)\n",
    "                or (write_adj_deps and storage != StorageType.WORK)):\n",
    "                self._store_data(u, step, storage,\n",
    "                                write_adj_deps=write_adj_deps,\n",
    "                                write_ics=write_ics)\n",
    "            u_new = newton(lambda u_new: non_linear(u_new, u), u)\n",
    "            u = u_new.copy()\n",
    "            if single_storage and storage == StorageType.WORK:\n",
    "                self.forward_work_memory[StorageType.WORK][step] = u_new\n",
    "            step += 1\n",
    "        self.forward_work_memory[StorageType.WORK][step] = u_new\n",
    "        if n1 == self.model[\"max_n\"]:\n",
    "            self.forward_final_solution = u_new.copy()\n",
    "\n",
    "    def adjoint(self, n0, n1, clear_adj_deps):\n",
    "        \"\"\"Execute the adjoint equation in time.\n",
    "\n",
    "        Parameters\n",
    "        ---------\n",
    "        n0 : int\n",
    "            Initial time step.\n",
    "        n1 : int\n",
    "            Final time step.\n",
    "        clear_adj_deps : bool\n",
    "            If `True`, the adjoint dependency data will be cleared.\n",
    "        \"\"\"\n",
    "        u = self.adjoint_work_memory[StorageType.WORK][n1]\n",
    "        del self.adjoint_work_memory[StorageType.WORK][n1]\n",
    "        u_new = np.zeros(self.model[\"nx\"])\n",
    "        steps = n1 - n0\n",
    "        t = n1\n",
    "        M = self._mass_matrix()\n",
    "        K = self._stiffness_matrix()\n",
    "        for _ in range(steps):\n",
    "            u[0] = u[self.model[\"nx\"] - 1] = 0\n",
    "            C = self._convection_matrix(self.forward_work_memory[StorageType.WORK][t],\n",
    "                                        adjoint=True)\n",
    "            A = M - self.model[\"dt\"] * (K + C)\n",
    "            d = M * u\n",
    "            u_new = spsolve(M, d)\n",
    "            u = u_new.copy()\n",
    "            if clear_adj_deps:\n",
    "                del self.forward_work_memory[StorageType.WORK][t]\n",
    "            t -= 1\n",
    "        self.adjoint_work_memory[StorageType.WORK][n0] = u_new\n",
    "    \n",
    "    def compute_gradient(self):\n",
    "        \"\"\"Compute the adjoint-based gradient.\n",
    "        \"\"\"\n",
    "        u_adj = self.adjoint_work_memory[StorageType.WORK][0]\n",
    "        return  np.trapz(u_adj * np.sin(np.pi * self.mesh), self.mesh)\n",
    "    \n",
    "    def _store_on_disk(self, data, step, adj_deps=False):\n",
    "        \"\"\"Store the forward data on disk.\n",
    "\n",
    "        Parameters\n",
    "        ----------\n",
    "        data : array\n",
    "            The forward data.\n",
    "        step : int\n",
    "            The time step.\n",
    "        adj_deps : bool, optional\n",
    "            If True, the data is stored in the adjoint dependencies folder.\n",
    "        \"\"\"\n",
    "        if adj_deps:\n",
    "            file_name = \"adj_deps/fwd_\"+ str(step) +\".npy\"\n",
    "            with open(file_name, \"wb\") as f:\n",
    "                np.save(f, data)\n",
    "        else:\n",
    "            file_name = \"fwd_data/fwd_\"+ str(step) +\".npy\"\n",
    "            with open(file_name, \"wb\") as f:\n",
    "                np.save(f, data)\n",
    "        self.snapshots[StorageType.DISK][step] = file_name\n",
    "\n",
    "    def copy_data(self, step, from_storage, to_storage, move=False):\n",
    "        \"\"\"Load the forward data from disk.\n",
    "\n",
    "        Parameters\n",
    "        ----------\n",
    "        file_name : str\n",
    "            The file name.\n",
    "        step : int\n",
    "            The time step.\n",
    "\n",
    "        Returns\n",
    "        -------\n",
    "        data : array\n",
    "            The loaded data.\n",
    "        \"\"\"\n",
    "        if from_storage == StorageType.DISK:\n",
    "            file_name = self.snapshots[StorageType.DISK][step]\n",
    "            with open(file_name, \"rb\") as f:\n",
    "                if to_storage == StorageType.RAM:\n",
    "                    self.snapshots[StorageType.RAM][step] = np.load(f)\n",
    "                elif to_storage == StorageType.WORK:\n",
    "                    self.forward_work_memory[StorageType.WORK][step] = np.load(f)\n",
    "                if move:\n",
    "                    os.remove(file_name)\n",
    "        elif from_storage == StorageType.RAM:\n",
    "            self.forward_work_memory[StorageType.WORK][step] = self.snapshots[StorageType.RAM][step]\n",
    "            if move:\n",
    "                del self.snapshots[StorageType.RAM][step]\n",
    "\n",
    "    def _store_data(self, data, t, storage, write_adj_deps=False, write_ics=False):\n",
    "        \"\"\"Store the forward data.\n",
    "\n",
    "        Parameters\n",
    "        ----------\n",
    "        data : array\n",
    "            The forward data.\n",
    "        t : int\n",
    "            The time step.\n",
    "        storage : StorageType\n",
    "            The storage type.\n",
    "        write_adj_deps : bool, optional\n",
    "            If `True`, the adjoint dependency data will be stored.\n",
    "        write_ics : bool, optional\n",
    "            If `True`, the forward restart data will be stored.\n",
    "        \"\"\"\n",
    "        if storage == StorageType.DISK:\n",
    "            if write_adj_deps:\n",
    "                self._store_on_disk(data, t, adj_deps=write_adj_deps)\n",
    "            if write_ics:\n",
    "                self._store_on_disk(data, t)\n",
    "        elif storage == StorageType.RAM:\n",
    "            self.snapshots[storage][t] = data\n",
    "\n",
    "\n",
    "    def adjoint_initial_condition(self):\n",
    "        \"\"\"Set the adjoint initial condition.\n",
    "        \"\"\"\n",
    "        u = self.forward_final_solution\n",
    "        self.adjoint_work_memory[StorageType.WORK][self.model[\"max_n\"]] = u\n",
    "\n"
   ]
  },
  {
   "cell_type": "markdown",
   "metadata": {},
   "source": [
    "### Adjoint-based sensitivity computations\n",
    "\n",
    "The purpose of this adjoint-based sensitivity computation is to use every checkpointing approach available in the\n",
    "`checkpoint_schedules` package and verify if the quantitative results provided by the solver remain consistent. \n",
    "\n",
    "Below, we define the `model` dictionary containing the parameters required for the forward and adjoint solvers. The `model` dictionary is then passed to the `BurgersEquation` class. Additionally, we set up the 1D mesh and the initial condition for the forward Burgers' solver."
   ]
  },
  {
   "cell_type": "code",
   "execution_count": 109,
   "metadata": {},
   "outputs": [],
   "source": [
    "model = {\"lx\": 1,   # lenght domain\n",
    "         \"nx\": 80, # number of nodes\n",
    "         \"dt\": 0.001, # time step\n",
    "         \"T\": 2, # final time\n",
    "         \"nu\": 0.01, # viscosity\n",
    "         \"max_n\": 200, # total steps\n",
    "         \"chk_ram\": 10, # number of checkpoints in RAM\n",
    "         \"chk_disk\": 10, # number of checkpoints on disk\n",
    "        }\n",
    "\n",
    "mesh = np.linspace(0, model[\"lx\"], model[\"nx\"]) # create the spatial grid\n",
    "u0 = np.sin(np.pi*mesh) # initial condition"
   ]
  },
  {
   "cell_type": "markdown",
   "metadata": {},
   "source": [
    "Initially, we compute an adjoint-based sensitivity without employing any checkpointing approach. \n",
    "The sensitivity computations use two methods: (i) central finite difference and (ii) adjoint. The central finite difference method is given by:\n",
    "$$ \\frac{\\partial I}{\\partial u_0} = \\frac{I(u_0 + \\epsilon) - I(u_0 - \\epsilon)}{2 \\epsilon} \\tag{5}$$\n",
    "where $\\epsilon$ is a small perturbation. \n",
    "\n",
    "The adjoint method is employed to compute the sensitivity of the kinetic energy with respect to the initial condition $u_0$ is given by (3)."
   ]
  },
  {
   "cell_type": "code",
   "execution_count": 110,
   "metadata": {},
   "outputs": [
    {
     "name": "stdout",
     "output_type": "stream",
     "text": [
      "Sensitivity using central finite differences method:  0.48237197121444586\n"
     ]
    }
   ],
   "source": [
    "# Solve the sensitivity using central finite differences method.\n",
    "u0_p = 1.01*np.sin(np.pi*mesh)  # Initial condition.\n",
    "burger = BurgersEquation(model, u0_p, mesh)  # Create the burger's equation object.\n",
    "n0 = 0\n",
    "n1 = model[\"max_n\"]\n",
    "burger.forward(0, model[\"max_n\"])  # Solve the forward equation for model[\"max_n\"] steps.\n",
    "u_p = burger.forward_final_solution  # Get the final solution.\n",
    "e_p = 0.5 * u_p**2  # Energy\n",
    "\n",
    "u0_m = 0.99 * np.sin(np.pi*mesh)  # Initial condition.\n",
    "burger = BurgersEquation(model, u0_m, mesh)  # Create the burger's equation object.\n",
    "burger.forward(0, model[\"max_n\"])  # Solve the forward equation.\n",
    "u_m = burger.forward_final_solution  # Get the final solution.\n",
    "e_m = 0.5 * u_m**2  # Energy\n",
    "\n",
    "# Compute the sensitivity.\n",
    "integ2 = np.trapz(e_p, mesh)\n",
    "integ1 = np.trapz(e_m, mesh)\n",
    "du0 = 0.01\n",
    "fd_sensitivity = (integ2 - integ1) / (2 * du0)\n",
    "print(\"Sensitivity using central finite differences method: \", fd_sensitivity)"
   ]
  },
  {
   "cell_type": "markdown",
   "metadata": {},
   "source": [
    "Above, we computed the sensitivity of the objective functional $I(u(x, \\tau))$ with respect to the initial condition $u_0$ using the central finite difference method. The perturbation $\\epsilon$ is set to $10^{-2} \\cdot u_0$, and the sensitivity is calculated at the final time $\\tau = 0.5$.\n",
    "\n",
    "The adjoint-based sensitivity is initially computed using the `SingleMemoryStorageSchedule` checkpointing approach. The `SingleMemoryStorageSchedule` stores the forward data of each time-step in working memory. As explained in the [notebook with illustrative example](https://nbviewer.org/github/firedrakeproject/checkpoint_schedules/blob/main/docs/notebooks/tutorial.ipynb), this schedule does not require the maximal step (`model[\"max_n\"]`).\n"
   ]
  },
  {
   "cell_type": "code",
   "execution_count": 111,
   "metadata": {},
   "outputs": [],
   "source": [
    "schedule = SingleMemoryStorageSchedule()  # create the checkpointing schedule\n",
    "burger = BurgersEquation(model, u0, mesh) # create the burger's equation object\n",
    "manager = CheckpointingManager(schedule, burger)  # create the checkpointing manager\n",
    "manager.execute()  # execute the forward and adjoint solvers using checkpointing"
   ]
  },
  {
   "cell_type": "markdown",
   "metadata": {},
   "source": [
    "Next, we compute the adjoint-based sensitivity and compare it with the sensitivity obtained using the central finite difference method without any checkpointing approach."
   ]
  },
  {
   "cell_type": "code",
   "execution_count": 112,
   "metadata": {},
   "outputs": [
    {
     "name": "stdout",
     "output_type": "stream",
     "text": [
      "Sensitivity using adjoint method:  0.4686945163615982\n",
      "sensitivity using central finite differences method:  0.48237197121444586\n",
      "Relative difference in percentage:  2.835458042558434\n"
     ]
    }
   ],
   "source": [
    "adj_sensitivity = burger.compute_gradient()  # compute the adjoint-based sensitivity\n",
    "adj = burger.adjoint_work_memory[StorageType.WORK][0]  # get the adjoint solution\n",
    "print(\"Sensitivity using adjoint method: \", adj_sensitivity)\n",
    "print(\"sensitivity using central finite differences method: \", fd_sensitivity)\n",
    "error = np.abs(adj_sensitivity - fd_sensitivity)/np.abs(fd_sensitivity)\n",
    "print(\"Relative difference in percentage: \", error*100)"
   ]
  },
  {
   "cell_type": "markdown",
   "metadata": {},
   "source": [
    "The following example shows the usage of the `SingleDiskStorageSchedule` schedule. In this case, the forward data used in the adjoint computations is only stored on disk. The `SingleDiskStorageSchedule` schedule does not require the definition of the maximal step `model[\"max_n\"]` before the execution of the forward solver. "
   ]
  },
  {
   "cell_type": "code",
   "execution_count": 113,
   "metadata": {},
   "outputs": [
    {
     "name": "stdout",
     "output_type": "stream",
     "text": [
      "Sensitivity using adjoint method:  0.46869451662679296\n",
      "sensitivity using central finite differences method:  0.48237197121444586\n",
      "Relative difference in percentage:  2.8354579875812025\n"
     ]
    }
   ],
   "source": [
    "schedule = SingleDiskStorageSchedule()  # create the checkpointing schedule\n",
    "burger = BurgersEquation(model, u0, mesh) # create the burger's equation object\n",
    "manager = CheckpointingManager(schedule, burger)  # create the checkpointing manager\n",
    "manager.execute()  # execute the forward and adjoint solvers using checkpointing\n",
    "adj_sensitivity = burger.compute_gradient()  # compute the adjoint-based sensitivity\n",
    "print(\"Sensitivity using adjoint method: \", adj_sensitivity)\n",
    "print(\"sensitivity using central finite differences method: \", fd_sensitivity)\n",
    "error = np.abs(adj_sensitivity - fd_sensitivity)/np.abs(fd_sensitivity)\n",
    "print(\"Relative difference in percentage: \", error*100)"
   ]
  },
  {
   "cell_type": "markdown",
   "metadata": {},
   "source": [
    "With the example above, we do not move any data from the disk to the work in memory, i.e., we copy the data from the disk and keep this data on disk. The next example shows the usage of the `SingleDiskStorageSchedule` schedule with the `mode_data=True` argument. In this case, the forward data used in the adjoint compuations stored on disk is moved to the work in memory, i.e., we copy the data from the disk and remove this data from the disk. "
   ]
  },
  {
   "cell_type": "code",
   "execution_count": 114,
   "metadata": {},
   "outputs": [
    {
     "name": "stdout",
     "output_type": "stream",
     "text": [
      "Sensitivity using adjoint method:  0.46869451662679296\n",
      "sensitivity using central finite differences method:  0.48237197121444586\n",
      "Relative difference in percentage:  2.8354579875812025\n"
     ]
    }
   ],
   "source": [
    "schedule = SingleDiskStorageSchedule(move_data=True)  # create the checkpointing schedule\n",
    "burger = BurgersEquation(model, u0, mesh) # create the burger's equation object\n",
    "manager = CheckpointingManager(schedule, burger)  # create the checkpointing manager\n",
    "manager.execute()  # execute the forward and adjoint solvers using checkpointing\n",
    "adj_sensitivity = burger.compute_gradient()  # compute the adjoint-based sensitivity\n",
    "print(\"Sensitivity using adjoint method: \", adj_sensitivity)\n",
    "print(\"sensitivity using central finite differences method: \", fd_sensitivity)\n",
    "error = np.abs(adj_sensitivity - fd_sensitivity)/np.abs(fd_sensitivity)\n",
    "print(\"Relative difference in percentage: \", error*100)"
   ]
  },
  {
   "cell_type": "markdown",
   "metadata": {},
   "source": [
    "The following example uses the `Revolve` schedule [1]. The `Revolve` algorithm requires the definition of the maximal step `model[\"max_n\"]` before the execution of the forward solver, and also the specification of the number of checkpoints to be stored in RAM (Random Access Memory). \n",
    "\n",
    "`model[\"chk_ram\"]` indicates the number of steps for which the forward data is stored in RAM \n"
   ]
  },
  {
   "cell_type": "code",
   "execution_count": 115,
   "metadata": {},
   "outputs": [
    {
     "name": "stdout",
     "output_type": "stream",
     "text": [
      "Sensitivity using adjoint method:  0.46869451662679296\n",
      "sensitivity using central finite differences method:  0.48237197121444586\n",
      "Relative difference in percentage:  2.8354579875812025\n"
     ]
    }
   ],
   "source": [
    "burger = BurgersEquation(model, u0, mesh) # create the burger's equation object\n",
    "schedule = Revolve(model[\"max_n\"], model[\"chk_ram\"]) # create the checkpointing schedule\n",
    "manager = CheckpointingManager(schedule, burger)  # create the checkpointing manager\n",
    "manager.execute()  # execute the forward and adjoint solvers using checkpointing\n",
    "adj_sensitivity = burger.compute_gradient()  # compute the adjoint-based sensitivity\n",
    "print(\"Sensitivity using adjoint method: \", adj_sensitivity)\n",
    "print(\"sensitivity using central finite differences method: \", fd_sensitivity)\n",
    "error = np.abs(adj_sensitivity - fd_sensitivity)/np.abs(fd_sensitivity)\n",
    "print(\"Relative difference in percentage: \", error*100)"
   ]
  },
  {
   "cell_type": "markdown",
   "metadata": {},
   "source": [
    "The `DiskRevolve` [3] schedule requires the definition of the maximal step `model[\"max_n\"]` before the execution of the forward solver, and the maximum number of checkpoints to be saved in RAM. This schedule automatically computes the number of checkpoints to store on disk, considering factors such as:\n",
    "- Computational cost to execute the forward solver in one step.\n",
    "- Computational cost to store the forward data on disk."
   ]
  },
  {
   "cell_type": "code",
   "execution_count": 116,
   "metadata": {},
   "outputs": [
    {
     "name": "stdout",
     "output_type": "stream",
     "text": [
      "Sensitivity using adjoint method:  0.46869451662679296\n",
      "sensitivity using central finite differences method:  0.48237197121444586\n",
      "Relative difference in percentage:  2.8354579875812025\n"
     ]
    }
   ],
   "source": [
    "burger = BurgersEquation(model, u0, mesh) # create the burger's equation object\n",
    "schedule = DiskRevolve(model[\"max_n\"], model[\"chk_ram\"]) # create the checkpointing schedule\n",
    "manager = CheckpointingManager(schedule, burger)  # create the checkpointing manager\n",
    "manager.execute()  # execute the forward and adjoint solvers using checkpointing\n",
    "adj_sensitivity = burger.compute_gradient()  # compute the adjoint-based sensitivity\n",
    "print(\"Sensitivity using adjoint method: \", adj_sensitivity)\n",
    "print(\"sensitivity using central finite differences method: \", fd_sensitivity)\n",
    "error = np.abs(adj_sensitivity - fd_sensitivity)/np.abs(fd_sensitivity)\n",
    "print(\"Relative difference in percentage: \", error*100)"
   ]
  },
  {
   "cell_type": "markdown",
   "metadata": {},
   "source": [
    "The `PeriodicDiskRevolve` [4] schedule also requires the definition of the maximal step `model[\"max_n\"]` before the execution of the forward solver. Additionally, this schedule requires the specification of the number of checkpoints intended to be stored in RAM, with the schedule automatically calculating the number of steps for which the forward data is stored on disk."
   ]
  },
  {
   "cell_type": "code",
   "execution_count": 117,
   "metadata": {},
   "outputs": [
    {
     "name": "stdout",
     "output_type": "stream",
     "text": [
      "We use periods of size  11\n",
      "Sensitivity using adjoint method:  0.46869451662679296\n",
      "sensitivity using central finite differences method:  0.48237197121444586\n",
      "Relative difference in percentage:  2.8354579875812025\n"
     ]
    }
   ],
   "source": [
    "burger = BurgersEquation(model, u0, mesh) # create the burger's equation object\n",
    "schedule = PeriodicDiskRevolve(model[\"max_n\"], model[\"chk_ram\"]) # create the checkpointing schedule\n",
    "manager = CheckpointingManager(schedule, burger)  # create the checkpointing manager\n",
    "manager.execute()  # execute the forward and adjoint solvers using checkpointing\n",
    "adj_sensitivity = burger.compute_gradient()  # compute the adjoint-based sensitivity\n",
    "print(\"Sensitivity using adjoint method: \", adj_sensitivity)\n",
    "print(\"sensitivity using central finite differences method: \", fd_sensitivity)\n",
    "error = np.abs(adj_sensitivity - fd_sensitivity)/np.abs(fd_sensitivity)\n",
    "print(\"Relative difference in percentage: \", error*100)"
   ]
  },
  {
   "cell_type": "markdown",
   "metadata": {},
   "source": [
    "In the following examples, we employ the `HRevolve` [5] and `MultistageCheckpointSchedule` [2] schedules. These checkpointing schedules requires the definition of the maximal step `model[\"max_n\"]` before the execution of the forward solver. Additionally, the specification of the maximum number of checkpoints allowed to be stored in both RAM and on disk."
   ]
  },
  {
   "cell_type": "code",
   "execution_count": 118,
   "metadata": {},
   "outputs": [
    {
     "name": "stdout",
     "output_type": "stream",
     "text": [
      "Sensitivity using adjoint method:  0.46869451662679296\n",
      "sensitivity using central finite differences method:  0.48237197121444586\n",
      "Relative difference in percentage:  2.8354579875812025\n"
     ]
    }
   ],
   "source": [
    "burger = BurgersEquation(model, u0, mesh) # create the burger's equation object\n",
    "schedule = HRevolve(model[\"max_n\"], model[\"chk_ram\"], model[\"chk_disk\"]) # create the checkpointing schedule\n",
    "manager = CheckpointingManager(schedule, burger)  # create the checkpointing manager\n",
    "manager.execute()  # execute the forward and adjoint solvers using checkpointing\n",
    "adj_sensitivity = burger.compute_gradient()  # compute the adjoint-based sensitivity\n",
    "print(\"Sensitivity using adjoint method: \", adj_sensitivity)\n",
    "print(\"sensitivity using central finite differences method: \", fd_sensitivity)\n",
    "error = np.abs(adj_sensitivity - fd_sensitivity)/np.abs(fd_sensitivity)\n",
    "print(\"Relative difference in percentage: \", error*100)"
   ]
  },
  {
   "cell_type": "code",
   "execution_count": 119,
   "metadata": {},
   "outputs": [
    {
     "name": "stdout",
     "output_type": "stream",
     "text": [
      "Sensitivity using adjoint method:  0.46869451662679296\n",
      "sensitivity using central finite differences method:  0.48237197121444586\n",
      "Relative difference in percentage:  2.8354579875812025\n"
     ]
    }
   ],
   "source": [
    "burger = BurgersEquation(model, u0, mesh) # create the burger's equation object\n",
    "schedule = MultistageCheckpointSchedule(model[\"max_n\"], model[\"chk_ram\"], model[\"chk_disk\"]) # create the checkpointing schedule\n",
    "manager = CheckpointingManager(schedule, burger)  # create the checkpointing manager\n",
    "manager.execute()  # execute the forward and adjoint solvers using checkpointing\n",
    "adj_sensitivity = burger.compute_gradient()  # compute the adjoint-based sensitivity\n",
    "print(\"Sensitivity using adjoint method: \", adj_sensitivity)\n",
    "print(\"sensitivity using central finite differences method: \", fd_sensitivity)\n",
    "error = np.abs(adj_sensitivity - fd_sensitivity)/np.abs(fd_sensitivity)\n",
    "print(\"Relative difference in percentage: \", error*100)"
   ]
  },
  {
   "cell_type": "markdown",
   "metadata": {},
   "source": [
    "`TwoLevelCheckpointSchedule` [7] does not require the maximal step `model[\"max_n\"]` to be defined before the execution of the forward solver, it saves the forward restart data on disk based on the `period` argument. For instance, if `period = 10`, the forward restart data is stored on disk every ten steps.\n",
    "\n",
    "During the adjoint computation, the user can define additional forward restart data storage in RAM or on disk. This is carried out according to the `binomial_storage` argument. The additional number of checkpoints stored is set by the second argument of the `TwoLevelCheckpointSchedule` class. In the example below, we set `model[\"chk_ram\"]` as the additional number of checkpoints to be stored during the adjoint computation, and the storage type is on disk (`binomial_storage=StorageType.RAM`)."
   ]
  },
  {
   "cell_type": "code",
   "execution_count": 120,
   "metadata": {},
   "outputs": [
    {
     "name": "stdout",
     "output_type": "stream",
     "text": [
      "Sensitivity using adjoint method:  0.46869451662679296\n",
      "sensitivity using central finite differences method:  0.48237197121444586\n",
      "Relative difference in percentage:  2.8354579875812025\n"
     ]
    }
   ],
   "source": [
    "burger = BurgersEquation(model, u0, mesh) # create the burger's equation object\n",
    "period = 10\n",
    "schedule = TwoLevelCheckpointSchedule(period, model[\"chk_ram\"], binomial_storage=StorageType.RAM) # create the checkpointing schedule\n",
    "manager = CheckpointingManager(schedule, burger)  # create the checkpointing manager\n",
    "manager.execute()  # execute the forward and adjoint solvers using checkpointing\n",
    "adj_sensitivity = burger.compute_gradient()  # compute the adjoint-based sensitivity\n",
    "print(\"Sensitivity using adjoint method: \", adj_sensitivity)\n",
    "print(\"sensitivity using central finite differences method: \", fd_sensitivity)\n",
    "error = np.abs(adj_sensitivity - fd_sensitivity)/np.abs(fd_sensitivity)\n",
    "print(\"Relative difference in percentage: \", error*100)"
   ]
  },
  {
   "cell_type": "markdown",
   "metadata": {},
   "source": [
    "Now, we define to store the additional forward restart data on dink during the adjoint computation with the storage type `binomial_storage=StorageType.DISK`, as shown below."
   ]
  },
  {
   "cell_type": "code",
   "execution_count": 121,
   "metadata": {},
   "outputs": [
    {
     "name": "stdout",
     "output_type": "stream",
     "text": [
      "Sensitivity using adjoint method:  0.46869451662679296\n",
      "sensitivity using central finite differences method:  0.48237197121444586\n",
      "Relative difference in percentage:  2.8354579875812025\n"
     ]
    }
   ],
   "source": [
    "burger = BurgersEquation(model, u0, mesh) # create the burger's equation object\n",
    "period = 10\n",
    "schedule = TwoLevelCheckpointSchedule(period, model[\"chk_disk\"], binomial_storage=StorageType.DISK) # create the checkpointing schedule\n",
    "manager = CheckpointingManager(schedule, burger)  # create the checkpointing manager\n",
    "manager.execute()  # execute the forward and adjoint solvers using checkpointing\n",
    "adj_sensitivity = burger.compute_gradient()  # compute the adjoint-based sensitivity\n",
    "print(\"Sensitivity using adjoint method: \", adj_sensitivity)\n",
    "print(\"sensitivity using central finite differences method: \", fd_sensitivity)\n",
    "error = np.abs(adj_sensitivity - fd_sensitivity)/np.abs(fd_sensitivity)\n",
    "print(\"Relative difference in percentage: \", error*100)"
   ]
  },
  {
   "cell_type": "markdown",
   "metadata": {},
   "source": [
    "### References\n",
    "\n",
    "[1] Griewank, A., & Walther, A. (2000). Algorithm 799: revolve: an implementation of checkpointing for the reverse or adjoint mode of computational differentiation. ACM Transactions on Mathematical Software (TOMS), 26(1), 19-45., doi: https://doi.org/10.1145/347837.347846\n",
    "\n",
    "[2] Stumm, P., & Walther, A. (2009). Multistage approaches for optimal offline checkpointing. SIAM Journal on Scientific Computing, 31(3), 1946-1967. https://doi.org/10.1137/080718036\n",
    "\n",
    "[3] Aupy, G., Herrmann, J., Hovland, P., & Robert, Y. (2016). Optimal multistage algorithm for adjoint computation. SIAM Journal on Scientific Computing, 38(3), C232-C255. DOI: https://doi.org/10.1145/347837.347846.\n",
    "\n",
    "[4] Aupy, G., & Herrmann, J. (2017). Periodicity in optimal hierarchical checkpointing schemes for adjoint computations. Optimization Methods and Software, 32(3), 594-624. doi: https://doi.org/10.1080/10556788.2016.1230612\n",
    "\n",
    "[5] Herrmann, J. and Pallez (Aupy), G. (2020). H-Revolve: a framework for adjoint computation on synchronous hierarchical platforms. ACM Transactions on Mathematical Software (TOMS), 46(2), 1-25. DOI: https://doi.org/10.1145/3378672.\n",
    "\n",
    "[6] Maddison, J. R. (2023). On the implementation of checkpointing with high-level algorithmic differentiation. arXiv preprint arXiv:2305.09568. https://doi.org/10.48550/arXiv.2305.09568.\n",
    "\n",
    "[7] Pringle, G. C., Jones, D. C., Goswami, S., Narayanan, S. H. K., and  Goldberg, D. (2016). Providing the ARCHER community with adjoint modelling tools for high-performance oceanographic and cryospheric computation. https://nora.nerc.ac.uk/id/eprint/516314.\n",
    "\n",
    "[8] Goldberg, D. N., Smith, T. A., Narayanan, S. H., Heimbach, P., and Morlighem, M. (2020). Bathymetric Influences on Antarctic Ice‐Shelf Melt Rates. Journal of Geophysical Research: Oceans, 125(11), e2020JC016370. doi: https://doi.org/10.1029/2020JC016370."
   ]
  }
 ],
 "metadata": {
  "kernelspec": {
   "display_name": "Python 3 (ipykernel)",
   "language": "python",
   "name": "python3"
  },
  "language_info": {
   "codemirror_mode": {
    "name": "ipython",
    "version": 3
   },
   "file_extension": ".py",
   "mimetype": "text/x-python",
   "name": "python",
   "nbconvert_exporter": "python",
   "pygments_lexer": "ipython3",
   "version": "3.11.7"
  }
 },
 "nbformat": 4,
 "nbformat_minor": 2
}
