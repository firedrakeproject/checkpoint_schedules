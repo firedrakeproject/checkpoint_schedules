{
 "cells": [
  {
   "cell_type": "markdown",
   "metadata": {},
   "source": [
    "# *checkpoint_schedule* application: adjoint-based gradient with Burger's equation\n",
    "This notebook aims to present the usage of the `checkpoint_schedules` package in an adjoint-based sensitivity problem. We begin by defining the adjoint-based gradient problem\n",
    "\n",
    "### Defining the application\n",
    "Let us consider a one-dimensional (1D) problem where it aims to compute the gradient/sensitivity of an objective functional $I$  with respect to a control parameter. In the current case, consider the initial condition $u_0$ as the control parameter, and the objective functional given by:\n",
    "$$\n",
    "I(u(x, \\tau)) = \\int_{\\Omega} 0.5 \\, u(x, \\tau)u(x, \\tau) \\, d x\n",
    "\\tag{1}\n",
    "$$\n",
    "where $\\tau \\in \\mathbb{R}^{+}$ is the final time. The velocity variable $u = u(x, t)$ is governed by the 1D viscous Burgers equation, a nonlinear equation for the advection and diffusion on momentum:\n",
    "$$\n",
    "\\frac{\\partial u}{\\partial t} + u \\frac{\\partial u}{\\partial x} - \\nu \\frac{\\partial^2 u}{\\partial x^2} = 0\n",
    "\\tag{2},\n",
    "$$\n",
    "where $x \\in [0, L]$ is the space variable. The boundary condition is $u(0, t) = u(L, t) = 0$, where $L$ represents the lenght of the 1D domain. The initial condition is here given by $u(0, t) = u_0 = \\sin(\\pi x)$.\n",
    "\n",
    "In this current case, we aims to measure the sensitivity of the objective functional $I(u(x, \\tau))$ with respect to the initial condition $u_0$ using the adjoint-based gradient method. Therefore, we need initially to define the adjoint-based gradient expression that is here set by using the continuous formulation, which means the sensitivity is obtained from the continuous forward PDE (Partial Differential Equation). In this case, let us consider an augmented functional $J$ given by:\n",
    "$$J(u, \\lambda, u_0) = I(u(x, \\tau)) - \\int_{0}^{\\tau} \\int_{\\Omega}  \\lambda \\left( \\frac{\\partial u}{\\partial t} + u \\frac{\\partial u}{\\partial x} - \\nu \\frac{\\partial^2 u}{\\partial x^2} \\right)\\, d x \\, d t, $$\n",
    "where $\\lambda$ is the Lagrange multipliers also referred to as the adjoint variable. The adjoint-based gradient expression is obtained by applying the Gateaux differentiation of the augmented functional $J(u, \\lambda, u_0)$ with respect to the initial condition $u_0$, which results in:\n",
    "$$ \\frac{\\partial I}{\\partial u_0} = \\int_{\\Omega} \\lambda (x, 0) \\, \\delta u_0 \\, dx\\tag{3}$$\n",
    "Notice that the gradient expression depends of the Lagrange multiplier $\\lambda$, which is obtained by solving an adjoint equation. The adjoint equation is obtained by applying the Gateaux differentiation of the augmented functional $J(u, \\lambda, u_0)$ with respect to the state variable $u$, which results in:\n",
    "$$\n",
    "\\frac{\\partial \\lambda}{\\partial t} - \\lambda\\frac{\\partial u}{\\partial x} + u \\frac{\\partial \\lambda}{\\partial x} + \\nu \\frac{\\partial^2 \\lambda}{\\partial x^2} = 0,\n",
    "\\tag{4}\n",
    "$$\n",
    "satisfying the boundary condition $\\lambda (0, t) = \\lambda(L, t) = 0$. In this case, the initial condition is $\\lambda (x, \\tau) = u(x, \\tau)$.\n",
    "\n",
    "The adjoint equation (4) is solved backward in time, i.e., the adjoint equation is solved from the final time $\\tau$ to the initial time $t=0$. Therefore, compute the adjoint-based gradient requires storing the forward solution for each time-step, since the adjoint equation depends on the forward solution as seen in adjoint equation (4).\n",
    "\n",
    "#### Burger's equation discretisation\n",
    "Both the forward and adjoint systems are discretised using the Finite Element Method (FEM), employing a the spatial discretisation detailed in [1]. This methodology uses the Galerkin Continuous method with linear trial basis functions to obtain an approximate solution. The backward finite difference method is employed to discretise the equations in time.\n",
    "\n",
    "#### Implementation\n",
    "\n",
    "As the previous example, we use the `CheckpointingManager` class intending to manage the execution of forward and adjoint models using a checkpointing schedule. The `CheckpointingManager` has the method `execute` that executes every single action given the checkpointing schedule by iterating over the elements of the `cp_schedule`. Inside the `execute` method, we have the `action` function, which is a single-dispatch generic function. The `action` function is overloaded by the `action_forward`, `action_adjoint`, `action_copy`, `action_move`, `action_end_forward` and `action_end_reverse` according to the actions reached by the iterations over the elements of the `cp_schedule`, e.g., if the action is `Forward`, then the `action_forward` function is called and inside this function, we can implement the necessary code to advance the forward equation. In this current example, we execute the forward solver by calling `self.equation.forward`. Notice that the `self.equation` is an attribute of `CheckpointingManager`. Thus, this attribute would have a `forward` method that executes the forward solver. In addition, in `action_copy` and `action_move`, we add the `self.equation.copy_data`, ..."
   ]
  },
  {
   "cell_type": "code",
   "execution_count": 1,
   "metadata": {},
   "outputs": [],
   "source": [
    "import functools, sys\n",
    "from checkpoint_schedules import *\n",
    "\n",
    "class CheckpointingManager:\n",
    "    \"\"\"Manage the forward and backward solvers.\n",
    "\n",
    "    Attributes\n",
    "    ----------\n",
    "    schedule : CheckpointSchedule\n",
    "        The schedule created by `checkpoint_schedules` package.\n",
    "    equation : object\n",
    "        An equation object used to solve the forward and adjoint solvers.\n",
    "    \n",
    "    Notes\n",
    "    -----\n",
    "    The `equation` object must have the following methods: `forward`, `adjoint`, `adjoint_initial_condition`, `copy_data`.\n",
    "    The forward and adjoint methods execute the forward and adjoint solvers, respectively. The `adjoint_initial_condition`\n",
    "    method is used to compute the initial condition for the adjoint solver. The copy_data method is used to copy data\n",
    "    from one storage to another.\n",
    "    \"\"\"\n",
    "    def __init__(self, schedule, equation):\n",
    "        self.max_n = sys.maxsize\n",
    "        self.equation = equation\n",
    "        self.reverse_step = 0\n",
    "        self._schedule = schedule\n",
    "        \n",
    "    def execute(self):\n",
    "        \"\"\"Execute forward and adjoint using checkpointing.\n",
    "        \"\"\"\n",
    "        @functools.singledispatch\n",
    "        def action(cp_action):\n",
    "            raise TypeError(\"Unexpected action\")\n",
    "\n",
    "        @action.register(Forward)\n",
    "        def action_forward(cp_action):\n",
    "            n1 = cp_action.n1\n",
    "            if (\n",
    "                isinstance(self._schedule, SingleMemoryStorageSchedule) \n",
    "                or isinstance(self._schedule, SingleDiskStorageSchedule)\n",
    "            ): \n",
    "                self.equation.forward(cp_action.n0, n1, storage=cp_action.storage,\n",
    "                                      single_storage=True, write_adj_deps=cp_action.write_adj_deps)\n",
    "            else:    \n",
    "                self.equation.forward(cp_action.n0, n1, storage=cp_action.storage,\n",
    "                                      write_adj_deps=cp_action.write_adj_deps, write_ics=cp_action.write_ics)\n",
    "            if n1 > self.equation.model[\"max_n\"]:\n",
    "                n1 = min(n1, self.equation.model[\"max_n\"])\n",
    "                self._schedule.finalize(n1)\n",
    "            \n",
    "\n",
    "        @action.register(Reverse)\n",
    "        def action_reverse(cp_action):\n",
    "            if self.reverse_step == 0:\n",
    "                self.equation.adjoint_initial_condition()\n",
    "            self.equation.adjoint(cp_action.n0, cp_action.n1, cp_action.clear_adj_deps)\n",
    "            self.reverse_step += cp_action.n1 - cp_action.n0\n",
    "            \n",
    "        @action.register(Copy)\n",
    "        def action_copy(cp_action):\n",
    "            self.equation.copy_data(cp_action.n, cp_action.from_storage, cp_action.to_storage)\n",
    "\n",
    "        @action.register(Move)\n",
    "        def action_move(cp_action):\n",
    "            self.equation.copy_data(cp_action.n, cp_action.from_storage, cp_action.to_storage, move=True)\n",
    "            \n",
    "        @action.register(EndForward)\n",
    "        def action_end_forward(cp_action):\n",
    "            if self._schedule.max_n is None:\n",
    "                self._schedule._max_n = self.max_n\n",
    "            assert self.reverse_step == 0\n",
    "            \n",
    "        @action.register(EndReverse)\n",
    "        def action_end_reverse(cp_action):\n",
    "            if self._schedule.max_n != self.reverse_step:\n",
    "                raise ValueError(\"The number of steps in the reverse phase\"\n",
    "                                 \"is different from the number of steps in the\"\n",
    "                                 \"forward phase.\")\n",
    "            \n",
    "        self.reverse_step = 0\n",
    "        for _, cp_action in enumerate(self._schedule):\n",
    "            action(cp_action)\n",
    "            if isinstance(cp_action, EndReverse):\n",
    "                break\n"
   ]
  },
  {
   "cell_type": "markdown",
   "metadata": {},
   "source": [
    "As we sad, the `CheckpointingManager` class has the `execute` method that executes every single action given the checkpointing schedule by iterating over the elements of the `cp_schedule`. To do so, we need to provide the equation. Here, we are handling with a adjoint-based sensitivity problem with Burger's equation. Thus, we need to provide the `BurgersEquation` class. The `BurgersEquation` class has the `forward` and `adjoint` methods that execute the forward and adjoint solvers, respectively. In addition, the `BurgersEquation` class has the `copy_data` and `adjoint_initial_condition` methods that copy the data from the forward solver to the adjoint solver and set the adjoint initial condition, respectively. The code is an implmentation  of the `BurgersEquation` with the methods required by solving the adjoint-based sensitivity problem using the checkpointing manager class `CheckpointingManager`."
   ]
  },
  {
   "cell_type": "code",
   "execution_count": 2,
   "metadata": {},
   "outputs": [],
   "source": [
    "import numpy as np\n",
    "from enum import Enum\n",
    "import os\n",
    "from scipy.sparse.linalg import spsolve\n",
    "from scipy.sparse import lil_matrix\n",
    "from scipy.optimize import newton\n",
    "\n",
    "\n",
    "class BurgersEquation:\n",
    "    \"\"\"This class is capable to solve the time-dependent forward \n",
    "    and adjoint burger's equation.\n",
    "\n",
    "    Attributes\n",
    "    ----------\n",
    "    model : dict\n",
    "        The model parameters containing the essential information to solve\n",
    "        the burger's equation.\n",
    "    init_condition : array\n",
    "        The initial condition used to solve the forward burger's equation.\n",
    "    \"\"\"\n",
    "    def __init__(self, model, forward_initial_condition, mesh):\n",
    "        self.model = model\n",
    "        self.mesh = mesh\n",
    "        self.snapshots = {StorageType.RAM: {}, StorageType.DISK: {}}\n",
    "        self.forward_work_memory = {StorageType.WORK: {}}\n",
    "        self.forward_initial_condition = forward_initial_condition\n",
    "        self.forward_final_solution = None\n",
    "        self.forward_work_memory[StorageType.WORK][0] = forward_initial_condition\n",
    "        self.adjoint_work_memory = {StorageType.WORK: {}}\n",
    "\n",
    "    def _mass_matrix(self):\n",
    "        \"\"\"This function assembles the mass matrix.\n",
    "\n",
    "        Returns\n",
    "        -------\n",
    "        M : scipy.sparse.lil_matrix\n",
    "            The mass matrix.\n",
    "        \"\"\"\n",
    "        nx = self.model[\"nx\"]\n",
    "        M = lil_matrix((nx, nx))\n",
    "        M[0, 0] = M[nx - 1, nx - 1] = 1 / 3\n",
    "        M[0, 1] = M[nx - 1, nx - 2] = 1 / 6\n",
    "        for i in range(1, nx - 1):\n",
    "            M[i, i] = 2 / 3\n",
    "            M[i, i + 1] = M[i, i - 1] = 1 / 6\n",
    "        return M\n",
    "    \n",
    "    def _stiffness_matrix(self):\n",
    "        \"\"\"This function assembles the stiffness matrix.\n",
    "\n",
    "        Returns\n",
    "        -------\n",
    "        K : scipy.sparse.lil_matrix\n",
    "            The stiffness matrix.\n",
    "        \"\"\"\n",
    "        nx = self.model[\"nx\"]\n",
    "        b = self.model[\"nu\"] / (self.model[\"lx\"] / self.model[\"nx\"])**2\n",
    "        K = lil_matrix((nx, nx))\n",
    "        K[0, 0] = K[nx - 1, nx - 1] = b \n",
    "        K[0, 1] = K[nx - 1, nx - 2] = - b\n",
    "        for i in range(1, nx - 1):\n",
    "            K[i, i] = 2 * b\n",
    "            K[i, i - 1] =  K[i, i + 1] = - b\n",
    "        return K\n",
    "    \n",
    "    def _convection_matrix(self, u_new):\n",
    "        \"\"\"This function assembles the convection matrix.\n",
    "\n",
    "        Parameters\n",
    "        ----------\n",
    "        u_new : array\n",
    "            Forward solution at the n + 1 time step.\n",
    "\n",
    "        Returns\n",
    "        -------\n",
    "        C : scipy.sparse.lil_matrix\n",
    "            The convection matrix.\n",
    "        \"\"\"\n",
    "        nx = self.model[\"nx\"]\n",
    "        dx = self.model[\"lx\"] / self.model[\"nx\"]\n",
    "        C = lil_matrix((nx, nx))\n",
    "        C[0, 0] = - 1 / 2 * u_new[0] / dx\n",
    "        C[nx - 1, nx - 1] = 1 / 2 * u_new[nx - 1] / dx\n",
    "        C[0, 1] = 1/2 * u_new[0] / dx\n",
    "        C[nx - 1, nx - 2] = - 1 / 2 * u_new[nx - 2] / dx\n",
    "        for i in range(1, nx - 1):\n",
    "            C[i, i - 1] = - 1 / 2 * u_new[i - 1] / dx\n",
    "            C[i, i] = 1 / 2 * (u_new[i - 1] - u_new[i]) / dx\n",
    "            C[i, i + 1] = 1 / 2 * u_new[i] / dx\n",
    "        return C\n",
    "    \n",
    "    def forward(\n",
    "            self, n0, n1, storage=None, write_adj_deps=False,\n",
    "            write_ics=False, single_storage=False\n",
    "    ):\n",
    "        \"\"\"Solve the non-linear forward burger's equation in time.\n",
    "\n",
    "        Parameters\n",
    "        ----------\n",
    "        n0 : int\n",
    "            Initial time step.\n",
    "        n1 : int\n",
    "            Final time step.\n",
    "        storage : StorageType, optional\n",
    "            The storage type, which can be StorageType.RAM, StorageType.DISK,\n",
    "            StorageType.WORK, or StorageType.NONE.\n",
    "        write_adj_deps : bool, optional\n",
    "            Whether the adjoint dependency data will be stored.\n",
    "        write_ics : bool, optional\n",
    "            Whether the forward restart data will be stored.\n",
    "        single_storage : bool, optional\n",
    "            This parameter is used to indicated whether a checkpointing schedule\n",
    "            is single storage or not. Single storage means that no checkpointing\n",
    "            algorithm (eg, `Revolve`, `HRevole`) is employed. \n",
    "        \"\"\"\n",
    "        M = self._mass_matrix()\n",
    "        K = self._stiffness_matrix()\n",
    "        def non_linear(u_new, u):\n",
    "            \"\"\"Define the non-linear system.\n",
    "\n",
    "            Parameters\n",
    "            ----------\n",
    "            u_new : array\n",
    "                Forward solution at the `n + 1` time step.\n",
    "            u : array\n",
    "                Forward solution at the `n` time step.\n",
    "            \"\"\"\n",
    "            C = self._convection_matrix(u_new)\n",
    "            # Set the boundary conditions.\n",
    "            u[0] = u[self.model[\"nx\"] - 1] = 0\n",
    "            F = M * u_new - M * u + self.model[\"dt\"] * (K * u_new + C * u_new)\n",
    "            return F\n",
    "\n",
    "        # Get the initial condition\n",
    "        u = self.forward_work_memory[StorageType.WORK][n0]\n",
    "        if not single_storage:\n",
    "            del self.forward_work_memory[StorageType.WORK][n0]\n",
    "        u_new = u.copy()\n",
    "        n1 = min(n1, self.model[\"max_n\"])\n",
    "        step = n0\n",
    "        while step < n1:\n",
    "            if ((write_ics and step == n0)\n",
    "                or (write_adj_deps and storage != StorageType.WORK)):\n",
    "                self._store_data(u, step, storage,\n",
    "                                write_adj_deps=write_adj_deps,\n",
    "                                write_ics=write_ics)\n",
    "            u_new = newton(lambda u_new: non_linear(u_new, u), u)\n",
    "            u = u_new.copy()\n",
    "            if single_storage and storage == StorageType.WORK:\n",
    "                self.forward_work_memory[StorageType.WORK][step] = u_new\n",
    "            step += 1\n",
    "        self.forward_work_memory[StorageType.WORK][step] = u_new\n",
    "        if n1 == self.model[\"max_n\"]:\n",
    "            self.forward_final_solution = u_new.copy()\n",
    "\n",
    "    def adjoint(self, n0, n1, clear_adj_deps):\n",
    "        \"\"\"Execute the adjoint equation in time.\n",
    "\n",
    "        Parameters\n",
    "        ---------\n",
    "        n0 : int\n",
    "            Initial time step.\n",
    "        n1 : int\n",
    "            Final time step.\n",
    "        clear_adj_deps : bool\n",
    "            If `True`, the adjoint dependency data will be cleared.\n",
    "        \"\"\"\n",
    "        u = self.adjoint_work_memory[StorageType.WORK][n1]\n",
    "        del self.adjoint_work_memory[StorageType.WORK][n1]\n",
    "        u_new = np.zeros(self.model[\"nx\"])\n",
    "        steps = n1 - n0\n",
    "        t = n1\n",
    "        M = self._mass_matrix()\n",
    "        K = self._stiffness_matrix()\n",
    "        for _ in range(steps):\n",
    "            u[0] = u[self.model[\"nx\"] - 1] = 0\n",
    "            C = self._convection_matrix(self.forward_work_memory[StorageType.WORK][t])\n",
    "            C1 = self._convection_matrix(u)\n",
    "            A = M + self.model[\"dt\"] * (K - C)\n",
    "            d = - M * u + self.model[\"dt\"] * (C1 * self.forward_work_memory[StorageType.WORK][t])\n",
    "            u_new = spsolve(A, d)\n",
    "            u = u_new.copy()\n",
    "            if clear_adj_deps:\n",
    "                del self.forward_work_memory[StorageType.WORK][t]\n",
    "            t -= 1\n",
    "        self.adjoint_work_memory[StorageType.WORK][n0] = u_new\n",
    "    \n",
    "    def compute_gradient(self):\n",
    "        \"\"\"Compute the adjoint-based gradient.\n",
    "        \"\"\"\n",
    "        u_adj = self.adjoint_work_memory[StorageType.WORK][0]\n",
    "        return  np.trapz(u_adj * np.sin(np.pi * self.mesh), self.mesh)\n",
    "    \n",
    "    def _store_on_disk(self, data, step, adj_deps=False):\n",
    "        \"\"\"Store the forward data on disk.\n",
    "\n",
    "        Parameters\n",
    "        ----------\n",
    "        data : array\n",
    "            The forward data.\n",
    "        step : int\n",
    "            The time step.\n",
    "        adj_deps : bool, optional\n",
    "            If True, the data is stored in the adjoint dependencies folder.\n",
    "        \"\"\"\n",
    "        if adj_deps:\n",
    "            file_name = \"adj_deps/fwd_\"+ str(step) +\".npy\"\n",
    "            with open(file_name, \"wb\") as f:\n",
    "                np.save(f, data)\n",
    "        else:\n",
    "            file_name = \"fwd_data/fwd_\"+ str(step) +\".npy\"\n",
    "            with open(file_name, \"wb\") as f:\n",
    "                np.save(f, data)\n",
    "        self.snapshots[StorageType.DISK][step] = file_name\n",
    "\n",
    "    def copy_data(self, step, from_storage, to_storage, move=False):\n",
    "        \"\"\"Load the forward data from disk.\n",
    "\n",
    "        Parameters\n",
    "        ----------\n",
    "        file_name : str\n",
    "            The file name.\n",
    "        step : int\n",
    "            The time step.\n",
    "\n",
    "        Returns\n",
    "        -------\n",
    "        data : array\n",
    "            The loaded data.\n",
    "        \"\"\"\n",
    "        if from_storage == StorageType.DISK:\n",
    "            file_name = self.snapshots[StorageType.DISK][step]\n",
    "            with open(file_name, \"rb\") as f:\n",
    "                if to_storage == StorageType.RAM:\n",
    "                    self.snapshots[StorageType.RAM][step] = np.load(f)\n",
    "                elif to_storage == StorageType.WORK:\n",
    "                    self.forward_work_memory[StorageType.WORK][step] = np.load(f)\n",
    "                if move:\n",
    "                    os.remove(file_name)\n",
    "        elif from_storage == StorageType.RAM:\n",
    "            self.forward_work_memory[StorageType.WORK][step] = self.snapshots[StorageType.RAM][step]\n",
    "            if move:\n",
    "                del self.snapshots[StorageType.RAM][step]\n",
    "\n",
    "    def _store_data(self, data, t, storage, write_adj_deps=False, write_ics=False):\n",
    "        \"\"\"Store the forward data.\n",
    "\n",
    "        Parameters\n",
    "        ----------\n",
    "        data : array\n",
    "            The forward data.\n",
    "        t : int\n",
    "            The time step.\n",
    "        storage : StorageType\n",
    "            The storage type.\n",
    "        write_adj_deps : bool, optional\n",
    "            If `True`, the adjoint dependency data will be stored.\n",
    "        write_ics : bool, optional\n",
    "            If `True`, the forward restart data will be stored.\n",
    "        \"\"\"\n",
    "        if storage == StorageType.DISK:\n",
    "            if write_adj_deps:\n",
    "                self._store_on_disk(data, t, adj_deps=write_adj_deps)\n",
    "            if write_ics:\n",
    "                self._store_on_disk(data, t)\n",
    "        elif storage == StorageType.RAM:\n",
    "            self.snapshots[storage][t] = data\n",
    "\n",
    "\n",
    "    def adjoint_initial_condition(self):\n",
    "        \"\"\"Set the adjoint initial condition.\n",
    "        \"\"\"\n",
    "        u = self.forward_final_solution\n",
    "        self.adjoint_work_memory[StorageType.WORK][self.model[\"max_n\"]] = u\n",
    "\n"
   ]
  },
  {
   "cell_type": "markdown",
   "metadata": {},
   "source": [
    "### Adjoint-based sensitivity computations\n",
    "\n",
    "This adjoint-based sensitivity computation aims to employ every checkpointing aprroach available in the `checkpoint_schedules` package and verify if the quantitative results provided by the solver are the same. Hence, we initially compute an adjoint-based sensitivity without to employ any checkpointing approach.\n",
    "\n",
    "Below, we define the `model` dictionary that contains the parameters required for the forward and adjoint solvers. The `model` dictionary is passed to the `BurgersEquation` class. We also set the one-dimensional mesh and the initial condition of the forward Burgers' solver."
   ]
  },
  {
   "cell_type": "code",
   "execution_count": 3,
   "metadata": {},
   "outputs": [],
   "source": [
    "model = {\"lx\": 1,   # lenght domain\n",
    "         \"nx\": 100, # number of nodes\n",
    "         \"dt\": 0.001, # time step\n",
    "         \"T\": 2, # final time\n",
    "         \"nu\": 0.01, # viscosity\n",
    "         \"max_n\": 500, # total steps\n",
    "         \"chk_ram\": 10, # number of checkpoints in RAM\n",
    "         \"chk_disk\": 10, # number of checkpoints on disk\n",
    "        }\n",
    "\n",
    "mesh = np.linspace(0, model[\"lx\"], model[\"nx\"]) # create the spatial grid\n",
    "u0 = np.sin(np.pi*mesh) # initial condition"
   ]
  },
  {
   "cell_type": "markdown",
   "metadata": {},
   "source": [
    "We now compute an adjoint-based sensitivity without to employ any checkpointing approach. Here, we compute the sensitivity using two approaches: (i) central finite difference method and (ii) adjoint method. The central finite difference method is employed to compute the sensitivity of the kinetic energy with respect to the initial condition $u_0$ is given by:\n",
    "$$ \\frac{\\partial I}{\\partial u_0} = \\frac{I(u_0 + \\epsilon) - I(u_0 - \\epsilon)}{2 \\epsilon} \\tag{5}$$\n",
    "where $\\epsilon$ is a small perturbation. The adjoint method is employed to compute the sensitivity of the kinetic energy with respect to the initial condition $u_0$ is given by:\n",
    "$$ \\frac{d I}{d u_0} = \\int^1_0 \\lambda(x, 0) \\,\\delta u_0  \\,dx \\tag{6}$$\n",
    "where $\\lambda$ is the Lagrange multiplier obtained by solving the adjoint equation (4)."
   ]
  },
  {
   "cell_type": "code",
   "execution_count": 4,
   "metadata": {},
   "outputs": [
    {
     "name": "stdout",
     "output_type": "stream",
     "text": [
      "Sensitivity using central finite differences method:  0.2537134910203423\n"
     ]
    }
   ],
   "source": [
    "# Solve the sensitivity using central finite differences method.\n",
    "u0_p = 1.01*np.sin(np.pi*mesh)  # Initial condition.\n",
    "burger = BurgersEquation(model, u0_p, mesh)  # Create the burger's equation object.\n",
    "n0 = 0\n",
    "n1 = model[\"max_n\"]\n",
    "burger.forward(0, model[\"max_n\"])  # Solve the forward equation for model[\"max_n\"] steps.\n",
    "u_p = burger.forward_final_solution  # Get the final solution.\n",
    "e_p = 0.5 * u_p**2  # Energy\n",
    "\n",
    "u0_m = 0.99 * np.sin(np.pi*mesh)  # Initial condition.\n",
    "burger = BurgersEquation(model, u0_m, mesh)  # Create the burger's equation object.\n",
    "burger.forward(0, model[\"max_n\"])  # Solve the forward equation.\n",
    "u_m = burger.forward_final_solution  # Get the final solution.\n",
    "e_m = 0.5 * u_m**2  # Energy\n",
    "\n",
    "# Compute the sensitivity.\n",
    "integ2 = np.trapz(e_p, mesh)\n",
    "integ1 = np.trapz(e_m, mesh)\n",
    "du0 = 0.01\n",
    "fd_sensitivity = (integ2 - integ1) / (2 * du0)\n",
    "print(\"Sensitivity using central finite differences method: \", fd_sensitivity)"
   ]
  },
  {
   "cell_type": "markdown",
   "metadata": {},
   "source": [
    "We now start to compute the adjoint-based sensitivity using the checkpointing approaches available in the `checkpoint_schedules` package. The first one, it is `SingleMemoryStorageSchedule` for the cases where the user intend to store the forward data for all steps. As we explained in the illustration example, the `SingleMemoryStorageSchedule` schedule does not require the maximal step `model[\"max_n\"]`. Hence, we can define the final forward step during the executions of the forward solver. "
   ]
  },
  {
   "cell_type": "code",
   "execution_count": 5,
   "metadata": {},
   "outputs": [],
   "source": [
    "schedule = SingleMemoryStorageSchedule()  # create the checkpointing schedule\n",
    "burger = BurgersEquation(model, u0, mesh) # create the burger's equation object\n",
    "manager = CheckpointingManager(schedule, burger)  # create the checkpointing manager\n",
    "manager.execute()  # execute the forward and adjoint solvers using checkpointing"
   ]
  },
  {
   "cell_type": "markdown",
   "metadata": {},
   "source": [
    "We then compute the adjoint-based sensitivity and compare with the sensitivity using central finite difference method and without any checkpointing approach. We can see below that the results are the same."
   ]
  },
  {
   "cell_type": "code",
   "execution_count": 6,
   "metadata": {},
   "outputs": [
    {
     "name": "stdout",
     "output_type": "stream",
     "text": [
      "Sensitivity using adjoint method:  0.2494164186498483 sensitivity using central finite differences method:  0.2537134910203423\n"
     ]
    }
   ],
   "source": [
    "adj_sensitivity = burger.compute_gradient()  # compute the adjoint-based sensitivity\n",
    "print(\"Sensitivity using adjoint method: \", adj_sensitivity, \"sensitivity using central finite differences method: \", fd_sensitivity)"
   ]
  },
  {
   "cell_type": "markdown",
   "metadata": {},
   "source": [
    "The next example shows the usage of the `SingleDiskStorageSchedule` schedule. In this case, the forward data used in the adjoint compuations is stored on disk. The `SingleDiskStorageSchedule` schedule does not require the maximal step `model[\"max_n\"]` to be defined before the forward solver execution. Hence, we can define the final forward step during the executions of the forward solver."
   ]
  },
  {
   "cell_type": "code",
   "execution_count": 7,
   "metadata": {},
   "outputs": [
    {
     "name": "stdout",
     "output_type": "stream",
     "text": [
      "Sensitivity using adjoint method:  0.25111682369231336 sensitivity using central finite differences method:  0.2537134910203423\n"
     ]
    }
   ],
   "source": [
    "schedule = SingleDiskStorageSchedule()  # create the checkpointing schedule\n",
    "burger = BurgersEquation(model, u0, mesh) # create the burger's equation object\n",
    "manager = CheckpointingManager(schedule, burger)  # create the checkpointing manager\n",
    "manager.execute()  # execute the forward and adjoint solvers using checkpointing\n",
    "adj_sensitivity = burger.compute_gradient()  # compute the adjoint-based sensitivity\n",
    "print(\"Sensitivity using adjoint method: \", adj_sensitivity, \"sensitivity using central finite differences method: \", fd_sensitivity)"
   ]
  },
  {
   "cell_type": "markdown",
   "metadata": {},
   "source": [
    "With the example above, we do not move any data from the disk to the work in memory, i.e., we copy the data from the disk and keep this data on disk. The next example shows the usage of the `SingleDiskStorageSchedule` schedule with the `mode_data=True` argument. In this case, the forward data used in the adjoint compuations stored on disk is moved to the work in memory, i.e., we copy the data from the disk and remove this data from the disk. "
   ]
  },
  {
   "cell_type": "code",
   "execution_count": 8,
   "metadata": {},
   "outputs": [
    {
     "name": "stdout",
     "output_type": "stream",
     "text": [
      "Sensitivity using adjoint method:  0.25111682369231336 sensitivity using central finite differences method:  0.2537134910203423\n"
     ]
    }
   ],
   "source": [
    "schedule = SingleDiskStorageSchedule(move_data=True)  # create the checkpointing schedule\n",
    "burger = BurgersEquation(model, u0, mesh) # create the burger's equation object\n",
    "manager = CheckpointingManager(schedule, burger)  # create the checkpointing manager\n",
    "manager.execute()  # execute the forward and adjoint solvers using checkpointing\n",
    "adj_sensitivity = burger.compute_gradient()  # compute the adjoint-based sensitivity\n",
    "print(\"Sensitivity using adjoint method: \", adj_sensitivity, \"sensitivity using central finite differences method: \", fd_sensitivity)"
   ]
  },
  {
   "cell_type": "markdown",
   "metadata": {},
   "source": [
    "Now, we start to execute the adjoint-based gradient computation with the checkpointing algorithimic used to manage the memory usage. The first one is the `Revolve` schedule. The `Revolve` schedule requires the maximal step `model[\"max_n\"]` to be defined before the forward solver execution, and the number of checkpoints that we intend to store in RAM. \n",
    "\n",
    "In the following example, we define `model[\"chk_ram\"]` that holds the number of steps that the forward data is stored in  RAM"
   ]
  },
  {
   "cell_type": "code",
   "execution_count": 9,
   "metadata": {},
   "outputs": [
    {
     "name": "stdout",
     "output_type": "stream",
     "text": [
      "Sensitivity using adjoint method:  0.2511168231721735 sensitivity using central finite differences method:  0.2537134910203423\n"
     ]
    }
   ],
   "source": [
    "burger = BurgersEquation(model, u0, mesh) # create the burger's equation object\n",
    "schedule = Revolve(model[\"max_n\"], model[\"chk_ram\"]) # create the checkpointing schedule\n",
    "manager = CheckpointingManager(schedule, burger)  # create the checkpointing manager\n",
    "manager.execute()  # execute the forward and adjoint solvers using checkpointing\n",
    "adj_sensitivity = burger.compute_gradient()  # compute the adjoint-based sensitivity\n",
    "print(\"Sensitivity using adjoint method: \", adj_sensitivity, \"sensitivity using central finite differences method: \", fd_sensitivity)"
   ]
  },
  {
   "cell_type": "markdown",
   "metadata": {},
   "source": [
    "Below, we execute the adjoint-based gradient computation with the `DiskRevolve` schedule. The `DiskRevolve` schedule requires the maximal step `model[\"max_n\"]` to be defined before the forward solver execution, and the maximal number of checkpoints to save in RAM. This schedule provides automatically the number of checkpoints to store on disk based on the following points:\n",
    "- Cost to execute the forward solver in one step;\n",
    "- Cost to store the forward data on disk;"
   ]
  },
  {
   "cell_type": "code",
   "execution_count": 10,
   "metadata": {},
   "outputs": [
    {
     "name": "stdout",
     "output_type": "stream",
     "text": [
      "Sensitivity using adjoint method:  0.25111682366125143 sensitivity using central finite differences method:  0.2537134910203423\n"
     ]
    }
   ],
   "source": [
    "burger = BurgersEquation(model, u0, mesh) # create the burger's equation object\n",
    "schedule = DiskRevolve(model[\"max_n\"], model[\"chk_ram\"]) # create the checkpointing schedule\n",
    "manager = CheckpointingManager(schedule, burger)  # create the checkpointing manager\n",
    "manager.execute()  # execute the forward and adjoint solvers using checkpointing\n",
    "adj_sensitivity = burger.compute_gradient()  # compute the adjoint-based sensitivity\n",
    "print(\"Sensitivity using adjoint method: \", adj_sensitivity, \"sensitivity using central finite differences method: \", fd_sensitivity)"
   ]
  },
  {
   "cell_type": "markdown",
   "metadata": {},
   "source": [
    "The code below shows the usage of the `PeriodicDiskRevolve` schedule that also requires the maximal step `model[\"max_n\"]` to be defined before the forward solver execution. The `PeriodicDiskRevolve` schedule requires the number of checkpoints that we intend to store in RAM and computes the number of steps that the forward data is stored on disk."
   ]
  },
  {
   "cell_type": "code",
   "execution_count": 11,
   "metadata": {},
   "outputs": [
    {
     "name": "stdout",
     "output_type": "stream",
     "text": [
      "We use periods of size  11\n",
      "Sensitivity using adjoint method:  0.25111682379463096 sensitivity using central finite differences method:  0.2537134910203423\n"
     ]
    }
   ],
   "source": [
    "burger = BurgersEquation(model, u0, mesh) # create the burger's equation object\n",
    "schedule = PeriodicDiskRevolve(model[\"max_n\"], model[\"chk_ram\"]) # create the checkpointing schedule\n",
    "manager = CheckpointingManager(schedule, burger)  # create the checkpointing manager\n",
    "manager.execute()  # execute the forward and adjoint solvers using checkpointing\n",
    "adj_sensitivity = burger.compute_gradient()  # compute the adjoint-based sensitivity\n",
    "print(\"Sensitivity using adjoint method: \", adj_sensitivity, \"sensitivity using central finite differences method: \", fd_sensitivity)"
   ]
  },
  {
   "cell_type": "markdown",
   "metadata": {},
   "source": [
    "The `HRevolve` and `MultistageCheckpointSchedule` schedule are employed below, these checkpointing schedules require the maximal step `model[\"max_n\"]` to be defined before the forward solver execution, and the maximal number of checkpoints that we intend to store in RAM and on disk. "
   ]
  },
  {
   "cell_type": "code",
   "execution_count": 12,
   "metadata": {},
   "outputs": [
    {
     "name": "stdout",
     "output_type": "stream",
     "text": [
      "Sensitivity using adjoint method:  0.2511168235235841 sensitivity using central finite differences method:  0.2537134910203423\n"
     ]
    }
   ],
   "source": [
    "burger = BurgersEquation(model, u0, mesh) # create the burger's equation object\n",
    "schedule = HRevolve(model[\"max_n\"], model[\"chk_ram\"], model[\"chk_disk\"]) # create the checkpointing schedule\n",
    "manager = CheckpointingManager(schedule, burger)  # create the checkpointing manager\n",
    "manager.execute()  # execute the forward and adjoint solvers using checkpointing\n",
    "adj_sensitivity = burger.compute_gradient()  # compute the adjoint-based sensitivity\n",
    "print(\"Sensitivity using adjoint method: \", adj_sensitivity, \"sensitivity using central finite differences method: \", fd_sensitivity)"
   ]
  },
  {
   "cell_type": "code",
   "execution_count": 13,
   "metadata": {},
   "outputs": [
    {
     "name": "stdout",
     "output_type": "stream",
     "text": [
      "Sensitivity using adjoint method:  0.25111682386291695 sensitivity using central finite differences method:  0.2537134910203423\n"
     ]
    }
   ],
   "source": [
    "burger = BurgersEquation(model, u0, mesh) # create the burger's equation object\n",
    "schedule = MultistageCheckpointSchedule(model[\"max_n\"], model[\"chk_ram\"], model[\"chk_disk\"]) # create the checkpointing schedule\n",
    "manager = CheckpointingManager(schedule, burger)  # create the checkpointing manager\n",
    "manager.execute()  # execute the forward and adjoint solvers using checkpointing\n",
    "adj_sensitivity = burger.compute_gradient()  # compute the adjoint-based sensitivity\n",
    "print(\"Sensitivity using adjoint method: \", adj_sensitivity, \"sensitivity using central finite differences method: \", fd_sensitivity)"
   ]
  },
  {
   "cell_type": "markdown",
   "metadata": {},
   "source": [
    "The `TwoLevelCheckpointSchedule` also employes a mixed storage in RAM and on disk. This schedule does not require the maximal step `model[\"max_n\"]` to be defined before the forward solver execution. `TwoLevelCheckpointSchedule` saves the forward data in RAM or on disk according to the `period` argument, e.g., if `period=2`, then the forward data is stored in RAM or on disk every two steps. In the reverse computation, which involves the the execution of the adjoint solver and the forward solver to compute the adjoint dependency, the  user can define the aditional foward restart data storage in RAM or on disk according. The aditional forward restart data storage is defined the second argument of the `TwoLevelCheckpointSchedule` schedule. In the example, below, we define the `model[\"chk_ram\"]` to 1. The storage type is defined by the `binomial_storage` argument."
   ]
  },
  {
   "cell_type": "code",
   "execution_count": 14,
   "metadata": {},
   "outputs": [
    {
     "name": "stdout",
     "output_type": "stream",
     "text": [
      "Sensitivity using adjoint method:  0.25111682369231336 sensitivity using central finite differences method:  0.2537134910203423\n"
     ]
    }
   ],
   "source": [
    "burger = BurgersEquation(model, u0, mesh) # create the burger's equation object\n",
    "period = 2\n",
    "schedule = TwoLevelCheckpointSchedule(period, model[\"chk_ram\"], binomial_storage=StorageType.RAM) # create the checkpointing schedule\n",
    "manager = CheckpointingManager(schedule, burger)  # create the checkpointing manager\n",
    "manager.execute()  # execute the forward and adjoint solvers using checkpointing\n",
    "adj_sensitivity = burger.compute_gradient()  # compute the adjoint-based sensitivity\n",
    "print(\"Sensitivity using adjoint method: \", adj_sensitivity, \"sensitivity using central finite differences method: \", fd_sensitivity)"
   ]
  },
  {
   "cell_type": "markdown",
   "metadata": {},
   "source": [
    "In the example above, we choose to store one additional forward restart data in RAM in the reverse computation with the storage type `binomial_storage=StorageType.RAM`. In the example below, we choose to store one additional forward restart data on disk in the reverse computation with the storage type `binomial_storage=StorageType.DISK`."
   ]
  },
  {
   "cell_type": "code",
   "execution_count": 15,
   "metadata": {},
   "outputs": [
    {
     "name": "stdout",
     "output_type": "stream",
     "text": [
      "Sensitivity using adjoint method:  0.25111682369231336 sensitivity using central finite differences method:  0.2537134910203423\n"
     ]
    }
   ],
   "source": [
    "burger = BurgersEquation(model, u0, mesh) # create the burger's equation object\n",
    "period = 10\n",
    "schedule = TwoLevelCheckpointSchedule(period, model[\"chk_disk\"], binomial_storage=StorageType.DISK) # create the checkpointing schedule\n",
    "manager = CheckpointingManager(schedule, burger)  # create the checkpointing manager\n",
    "manager.execute()  # execute the forward and adjoint solvers using checkpointing\n",
    "adj_sensitivity = burger.compute_gradient()  # compute the adjoint-based sensitivity\n",
    "print(\"Sensitivity using adjoint method: \", adj_sensitivity, \"sensitivity using central finite differences method: \", fd_sensitivity)"
   ]
  }
 ],
 "metadata": {
  "kernelspec": {
   "display_name": "Python 3 (ipykernel)",
   "language": "python",
   "name": "python3"
  },
  "language_info": {
   "codemirror_mode": {
    "name": "ipython",
    "version": 3
   },
   "file_extension": ".py",
   "mimetype": "text/x-python",
   "name": "python",
   "nbconvert_exporter": "python",
   "pygments_lexer": "ipython3",
   "version": "3.11.7"
  }
 },
 "nbformat": 4,
 "nbformat_minor": 2
}
