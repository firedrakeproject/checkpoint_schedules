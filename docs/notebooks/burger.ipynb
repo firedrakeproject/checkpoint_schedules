{
 "cells": [
  {
   "cell_type": "markdown",
   "metadata": {},
   "source": [
    "# *checkpoint_schedule* application: Adjoint-Based Gradient with Burger's Equation\n",
    "\n",
    "This user example shows adjoint-based gradient computation using the *checkpointing_schedules* package. We initially define the adjoint-based gradient problem and then present the forward and adjoint solvers prescribed by the *checkpointing_schedules* package.\n",
    "\n",
    "## Defining the application\n",
    "\n",
    "Let us consider a one-dimensional (1D) problem aiming to compute the gradient/sensitivity of an objective functional $I$ with respect to a control parameter. The objective functional is given by the expression:\n",
    "\n",
    "$$\n",
    "I(u) = \\int_{\\Omega} \\frac{1}{2} u(x, \\tau)u(x, \\tau) \\, dx\n",
    "\\tag{1}\n",
    "$$\n",
    "\n",
    "This measures the energy of a 1D velocity variable $u = u(x, \\tau)$ at a time $\\tau$, where $u$ is governed by the 1D viscous Burgers equation, a non-linear equation for the advection and diffusion of momentum:\n",
    "\n",
    "$$\n",
    "\\frac{\\partial u}{\\partial t} + u \\frac{\\partial u}{\\partial x} - \\nu \\frac{\\partial^2 u}{\\partial x^2} = 0.\n",
    "\\tag{2}\n",
    "$$\n",
    "\n",
    "Here, $x \\in [0, L]$ is the space variable, and $t \\in \\mathbb{R}^{+}$ represents the time variable. The boundary condition is $u(0, t) = u(L, t) = 0$, where $L$ is the length of the 1D domain. The initial condition is given by $u(0, t) = u_0 = \\sin(\\pi x)$.\n",
    "\n",
    "The control parameter is the initial condition $u_0$. Hence, the objective is to compute the adjoint-based gradient of the cost function $I(u)$ with respect to $u_0$.\n",
    "\n",
    "This example sets the adjoint equation from the continuous formulation, meaning the adjoint PDE is obtained from the continuous forward PDE (Partial Differential Equation). The adjoint-based gradient is given by the expression:\n",
    "\n",
    "$$\n",
    "\\frac{d I}{d u_0} = \\int_{\\Omega}  \\lambda(x, 0) \\delta u_0 \\, dx,\n",
    "\\tag{3}\n",
    "$$\n",
    "\n",
    "where $\\lambda(x, 0)$ is the adjoint variable governed by the adjoint system:\n",
    "\n",
    "$$\n",
    "\\frac{\\partial \\lambda}{\\partial t} - \\lambda \\frac{\\partial u}{\\partial x} + u \\frac{\\partial \\lambda}{\\partial x} + \\nu \\frac{\\partial^2 \\lambda}{\\partial x^2} = 0,\n",
    "\\tag{4}\n",
    "$$\n",
    "\n",
    "satisfying the boundary condition $\\lambda (0, t) = \\lambda(L, t) = 0$. In this case, the initial condition is $\\lambda (x, \\tau) = u(x, \\tau)$.\n",
    "\n",
    "Once the adjoint equation is solved from the initial time $t = \\tau$ to the final time $\\tau = 0$ the adjoint equation depends on the forward solution (see the adjoint equation (4)), it is necessary to store the forward state variable. Storing the entire forward state in preparation for the adjoint calculation has a memory footprint linear in the number of time steps. For sufficiently large problems this will exhaust the\n",
    "memory of any computer system. To overcome this kind of problem, checkpointing algorithms are used to reduce the memory usage.\n",
    "\n",
    "#### Checkpointing manager implementation\n",
    "\n",
<<<<<<< HEAD
    "As shown in the [illustrative example](https://nbviewer.org/github/firedrakeproject/checkpoint_schedules/blob/main/docs/notebooks/tutorial.ipynb), we define the `CheckpointingManager` class to manage the execution of forward and adjoint models with a checkpointing schedule. The `CheckpointingManager` contains the `execute` method, which performs each action specified in the checkpointing schedule (`_schedule`). Within the `execute` method, the single-dispatch generic function `action` function is employed. `action` is overloaded by the `action_forward`, `action_adjoint`, `action_copy`, `action_move`, `action_end_forward`, and `action_end_reverse` functions. These functions correspond to different actions reached during the iterations over the elements of the `cp_schedule`.\n",
    "\n",
    "For instance, if the action is `Forward`, the `action_forward` function is called. Within this function, the necessary code is implemented to progress the forward equation. In this particular example, the forward solver is executed by calling `self.equation.forward`. Here, `self.equation` is an attribute of `CheckpointingManager`. Similarly, the adjoint solver is executed by calling `self.equation.adjoint` within the `action_reverse` function.\n"
=======
    "As shown in the [illustrative example](https://nbviewer.org/github/firedrakeproject/checkpoint_schedules/blob/main/docs/notebooks/tutorial.ipynb), a `CheckpointingManager` class is also here defined to manage the execution of forward and adjoint models with a checkpointing schedule. The `CheckpointingManager` contains the `execute` method, which performs each action specified in the checkpointing schedule (`_schedule`). Within the `execute` method, we have the single-dispatch generic `action` function that is overloaded by particular functions. For instance, if the action is `Forward`, the `action_forward` function is called. Within this function, the necessary code is implemented to progress the forward equation. In this particular example, the forward solver is executed by calling `self.equation.forward`. Here, `self.equation` is an attribute of `CheckpointingManager`. Similarly, the adjoint solver is executed by calling `self.equation.adjoint` within the `action_reverse` function.\n"
>>>>>>> 2387ec2 (Add taylor remainder test.)
   ]
  },
  {
   "cell_type": "code",
   "execution_count": 31,
   "metadata": {},
   "outputs": [],
   "source": [
    "import functools, sys\n",
    "from checkpoint_schedules import *\n",
    "\n",
    "class CheckpointingManager:\n",
    "    \"\"\"Manage the forward and adjoint solvers.\n",
    "\n",
    "    Attributes\n",
    "    ----------\n",
    "    schedule : CheckpointSchedule\n",
    "        The schedule created by `checkpoint_schedules` package.\n",
    "    equation : object\n",
    "        An equation object used to solve the forward and adjoint solvers.\n",
    "    \n",
    "    Notes\n",
    "    -----\n",
    "    The `equation` object contains methods to execute the forward and adjoint. In \n",
    "    addition, it contains methods to copy data from one storage to another, and\n",
    "    to set the initial condition for the adjoint.\n",
    "    \"\"\"\n",
    "    def __init__(self, schedule, equation):\n",
    "        self.max_n = sys.maxsize\n",
    "        self.equation = equation\n",
    "        self.reverse_step = 0\n",
    "        self._schedule = schedule\n",
    "        \n",
    "    def execute(self):\n",
    "        \"\"\"Execute forward and adjoint using checkpointing.\n",
    "        \"\"\"\n",
    "        @functools.singledispatch\n",
    "        def action(cp_action):\n",
    "            raise TypeError(\"Unexpected action\")\n",
    "\n",
    "        @action.register(Forward)\n",
    "        def action_forward(cp_action):\n",
    "            n1 = cp_action.n1\n",
    "            if (\n",
    "                isinstance(self._schedule, SingleMemoryStorageSchedule) \n",
    "                or isinstance(self._schedule, SingleDiskStorageSchedule)\n",
    "            ): \n",
    "                self.equation.forward(cp_action.n0, n1, storage=cp_action.storage,\n",
    "                                      single_storage=True, write_adj_deps=cp_action.write_adj_deps)\n",
    "            else:    \n",
    "                self.equation.forward(cp_action.n0, n1, storage=cp_action.storage,\n",
    "                                      write_adj_deps=cp_action.write_adj_deps, write_ics=cp_action.write_ics)\n",
    "            if n1 > self.equation.model[\"max_n\"]:\n",
    "                n1 = min(n1, self.equation.model[\"max_n\"])\n",
    "                self._schedule.finalize(n1)\n",
    "            \n",
    "\n",
    "        @action.register(Reverse)\n",
    "        def action_reverse(cp_action):\n",
    "            if self.reverse_step == 0:\n",
    "                self.equation.adjoint_initial_condition()\n",
    "            self.equation.adjoint(cp_action.n0, cp_action.n1, cp_action.clear_adj_deps)\n",
    "            self.reverse_step += cp_action.n1 - cp_action.n0\n",
    "            \n",
    "        @action.register(Copy)\n",
    "        def action_copy(cp_action):\n",
    "            self.equation.copy_data(cp_action.n, cp_action.from_storage, cp_action.to_storage)\n",
    "\n",
    "        @action.register(Move)\n",
    "        def action_move(cp_action):\n",
    "            self.equation.copy_data(cp_action.n, cp_action.from_storage, cp_action.to_storage, move=True)\n",
    "            \n",
    "        @action.register(EndForward)\n",
    "        def action_end_forward(cp_action):\n",
    "            if self._schedule.max_n is None:\n",
    "                self._schedule._max_n = self.max_n\n",
    "            assert self.reverse_step == 0\n",
    "            \n",
    "        @action.register(EndReverse)\n",
    "        def action_end_reverse(cp_action):\n",
    "            if self._schedule.max_n != self.reverse_step:\n",
    "                raise ValueError(\"The number of steps in the reverse phase\"\n",
    "                                 \"is different from the number of steps in the\"\n",
    "                                 \"forward phase.\")\n",
    "            \n",
    "        self.reverse_step = 0\n",
    "        for _, cp_action in enumerate(self._schedule):\n",
    "            action(cp_action)\n",
    "            if isinstance(cp_action, EndReverse):\n",
    "                break\n"
   ]
  },
  {
   "cell_type": "markdown",
   "metadata": {},
   "source": [
    "## Burger's equation implementation\n",
    "\n",
    "The sensitivity computation is performed by solving the forward and adjoint equations. The forward equation is 1D viscous Burgers equation (2). For this current sensitivity problem, the adjoint equation is given by (4). \n",
    "\n",
    "To solve forward and adjoint solvers, we implement `BurgersEquation` class that execute the forward and adjoint solvers. In addition, the `BurgersEquation` has the `copy_data` that copies the data from one storage type to another, and `adjoint_initial_condition` that sets the adjoint initial condition.\n",
    "\n",
    "Both the forward and adjoint systems are discretised using the Finite Element Method (FEM). We use the first-order Lagrange basis functions to discretise the spatial domain. The backward finite difference method is employed to discretise the equations in time."
   ]
  },
  {
   "cell_type": "code",
   "execution_count": 32,
   "metadata": {},
   "outputs": [],
   "source": [
    "import numpy as np\n",
    "from enum import Enum\n",
    "import os\n",
    "from scipy.sparse.linalg import spsolve\n",
    "from scipy.sparse import lil_matrix\n",
    "from scipy.optimize import newton\n",
    "\n",
    "\n",
    "class BurgersEquation:\n",
    "    \"\"\"This class is capable to solve the time-dependent forward \n",
    "    and adjoint burger's equation.\n",
    "\n",
    "    Attributes\n",
    "    ----------\n",
    "    model : dict\n",
    "        The model parameters containing the essential information to solve\n",
    "        the burger's equation.\n",
    "    init_condition : array\n",
    "        The initial condition used to solve the forward burger's equation.\n",
    "    mesh : array\n",
    "        The spatial mesh.\n",
    "    \"\"\"\n",
    "    def __init__(self, model, forward_initial_condition, mesh):\n",
    "        self.model = model\n",
    "        self.mesh = mesh\n",
    "        self.snapshots = {StorageType.RAM: {}, StorageType.DISK: {}}\n",
    "        self.forward_work_memory = {StorageType.WORK: {}}\n",
    "        self.forward_initial_condition = forward_initial_condition\n",
    "        self.forward_final_solution = None\n",
    "        self.forward_work_memory[StorageType.WORK][0] = forward_initial_condition\n",
    "        self.adjoint_work_memory = {StorageType.WORK: {}}\n",
    "\n",
    "    def _mass_matrix(self):\n",
    "        \"\"\"This function assembles the mass matrix.\n",
    "\n",
    "        Returns\n",
    "        -------\n",
    "        M : scipy.sparse.lil_matrix\n",
    "            The mass matrix.\n",
    "        \n",
    "        Notes\n",
    "        -----\n",
    "        The mass matrix is assembled a linear spatial basis functions.\n",
    "        \"\"\"\n",
    "        num_nodes = self.model[\"nx\"]\n",
    "        local_matrix = (1 / 6) * np.array([[2, 1], [1, 2]])\n",
    "        M = lil_matrix((num_nodes, num_nodes))\n",
    "        for i in range(num_nodes - 1):\n",
    "            M[i:i + 2, i:i + 2] += local_matrix\n",
    "        return M\n",
    "    \n",
    "    def _stiffness_matrix(self):\n",
    "        \"\"\"This function assembles the stiffness matrix.\n",
    "\n",
    "        Returns\n",
    "        -------\n",
    "        K : scipy.sparse.lil_matrix\n",
    "            The stiffness matrix.\n",
    "        \"\"\"\n",
    "        num_nodes = self.model[\"nx\"]\n",
    "        h = self.model[\"lx\"] / self.model[\"nx\"] \n",
    "        # 1D mesh is uniform. Thus, the mesh spacing is constant.\n",
    "        b = self.model[\"nu\"] / (h ** 2)\n",
    "        local_stiffness = np.array([[-1, 1], [1, -1]])\n",
    "        K = lil_matrix((num_nodes, num_nodes))\n",
    "        for i in range(num_nodes - 1):\n",
    "            K[i:i + 2, i:i + 2] += b * local_stiffness\n",
    "        return K\n",
    "    \n",
    "    def _convection_matrix(self, u, adjoint=False):\n",
    "        \"\"\"This function assembles the convection matrix.\n",
    "\n",
    "        Parameters\n",
    "        ----------\n",
    "        u : array\n",
    "            State vector.\n",
    "\n",
    "        Returns\n",
    "        -------\n",
    "        C : scipy.sparse.lil_matrix\n",
    "            The convection matrix.\n",
    "        \"\"\"\n",
    "        num_nodes = self.model[\"nx\"]\n",
    "        # 1D mesh is uniform. Thus, the mesh spacing is constant.\n",
    "        h = self.model[\"lx\"] / self.model[\"nx\"] \n",
    "        C = lil_matrix((num_nodes, num_nodes))\n",
    "        C[0, 0] = - 1 / 2 * u[0] / h\n",
    "        C[num_nodes - 1, num_nodes - 1] = 1 / 2 * u[num_nodes - 1] / h\n",
    "        C[0, 1] = 1/2 * u[0] / h\n",
    "        C[num_nodes - 1, num_nodes - 2] = - 1 / 2 * u[num_nodes - 2] / h\n",
    "        for i in range(1, num_nodes - 1):\n",
    "            # Convection term uses the approach described in [1] and [2], \n",
    "            # which assumes `u` constant over an element.\n",
    "            # [1] Kutluay SE, Esen AL, Dag I. Numerical solutions of the Burgers’ equation\n",
    "            # by the least-squares quadratic B-spline finite element method. Journal of\n",
    "            # computational and Applied Mathematics. 2004 May 1;167(1):21-33.\n",
    "            # [2] Dogan A. A Galerkin finite element approach to Burgers' equation.\n",
    "            # Applied mathematics and computation. 2004 Oct 5;157(2):331-46.\n",
    "            C[i, i - 1] = - 1 / 2 * u[i - 1] / h\n",
    "            C[i, i] = 1 / 2 * (u[i - 1] - u[i]) / h\n",
    "            C[i, i + 1] = 1 / 2 * u[i] / h\n",
    "        if adjoint:\n",
    "            c_local = np.array([[1/3, 1/6], [1/3, 1/6]])\n",
    "            for i in range(num_nodes - 1):\n",
    "                C[i:i + 2, i:i + 2] -= c_local * (u[i + 1] - u[i]) / h\n",
    "\n",
    "        return C\n",
    "    \n",
    "    def forward(\n",
    "            self, n0, n1, storage=None, write_adj_deps=False,\n",
    "            write_ics=False, single_storage=False\n",
    "    ):\n",
    "        \"\"\"Solve the non-linear forward burger's equation in time.\n",
    "\n",
    "        Parameters\n",
    "        ----------\n",
    "        n0 : int\n",
    "            Initial time step.\n",
    "        n1 : int\n",
    "            Final time step.\n",
    "        storage : StorageType, optional\n",
    "            The storage type, which can be StorageType.RAM, StorageType.DISK,\n",
    "            StorageType.WORK, or StorageType.NONE.\n",
    "        write_adj_deps : bool, optional\n",
    "            Whether the adjoint dependency data will be stored.\n",
    "        write_ics : bool, optional\n",
    "            Whether the forward restart data will be stored.\n",
    "        single_storage : bool, optional\n",
    "            This parameter is used to indicated whether a checkpointing schedule\n",
    "            is single storage or not. Single storage means that no checkpointing\n",
    "            algorithm (eg, `Revolve`, `HRevole`) is employed. \n",
    "        \"\"\"\n",
    "        M = self._mass_matrix()\n",
    "        K = self._stiffness_matrix()\n",
    "        def non_linear(u_new, u):\n",
    "            \"\"\"Define the non-linear system.\n",
    "\n",
    "            Parameters\n",
    "            ----------\n",
    "            u_new : array\n",
    "                Forward solution at the `n + 1` time step.\n",
    "            u : array\n",
    "                Forward solution at the `n` time step.\n",
    "            \"\"\"\n",
    "            C = self._convection_matrix(u_new)\n",
    "            # Set the boundary conditions.\n",
    "            u[0] = u[self.model[\"nx\"] - 1] = 0\n",
    "            F = M * u_new - M * u + self.model[\"dt\"] * (- K * u_new + C * u_new)\n",
    "            return F\n",
    "\n",
    "        # Get the initial condition\n",
    "        u = self.forward_work_memory[StorageType.WORK][n0]\n",
    "        if not single_storage:\n",
    "            del self.forward_work_memory[StorageType.WORK][n0]\n",
    "        u_new = u.copy()\n",
    "        n1 = min(n1, self.model[\"max_n\"])\n",
    "        step = n0\n",
    "        while step < n1:\n",
    "            if ((write_ics and step == n0)\n",
    "                or (write_adj_deps and storage != StorageType.WORK)):\n",
    "                self._store_data(u, step, storage,\n",
    "                                write_adj_deps=write_adj_deps,\n",
    "                                write_ics=write_ics)\n",
    "            u_new = newton(lambda u_new: non_linear(u_new, u), u)\n",
    "            u = u_new.copy()\n",
    "            if single_storage and storage == StorageType.WORK:\n",
    "                self.forward_work_memory[StorageType.WORK][step] = u_new\n",
    "            step += 1\n",
    "        self.forward_work_memory[StorageType.WORK][step] = u_new\n",
    "        if n1 == self.model[\"max_n\"]:\n",
    "            self.forward_final_solution = u_new.copy()\n",
    "\n",
    "    def adjoint(self, n0, n1, clear_adj_deps):\n",
    "        \"\"\"Execute the adjoint equation in time.\n",
    "\n",
    "        Parameters\n",
    "        ---------\n",
    "        n0 : int\n",
    "            Initial time step.\n",
    "        n1 : int\n",
    "            Final time step.\n",
    "        clear_adj_deps : bool\n",
    "            If `True`, the adjoint dependency data will be cleared.\n",
    "        \"\"\"\n",
    "        u = self.adjoint_work_memory[StorageType.WORK][n1]\n",
    "        del self.adjoint_work_memory[StorageType.WORK][n1]\n",
    "        u_new = np.zeros(self.model[\"nx\"])\n",
    "        steps = n1 - n0\n",
    "        t = n1\n",
    "        M = self._mass_matrix()\n",
    "        K = self._stiffness_matrix()\n",
    "        for _ in range(steps):\n",
    "            u[0] = u[self.model[\"nx\"] - 1] = 0\n",
    "            C = self._convection_matrix(self.forward_work_memory[StorageType.WORK][t],\n",
    "                                        adjoint=True)\n",
    "            A = M + self.model[\"dt\"] * (K + C)\n",
    "            d = M * u\n",
    "            u_new = spsolve(M, d)\n",
    "            u = u_new.copy()\n",
    "            if clear_adj_deps:\n",
    "                del self.forward_work_memory[StorageType.WORK][t]\n",
    "            t -= 1\n",
    "        self.adjoint_work_memory[StorageType.WORK][n0] = u_new\n",
    "    \n",
    "    def _store_on_disk(self, data, step, adj_deps=False):\n",
    "        \"\"\"Store the forward data on disk.\n",
    "\n",
    "        Parameters\n",
    "        ----------\n",
    "        data : array\n",
    "            The forward data.\n",
    "        step : int\n",
    "            The time step.\n",
    "        adj_deps : bool, optional\n",
    "            If True, the data is stored in the adjoint dependencies folder.\n",
    "        \"\"\"\n",
    "        if adj_deps:\n",
    "            file_name = \"adj_deps/fwd_\"+ str(step) +\".npy\"\n",
    "            with open(file_name, \"wb\") as f:\n",
    "                np.save(f, data)\n",
    "        else:\n",
    "            file_name = \"fwd_data/fwd_\"+ str(step) +\".npy\"\n",
    "            with open(file_name, \"wb\") as f:\n",
    "                np.save(f, data)\n",
    "        self.snapshots[StorageType.DISK][step] = file_name\n",
    "\n",
    "    def copy_data(self, step, from_storage, to_storage, move=False):\n",
    "        \"\"\"Load the forward data from disk.\n",
    "\n",
    "        Parameters\n",
    "        ----------\n",
    "        file_name : str\n",
    "            The file name.\n",
    "        step : int\n",
    "            The time step.\n",
    "\n",
    "        Returns\n",
    "        -------\n",
    "        data : array\n",
    "            The loaded data.\n",
    "        \"\"\"\n",
    "        if from_storage == StorageType.DISK:\n",
    "            file_name = self.snapshots[StorageType.DISK][step]\n",
    "            with open(file_name, \"rb\") as f:\n",
    "                if to_storage == StorageType.RAM:\n",
    "                    self.snapshots[StorageType.RAM][step] = np.load(f)\n",
    "                elif to_storage == StorageType.WORK:\n",
    "                    self.forward_work_memory[StorageType.WORK][step] = np.load(f)\n",
    "                if move:\n",
    "                    os.remove(file_name)\n",
    "        elif from_storage == StorageType.RAM:\n",
    "            self.forward_work_memory[StorageType.WORK][step] = self.snapshots[StorageType.RAM][step]\n",
    "            if move:\n",
    "                del self.snapshots[StorageType.RAM][step]\n",
    "\n",
    "    def _store_data(self, data, t, storage, write_adj_deps=False, write_ics=False):\n",
    "        \"\"\"Store the forward data.\n",
    "\n",
    "        Parameters\n",
    "        ----------\n",
    "        data : array\n",
    "            The forward data.\n",
    "        t : int\n",
    "            The time step.\n",
    "        storage : StorageType\n",
    "            The storage type.\n",
    "        write_adj_deps : bool, optional\n",
    "            If `True`, the adjoint dependency data will be stored.\n",
    "        write_ics : bool, optional\n",
    "            If `True`, the forward restart data will be stored.\n",
    "        \"\"\"\n",
    "        if storage == StorageType.DISK:\n",
    "            if write_adj_deps:\n",
    "                self._store_on_disk(data, t, adj_deps=write_adj_deps)\n",
    "            if write_ics:\n",
    "                self._store_on_disk(data, t)\n",
    "        elif storage == StorageType.RAM:\n",
    "            self.snapshots[storage][t] = data\n",
    "\n",
    "\n",
    "    def adjoint_initial_condition(self):\n",
    "        \"\"\"Set the adjoint initial condition.\n",
    "        \"\"\"\n",
    "        u = self.forward_final_solution\n",
    "        self.adjoint_work_memory[StorageType.WORK][self.model[\"max_n\"]] = u"
   ]
  },
  {
   "cell_type": "markdown",
   "metadata": {},
   "source": [
    "## Adjoint-based sensitivity computations\n",
    "\n",
    "The purpose of this adjoint-based sensitivity computation is to use every checkpointing approach available in the\n",
    "`checkpoint_schedules` package and verify if the quantitative results provided by the solver remain consistent. \n",
    "\n",
    "Below, we define the `model` dictionary containing the parameters required for the forward and adjoint solvers. The `model` dictionary is then passed to the `BurgersEquation` class. Additionally, we set up the 1D mesh and the initial condition for the forward Burgers' solver."
   ]
  },
  {
   "cell_type": "code",
   "execution_count": 33,
   "metadata": {},
   "outputs": [],
   "source": [
    "model = {\"lx\": 1,   # lenght domain\n",
    "         \"nx\": 80, # number of nodes\n",
    "         \"dt\": 0.001, # time step\n",
    "         \"T\": 2, # final time\n",
    "         \"nu\": 0.01, # viscosity\n",
    "         \"max_n\": 100, # total steps\n",
    "         \"chk_ram\": 10, # number of checkpoints in RAM\n",
    "         \"chk_disk\": 10, # number of checkpoints on disk\n",
    "        }\n",
    "\n",
    "mesh = np.linspace(0, model[\"lx\"], model[\"nx\"]) # create the spatial grid\n",
    "u0 = np.sin(np.pi*mesh) # initial condition"
   ]
  },
  {
   "cell_type": "markdown",
   "metadata": {},
   "source": [
    "### Taylor remainder convergence test\n",
    "\n",
    "We employ a fundamental tool used in verification of gradients, which is the\n",
    "*second order Taylor remainder convergence test*. Thus, let us consider the functional $I(u)$  and $\\nabla_{u_0}$ be its gradient with respect to the control parameter $u_0$. Let $u$ be the solution of the forward problem, and let $\\delta u$ be a perturbation to $u$. Therefore, the *Taylor remainder convergence test* is given by the expression: \n",
    "$$ \\left|I(u + \\delta u) - I(u) - \\nabla_{u_0} I \\cdot \\delta u\\right| \\rightarrow 0 \\quad \\mathrm{at} \\ O(\\delta u^2).$$"
   ]
  },
  {
   "cell_type": "code",
   "execution_count": 42,
   "metadata": {},
   "outputs": [
    {
     "name": "stdout",
     "output_type": "stream",
     "text": [
      "epsilons =  [0.01, 0.005, 0.0025, 0.00125] 4\n",
      "E =  [0.0010848601921096945, 0.0015041636272236816, 0.0009926205030892409, 0.0005565519855204118]\n"
     ]
    }
   ],
   "source": [
    "# Second-order Taylor remainder test\n",
    "def taylor_test(I, I_p, grad_I, h):\n",
    "    \"\"\"This function computes the Taylor remainder.\n",
    "\n",
    "    Parameters\n",
    "    ----------\n",
    "    I : float\n",
    "        The functional value.\n",
    "    I_p : float\n",
    "        The functional value at the perturbed state.\n",
    "    grad_I : array\n",
    "        The gradient of the functional.\n",
    "    delta_u : array\n",
    "        The perturbation.\n",
    "    \"\"\"\n",
    "    return abs(I_p - I - h*grad_I)\n",
    "\n",
    "def compute_error(h, I, grad, delta_u):\n",
    "    \n",
    "    u_0_p = u0 + delta_u\n",
    "\n",
    "    burger_p_0 = BurgersEquation(model, u_0_p, mesh)\n",
    "    burger_p_0.forward(0, model[\"max_n\"])\n",
    "    u_p = burger_p_0.forward_final_solution  # Get the final solution at the perturbed state.\n",
    "    e_p = 0.5 * u_p**2  # Energy at the perturbed state.\n",
    "    I_p = np.trapz(e_p, mesh) # Functional value at the perturbed state.\n",
    "    \n",
    "    return taylor_test(I, I_p, grad, h)\n",
    "\n",
    "\n",
    "schedule = SingleMemoryStorageSchedule()  # create the checkpointing schedule\n",
    "burger = BurgersEquation(model, u0, mesh) # create the burger's equation object\n",
    "manager = CheckpointingManager(schedule, burger)  # create the checkpointing manager\n",
    "manager.execute()  # execute the forward and adjoint solvers using checkpointing\n",
    "epsilons = [0.01 / 2 ** i for i in range(4)]\n",
    "\n",
    "print(\"epsilons = \", epsilons, len(epsilons))\n",
    "delta_u = [eps * np.sin(np.pi * mesh) for eps in epsilons]\n",
    "grad = burger.adjoint_work_memory[StorageType.WORK][0]\n",
    "grad_delta_u = [grad.dot(eps) for eps in delta_u]\n",
    "u = burger.forward_final_solution  # Get the final solution.\n",
    "e = 0.5 * u**2  # Energy\n",
    "I = np.trapz(e, mesh) # Functional value\n",
    "\n",
    "E = [compute_error(epsilons[i], I, grad_delta_u[i], delta_u[i]) for i in range(len(epsilons))]\n",
    "print(\"E = \", E)\n",
    "def convergence_rates(E_values, eps_values, show=True):\n",
    "    from numpy import log\n",
    "    r = []\n",
    "    for i in range(1, len(eps_values)):\n",
    "        r.append(log(E_values[i] / E_values[i - 1])\n",
    "                 / log(eps_values[i] / eps_values[i - 1]))\n",
    "    if show:\n",
    "        print(\"Computed convergence rates: {}\".format(r))\n",
    "    return r\n",
    "convergence_rates(E, epsilons)\n"
   ]
  },
  {
   "cell_type": "markdown",
   "metadata": {},
   "source": [
    "Above, we computed the sensitivity of the objective functional $I(u(x, \\tau))$ with respect to the initial condition $u_0$ using the central finite difference method. The perturbation $\\epsilon$ is set to $10^{-2} \\cdot u_0$, and the sensitivity is calculated at the final time $\\tau = 0.5$.\n",
    "\n",
    "The adjoint-based sensitivity is initially computed using the `SingleMemoryStorageSchedule` checkpointing approach. The `SingleMemoryStorageSchedule` stores the forward data of each time-step in working memory. As explained in the [notebook with illustrative example](https://nbviewer.org/github/firedrakeproject/checkpoint_schedules/blob/main/docs/notebooks/tutorial.ipynb), this schedule does not require the maximal step (`model[\"max_n\"]`).\n"
   ]
  },
  {
   "cell_type": "code",
   "execution_count": 35,
   "metadata": {},
   "outputs": [],
   "source": [
    "schedule = SingleMemoryStorageSchedule()  # create the checkpointing schedule\n",
    "burger = BurgersEquation(model, u0, mesh) # create the burger's equation object\n",
    "manager = CheckpointingManager(schedule, burger)  # create the checkpointing manager\n",
    "manager.execute()  # execute the forward and adjoint solvers using checkpointing"
   ]
  },
  {
   "cell_type": "markdown",
   "metadata": {},
   "source": [
    "Next, we compute the adjoint-based sensitivity and compare it with the sensitivity obtained using the central finite difference method without any checkpointing approach."
   ]
  },
  {
   "cell_type": "code",
   "execution_count": 36,
   "metadata": {},
   "outputs": [
    {
     "ename": "AttributeError",
     "evalue": "'BurgersEquation' object has no attribute 'compute_gradient'",
     "output_type": "error",
     "traceback": [
      "\u001b[0;31m---------------------------------------------------------------------------\u001b[0m",
      "\u001b[0;31mAttributeError\u001b[0m                            Traceback (most recent call last)",
      "Cell \u001b[0;32mIn[36], line 1\u001b[0m\n\u001b[0;32m----> 1\u001b[0m adj_sensitivity \u001b[38;5;241m=\u001b[39m \u001b[43mburger\u001b[49m\u001b[38;5;241;43m.\u001b[39;49m\u001b[43mcompute_gradient\u001b[49m()  \u001b[38;5;66;03m# compute the adjoint-based sensitivity\u001b[39;00m\n\u001b[1;32m      2\u001b[0m adj \u001b[38;5;241m=\u001b[39m burger\u001b[38;5;241m.\u001b[39madjoint_work_memory[StorageType\u001b[38;5;241m.\u001b[39mWORK][\u001b[38;5;241m0\u001b[39m]  \u001b[38;5;66;03m# get the adjoint solution\u001b[39;00m\n\u001b[1;32m      3\u001b[0m \u001b[38;5;28mprint\u001b[39m(\u001b[38;5;124m\"\u001b[39m\u001b[38;5;124mSensitivity using adjoint method: \u001b[39m\u001b[38;5;124m\"\u001b[39m, adj_sensitivity)\n",
      "\u001b[0;31mAttributeError\u001b[0m: 'BurgersEquation' object has no attribute 'compute_gradient'"
     ]
    }
   ],
   "source": [
    "adj_sensitivity = burger.compute_gradient()  # compute the adjoint-based sensitivity\n",
    "adj = burger.adjoint_work_memory[StorageType.WORK][0]  # get the adjoint solution\n",
    "print(\"Sensitivity using adjoint method: \", adj_sensitivity)\n",
    "print(\"sensitivity using central finite differences method: \", fd_sensitivity)\n",
    "error = np.abs(adj_sensitivity - fd_sensitivity)/np.abs(fd_sensitivity)\n",
    "print(\"Relative difference in percentage: \", error*100)"
   ]
  },
  {
   "cell_type": "markdown",
   "metadata": {},
   "source": [
    "The following example shows the usage of the `SingleDiskStorageSchedule` schedule. In this case, the forward data used in the adjoint computations is only stored on disk. The `SingleDiskStorageSchedule` schedule does not require the definition of the maximal step `model[\"max_n\"]` before the execution of the forward solver. "
   ]
  },
  {
   "cell_type": "code",
   "execution_count": null,
   "metadata": {},
   "outputs": [
    {
     "name": "stdout",
     "output_type": "stream",
     "text": [
      "Sensitivity using adjoint method:  0.46869451545299506\n",
      "sensitivity using central finite differences method:  0.48237201380563477\n",
      "Relative difference in percentage:  2.8354668100937683\n"
     ]
    }
   ],
   "source": [
    "schedule = SingleDiskStorageSchedule()  # create the checkpointing schedule\n",
    "burger = BurgersEquation(model, u0, mesh) # create the burger's equation object\n",
    "manager = CheckpointingManager(schedule, burger)  # create the checkpointing manager\n",
    "manager.execute()  # execute the forward and adjoint solvers using checkpointing\n",
    "adj_sensitivity = burger.compute_gradient()  # compute the adjoint-based sensitivity\n",
    "print(\"Sensitivity using adjoint method: \", adj_sensitivity)\n",
    "print(\"sensitivity using central finite differences method: \", fd_sensitivity)\n",
    "error = np.abs(adj_sensitivity - fd_sensitivity)/np.abs(fd_sensitivity)\n",
    "print(\"Relative difference in percentage: \", error*100)"
   ]
  },
  {
   "cell_type": "markdown",
   "metadata": {},
   "source": [
    "With the example above, we do not move any data from the disk to the work in memory, i.e., we copy the data from the disk and keep this data on disk. The next example shows the usage of the `SingleDiskStorageSchedule` schedule with the `mode_data=True` argument. In this case, the forward data used in the adjoint compuations stored on disk is moved to the work in memory, i.e., we copy the data from the disk and remove this data from the disk. "
   ]
  },
  {
   "cell_type": "code",
   "execution_count": null,
   "metadata": {},
   "outputs": [
    {
     "ename": "KeyboardInterrupt",
     "evalue": "",
     "output_type": "error",
     "traceback": [
      "\u001b[0;31m---------------------------------------------------------------------------\u001b[0m",
      "\u001b[0;31mKeyboardInterrupt\u001b[0m                         Traceback (most recent call last)",
      "Cell \u001b[0;32mIn[15], line 4\u001b[0m\n\u001b[1;32m      2\u001b[0m burger \u001b[38;5;241m=\u001b[39m BurgersEquation(model, u0, mesh) \u001b[38;5;66;03m# create the burger's equation object\u001b[39;00m\n\u001b[1;32m      3\u001b[0m manager \u001b[38;5;241m=\u001b[39m CheckpointingManager(schedule, burger)  \u001b[38;5;66;03m# create the checkpointing manager\u001b[39;00m\n\u001b[0;32m----> 4\u001b[0m \u001b[43mmanager\u001b[49m\u001b[38;5;241;43m.\u001b[39;49m\u001b[43mexecute\u001b[49m\u001b[43m(\u001b[49m\u001b[43m)\u001b[49m  \u001b[38;5;66;03m# execute the forward and adjoint solvers using checkpointing\u001b[39;00m\n\u001b[1;32m      5\u001b[0m adj_sensitivity \u001b[38;5;241m=\u001b[39m burger\u001b[38;5;241m.\u001b[39mcompute_gradient()  \u001b[38;5;66;03m# compute the adjoint-based sensitivity\u001b[39;00m\n\u001b[1;32m      6\u001b[0m \u001b[38;5;28mprint\u001b[39m(\u001b[38;5;124m\"\u001b[39m\u001b[38;5;124mSensitivity using adjoint method: \u001b[39m\u001b[38;5;124m\"\u001b[39m, adj_sensitivity)\n",
      "Cell \u001b[0;32mIn[8], line 80\u001b[0m, in \u001b[0;36mCheckpointingManager.execute\u001b[0;34m(self)\u001b[0m\n\u001b[1;32m     78\u001b[0m \u001b[38;5;28mself\u001b[39m\u001b[38;5;241m.\u001b[39mreverse_step \u001b[38;5;241m=\u001b[39m \u001b[38;5;241m0\u001b[39m\n\u001b[1;32m     79\u001b[0m \u001b[38;5;28;01mfor\u001b[39;00m _, cp_action \u001b[38;5;129;01min\u001b[39;00m \u001b[38;5;28menumerate\u001b[39m(\u001b[38;5;28mself\u001b[39m\u001b[38;5;241m.\u001b[39m_schedule):\n\u001b[0;32m---> 80\u001b[0m     \u001b[43maction\u001b[49m\u001b[43m(\u001b[49m\u001b[43mcp_action\u001b[49m\u001b[43m)\u001b[49m\n\u001b[1;32m     81\u001b[0m     \u001b[38;5;28;01mif\u001b[39;00m \u001b[38;5;28misinstance\u001b[39m(cp_action, EndReverse):\n\u001b[1;32m     82\u001b[0m         \u001b[38;5;28;01mbreak\u001b[39;00m\n",
      "File \u001b[0;32m/usr/lib/python3.11/functools.py:909\u001b[0m, in \u001b[0;36msingledispatch.<locals>.wrapper\u001b[0;34m(*args, **kw)\u001b[0m\n\u001b[1;32m    905\u001b[0m \u001b[38;5;28;01mif\u001b[39;00m \u001b[38;5;129;01mnot\u001b[39;00m args:\n\u001b[1;32m    906\u001b[0m     \u001b[38;5;28;01mraise\u001b[39;00m \u001b[38;5;167;01mTypeError\u001b[39;00m(\u001b[38;5;124mf\u001b[39m\u001b[38;5;124m'\u001b[39m\u001b[38;5;132;01m{\u001b[39;00mfuncname\u001b[38;5;132;01m}\u001b[39;00m\u001b[38;5;124m requires at least \u001b[39m\u001b[38;5;124m'\u001b[39m\n\u001b[1;32m    907\u001b[0m                     \u001b[38;5;124m'\u001b[39m\u001b[38;5;124m1 positional argument\u001b[39m\u001b[38;5;124m'\u001b[39m)\n\u001b[0;32m--> 909\u001b[0m \u001b[38;5;28;01mreturn\u001b[39;00m \u001b[43mdispatch\u001b[49m\u001b[43m(\u001b[49m\u001b[43margs\u001b[49m\u001b[43m[\u001b[49m\u001b[38;5;241;43m0\u001b[39;49m\u001b[43m]\u001b[49m\u001b[38;5;241;43m.\u001b[39;49m\u001b[38;5;18;43m__class__\u001b[39;49m\u001b[43m)\u001b[49m\u001b[43m(\u001b[49m\u001b[38;5;241;43m*\u001b[39;49m\u001b[43margs\u001b[49m\u001b[43m,\u001b[49m\u001b[43m \u001b[49m\u001b[38;5;241;43m*\u001b[39;49m\u001b[38;5;241;43m*\u001b[39;49m\u001b[43mkw\u001b[49m\u001b[43m)\u001b[49m\n",
      "Cell \u001b[0;32mIn[8], line 54\u001b[0m, in \u001b[0;36mCheckpointingManager.execute.<locals>.action_reverse\u001b[0;34m(cp_action)\u001b[0m\n\u001b[1;32m     52\u001b[0m \u001b[38;5;28;01mif\u001b[39;00m \u001b[38;5;28mself\u001b[39m\u001b[38;5;241m.\u001b[39mreverse_step \u001b[38;5;241m==\u001b[39m \u001b[38;5;241m0\u001b[39m:\n\u001b[1;32m     53\u001b[0m     \u001b[38;5;28mself\u001b[39m\u001b[38;5;241m.\u001b[39mequation\u001b[38;5;241m.\u001b[39madjoint_initial_condition()\n\u001b[0;32m---> 54\u001b[0m \u001b[38;5;28;43mself\u001b[39;49m\u001b[38;5;241;43m.\u001b[39;49m\u001b[43mequation\u001b[49m\u001b[38;5;241;43m.\u001b[39;49m\u001b[43madjoint\u001b[49m\u001b[43m(\u001b[49m\u001b[43mcp_action\u001b[49m\u001b[38;5;241;43m.\u001b[39;49m\u001b[43mn0\u001b[49m\u001b[43m,\u001b[49m\u001b[43m \u001b[49m\u001b[43mcp_action\u001b[49m\u001b[38;5;241;43m.\u001b[39;49m\u001b[43mn1\u001b[49m\u001b[43m,\u001b[49m\u001b[43m \u001b[49m\u001b[43mcp_action\u001b[49m\u001b[38;5;241;43m.\u001b[39;49m\u001b[43mclear_adj_deps\u001b[49m\u001b[43m)\u001b[49m\n\u001b[1;32m     55\u001b[0m \u001b[38;5;28mself\u001b[39m\u001b[38;5;241m.\u001b[39mreverse_step \u001b[38;5;241m+\u001b[39m\u001b[38;5;241m=\u001b[39m cp_action\u001b[38;5;241m.\u001b[39mn1 \u001b[38;5;241m-\u001b[39m cp_action\u001b[38;5;241m.\u001b[39mn0\n",
      "Cell \u001b[0;32mIn[9], line 191\u001b[0m, in \u001b[0;36mBurgersEquation.adjoint\u001b[0;34m(self, n0, n1, clear_adj_deps)\u001b[0m\n\u001b[1;32m    189\u001b[0m t \u001b[38;5;241m=\u001b[39m n1\n\u001b[1;32m    190\u001b[0m M \u001b[38;5;241m=\u001b[39m \u001b[38;5;28mself\u001b[39m\u001b[38;5;241m.\u001b[39m_mass_matrix()\n\u001b[0;32m--> 191\u001b[0m K \u001b[38;5;241m=\u001b[39m \u001b[38;5;28;43mself\u001b[39;49m\u001b[38;5;241;43m.\u001b[39;49m\u001b[43m_stiffness_matrix\u001b[49m\u001b[43m(\u001b[49m\u001b[43m)\u001b[49m\n\u001b[1;32m    192\u001b[0m \u001b[38;5;28;01mfor\u001b[39;00m _ \u001b[38;5;129;01min\u001b[39;00m \u001b[38;5;28mrange\u001b[39m(steps):\n\u001b[1;32m    193\u001b[0m     u[\u001b[38;5;241m0\u001b[39m] \u001b[38;5;241m=\u001b[39m u[\u001b[38;5;28mself\u001b[39m\u001b[38;5;241m.\u001b[39mmodel[\u001b[38;5;124m\"\u001b[39m\u001b[38;5;124mnx\u001b[39m\u001b[38;5;124m\"\u001b[39m] \u001b[38;5;241m-\u001b[39m \u001b[38;5;241m1\u001b[39m] \u001b[38;5;241m=\u001b[39m \u001b[38;5;241m0\u001b[39m\n",
      "Cell \u001b[0;32mIn[9], line 67\u001b[0m, in \u001b[0;36mBurgersEquation._stiffness_matrix\u001b[0;34m(self)\u001b[0m\n\u001b[1;32m     65\u001b[0m K \u001b[38;5;241m=\u001b[39m lil_matrix((num_nodes, num_nodes))\n\u001b[1;32m     66\u001b[0m \u001b[38;5;28;01mfor\u001b[39;00m i \u001b[38;5;129;01min\u001b[39;00m \u001b[38;5;28mrange\u001b[39m(num_nodes \u001b[38;5;241m-\u001b[39m \u001b[38;5;241m1\u001b[39m):\n\u001b[0;32m---> 67\u001b[0m     \u001b[43mK\u001b[49m\u001b[43m[\u001b[49m\u001b[43mi\u001b[49m\u001b[43m:\u001b[49m\u001b[43mi\u001b[49m\u001b[43m \u001b[49m\u001b[38;5;241;43m+\u001b[39;49m\u001b[43m \u001b[49m\u001b[38;5;241;43m2\u001b[39;49m\u001b[43m,\u001b[49m\u001b[43m \u001b[49m\u001b[43mi\u001b[49m\u001b[43m:\u001b[49m\u001b[43mi\u001b[49m\u001b[43m \u001b[49m\u001b[38;5;241;43m+\u001b[39;49m\u001b[43m \u001b[49m\u001b[38;5;241;43m2\u001b[39;49m\u001b[43m]\u001b[49m \u001b[38;5;241m+\u001b[39m\u001b[38;5;241m=\u001b[39m b \u001b[38;5;241m*\u001b[39m local_stiffness\n\u001b[1;32m     68\u001b[0m \u001b[38;5;28;01mreturn\u001b[39;00m K\n",
      "File \u001b[0;32m~/.local/lib/python3.11/site-packages/scipy/sparse/_lil.py:331\u001b[0m, in \u001b[0;36mlil_matrix.__setitem__\u001b[0;34m(self, key, x)\u001b[0m\n\u001b[1;32m    329\u001b[0m     \u001b[38;5;28;01mreturn\u001b[39;00m \u001b[38;5;28mself\u001b[39m\u001b[38;5;241m.\u001b[39m_set_intXint(key[\u001b[38;5;241m0\u001b[39m], key[\u001b[38;5;241m1\u001b[39m], x)\n\u001b[1;32m    330\u001b[0m \u001b[38;5;66;03m# Everything else takes the normal path.\u001b[39;00m\n\u001b[0;32m--> 331\u001b[0m \u001b[43mIndexMixin\u001b[49m\u001b[38;5;241;43m.\u001b[39;49m\u001b[38;5;21;43m__setitem__\u001b[39;49m\u001b[43m(\u001b[49m\u001b[38;5;28;43mself\u001b[39;49m\u001b[43m,\u001b[49m\u001b[43m \u001b[49m\u001b[43mkey\u001b[49m\u001b[43m,\u001b[49m\u001b[43m \u001b[49m\u001b[43mx\u001b[49m\u001b[43m)\u001b[49m\n",
      "File \u001b[0;32m~/.local/lib/python3.11/site-packages/scipy/sparse/_index.py:135\u001b[0m, in \u001b[0;36mIndexMixin.__setitem__\u001b[0;34m(self, key, x)\u001b[0m\n\u001b[1;32m    133\u001b[0m \u001b[38;5;28;01mif\u001b[39;00m x\u001b[38;5;241m.\u001b[39mshape[\u001b[38;5;241m0\u001b[39m] \u001b[38;5;241m==\u001b[39m \u001b[38;5;241m0\u001b[39m \u001b[38;5;129;01mor\u001b[39;00m x\u001b[38;5;241m.\u001b[39mshape[\u001b[38;5;241m1\u001b[39m] \u001b[38;5;241m==\u001b[39m \u001b[38;5;241m0\u001b[39m:\n\u001b[1;32m    134\u001b[0m     \u001b[38;5;28;01mreturn\u001b[39;00m\n\u001b[0;32m--> 135\u001b[0m x \u001b[38;5;241m=\u001b[39m \u001b[43mx\u001b[49m\u001b[38;5;241;43m.\u001b[39;49m\u001b[43mtocoo\u001b[49m\u001b[43m(\u001b[49m\u001b[43mcopy\u001b[49m\u001b[38;5;241;43m=\u001b[39;49m\u001b[38;5;28;43;01mTrue\u001b[39;49;00m\u001b[43m)\u001b[49m\n\u001b[1;32m    136\u001b[0m x\u001b[38;5;241m.\u001b[39msum_duplicates()\n\u001b[1;32m    137\u001b[0m \u001b[38;5;28mself\u001b[39m\u001b[38;5;241m.\u001b[39m_set_arrayXarray_sparse(i, j, x)\n",
      "File \u001b[0;32m~/.local/lib/python3.11/site-packages/scipy/sparse/_base.py:1005\u001b[0m, in \u001b[0;36mspmatrix.tocoo\u001b[0;34m(self, copy)\u001b[0m\n\u001b[1;32m    999\u001b[0m \u001b[38;5;28;01mdef\u001b[39;00m \u001b[38;5;21mtocoo\u001b[39m(\u001b[38;5;28mself\u001b[39m, copy\u001b[38;5;241m=\u001b[39m\u001b[38;5;28;01mFalse\u001b[39;00m):\n\u001b[1;32m   1000\u001b[0m \u001b[38;5;250m    \u001b[39m\u001b[38;5;124;03m\"\"\"Convert this matrix to COOrdinate format.\u001b[39;00m\n\u001b[1;32m   1001\u001b[0m \n\u001b[1;32m   1002\u001b[0m \u001b[38;5;124;03m    With copy=False, the data/indices may be shared between this matrix and\u001b[39;00m\n\u001b[1;32m   1003\u001b[0m \u001b[38;5;124;03m    the resultant coo_matrix.\u001b[39;00m\n\u001b[1;32m   1004\u001b[0m \u001b[38;5;124;03m    \"\"\"\u001b[39;00m\n\u001b[0;32m-> 1005\u001b[0m     \u001b[38;5;28;01mreturn\u001b[39;00m \u001b[38;5;28;43mself\u001b[39;49m\u001b[38;5;241;43m.\u001b[39;49m\u001b[43mtocsr\u001b[49m\u001b[43m(\u001b[49m\u001b[43mcopy\u001b[49m\u001b[38;5;241;43m=\u001b[39;49m\u001b[38;5;28;43;01mFalse\u001b[39;49;00m\u001b[43m)\u001b[49m\u001b[38;5;241m.\u001b[39mtocoo(copy\u001b[38;5;241m=\u001b[39mcopy)\n",
      "File \u001b[0;32m~/.local/lib/python3.11/site-packages/scipy/sparse/_lil.py:477\u001b[0m, in \u001b[0;36mlil_matrix.tocsr\u001b[0;34m(self, copy)\u001b[0m\n\u001b[1;32m    474\u001b[0m _csparsetools\u001b[38;5;241m.\u001b[39mlil_flatten_to_array(\u001b[38;5;28mself\u001b[39m\u001b[38;5;241m.\u001b[39mdata, data)\n\u001b[1;32m    476\u001b[0m \u001b[38;5;66;03m# init csr matrix\u001b[39;00m\n\u001b[0;32m--> 477\u001b[0m \u001b[38;5;28;01mreturn\u001b[39;00m \u001b[38;5;28;43mself\u001b[39;49m\u001b[38;5;241;43m.\u001b[39;49m\u001b[43m_csr_container\u001b[49m\u001b[43m(\u001b[49m\u001b[43m(\u001b[49m\u001b[43mdata\u001b[49m\u001b[43m,\u001b[49m\u001b[43m \u001b[49m\u001b[43mindices\u001b[49m\u001b[43m,\u001b[49m\u001b[43m \u001b[49m\u001b[43mindptr\u001b[49m\u001b[43m)\u001b[49m\u001b[43m,\u001b[49m\u001b[43m \u001b[49m\u001b[43mshape\u001b[49m\u001b[38;5;241;43m=\u001b[39;49m\u001b[38;5;28;43mself\u001b[39;49m\u001b[38;5;241;43m.\u001b[39;49m\u001b[43mshape\u001b[49m\u001b[43m)\u001b[49m\n",
      "File \u001b[0;32m~/.local/lib/python3.11/site-packages/scipy/sparse/_compressed.py:106\u001b[0m, in \u001b[0;36m_cs_matrix.__init__\u001b[0;34m(self, arg1, shape, dtype, copy)\u001b[0m\n\u001b[1;32m    103\u001b[0m \u001b[38;5;28;01mif\u001b[39;00m dtype \u001b[38;5;129;01mis\u001b[39;00m \u001b[38;5;129;01mnot\u001b[39;00m \u001b[38;5;28;01mNone\u001b[39;00m:\n\u001b[1;32m    104\u001b[0m     \u001b[38;5;28mself\u001b[39m\u001b[38;5;241m.\u001b[39mdata \u001b[38;5;241m=\u001b[39m \u001b[38;5;28mself\u001b[39m\u001b[38;5;241m.\u001b[39mdata\u001b[38;5;241m.\u001b[39mastype(dtype, copy\u001b[38;5;241m=\u001b[39m\u001b[38;5;28;01mFalse\u001b[39;00m)\n\u001b[0;32m--> 106\u001b[0m \u001b[38;5;28;43mself\u001b[39;49m\u001b[38;5;241;43m.\u001b[39;49m\u001b[43mcheck_format\u001b[49m\u001b[43m(\u001b[49m\u001b[43mfull_check\u001b[49m\u001b[38;5;241;43m=\u001b[39;49m\u001b[38;5;28;43;01mFalse\u001b[39;49;00m\u001b[43m)\u001b[49m\n",
      "File \u001b[0;32m~/.local/lib/python3.11/site-packages/scipy/sparse/_compressed.py:157\u001b[0m, in \u001b[0;36m_cs_matrix.check_format\u001b[0;34m(self, full_check)\u001b[0m\n\u001b[1;32m    153\u001b[0m \u001b[38;5;28;01mif\u001b[39;00m \u001b[38;5;28mself\u001b[39m\u001b[38;5;241m.\u001b[39mindices\u001b[38;5;241m.\u001b[39mdtype\u001b[38;5;241m.\u001b[39mkind \u001b[38;5;241m!=\u001b[39m \u001b[38;5;124m'\u001b[39m\u001b[38;5;124mi\u001b[39m\u001b[38;5;124m'\u001b[39m:\n\u001b[1;32m    154\u001b[0m     warn(\u001b[38;5;124m\"\u001b[39m\u001b[38;5;124mindices array has non-integer dtype (\u001b[39m\u001b[38;5;132;01m{}\u001b[39;00m\u001b[38;5;124m)\u001b[39m\u001b[38;5;124m\"\u001b[39m\n\u001b[1;32m    155\u001b[0m          \u001b[38;5;124m\"\u001b[39m\u001b[38;5;124m\"\u001b[39m\u001b[38;5;241m.\u001b[39mformat(\u001b[38;5;28mself\u001b[39m\u001b[38;5;241m.\u001b[39mindices\u001b[38;5;241m.\u001b[39mdtype\u001b[38;5;241m.\u001b[39mname), stacklevel\u001b[38;5;241m=\u001b[39m\u001b[38;5;241m3\u001b[39m)\n\u001b[0;32m--> 157\u001b[0m idx_dtype \u001b[38;5;241m=\u001b[39m \u001b[43mget_index_dtype\u001b[49m\u001b[43m(\u001b[49m\u001b[43m(\u001b[49m\u001b[38;5;28;43mself\u001b[39;49m\u001b[38;5;241;43m.\u001b[39;49m\u001b[43mindptr\u001b[49m\u001b[43m,\u001b[49m\u001b[43m \u001b[49m\u001b[38;5;28;43mself\u001b[39;49m\u001b[38;5;241;43m.\u001b[39;49m\u001b[43mindices\u001b[49m\u001b[43m)\u001b[49m\u001b[43m)\u001b[49m\n\u001b[1;32m    158\u001b[0m \u001b[38;5;28mself\u001b[39m\u001b[38;5;241m.\u001b[39mindptr \u001b[38;5;241m=\u001b[39m np\u001b[38;5;241m.\u001b[39masarray(\u001b[38;5;28mself\u001b[39m\u001b[38;5;241m.\u001b[39mindptr, dtype\u001b[38;5;241m=\u001b[39midx_dtype)\n\u001b[1;32m    159\u001b[0m \u001b[38;5;28mself\u001b[39m\u001b[38;5;241m.\u001b[39mindices \u001b[38;5;241m=\u001b[39m np\u001b[38;5;241m.\u001b[39masarray(\u001b[38;5;28mself\u001b[39m\u001b[38;5;241m.\u001b[39mindices, dtype\u001b[38;5;241m=\u001b[39midx_dtype)\n",
      "File \u001b[0;32m~/.local/lib/python3.11/site-packages/scipy/sparse/_sputils.py:169\u001b[0m, in \u001b[0;36mget_index_dtype\u001b[0;34m(arrays, maxval, check_contents)\u001b[0m\n\u001b[1;32m    147\u001b[0m \u001b[38;5;28;01mdef\u001b[39;00m \u001b[38;5;21mget_index_dtype\u001b[39m(arrays\u001b[38;5;241m=\u001b[39m(), maxval\u001b[38;5;241m=\u001b[39m\u001b[38;5;28;01mNone\u001b[39;00m, check_contents\u001b[38;5;241m=\u001b[39m\u001b[38;5;28;01mFalse\u001b[39;00m):\n\u001b[1;32m    148\u001b[0m \u001b[38;5;250m    \u001b[39m\u001b[38;5;124;03m\"\"\"\u001b[39;00m\n\u001b[1;32m    149\u001b[0m \u001b[38;5;124;03m    Based on input (integer) arrays `a`, determine a suitable index data\u001b[39;00m\n\u001b[1;32m    150\u001b[0m \u001b[38;5;124;03m    type that can hold the data in the arrays.\u001b[39;00m\n\u001b[0;32m   (...)\u001b[0m\n\u001b[1;32m    166\u001b[0m \n\u001b[1;32m    167\u001b[0m \u001b[38;5;124;03m    \"\"\"\u001b[39;00m\n\u001b[0;32m--> 169\u001b[0m     int32min \u001b[38;5;241m=\u001b[39m np\u001b[38;5;241m.\u001b[39mint32(\u001b[43mnp\u001b[49m\u001b[38;5;241;43m.\u001b[39;49m\u001b[43miinfo\u001b[49m\u001b[43m(\u001b[49m\u001b[43mnp\u001b[49m\u001b[38;5;241;43m.\u001b[39;49m\u001b[43mint32\u001b[49m\u001b[43m)\u001b[49m\u001b[38;5;241m.\u001b[39mmin)\n\u001b[1;32m    170\u001b[0m     int32max \u001b[38;5;241m=\u001b[39m np\u001b[38;5;241m.\u001b[39mint32(np\u001b[38;5;241m.\u001b[39miinfo(np\u001b[38;5;241m.\u001b[39mint32)\u001b[38;5;241m.\u001b[39mmax)\n\u001b[1;32m    172\u001b[0m     \u001b[38;5;66;03m# not using intc directly due to misinteractions with pythran\u001b[39;00m\n",
      "\u001b[0;31mKeyboardInterrupt\u001b[0m: "
     ]
    }
   ],
   "source": [
    "schedule = SingleDiskStorageSchedule(move_data=True)  # create the checkpointing schedule\n",
    "burger = BurgersEquation(model, u0, mesh) # create the burger's equation object\n",
    "manager = CheckpointingManager(schedule, burger)  # create the checkpointing manager\n",
    "manager.execute()  # execute the forward and adjoint solvers using checkpointing\n",
    "adj_sensitivity = burger.compute_gradient()  # compute the adjoint-based sensitivity\n",
    "print(\"Sensitivity using adjoint method: \", adj_sensitivity)\n",
    "print(\"sensitivity using central finite differences method: \", fd_sensitivity)\n",
    "error = np.abs(adj_sensitivity - fd_sensitivity)/np.abs(fd_sensitivity)\n",
    "print(\"Relative difference in percentage: \", error*100)"
   ]
  },
  {
   "cell_type": "markdown",
   "metadata": {},
   "source": [
    "The following example uses the `Revolve` schedule [1]. The `Revolve` algorithm requires the definition of the maximal step `model[\"max_n\"]` before the execution of the forward solver, and also the specification of the number of checkpoints to be stored in RAM (Random Access Memory). \n",
    "\n",
    "`model[\"chk_ram\"]` indicates the number of steps for which the forward data is stored in RAM \n"
   ]
  },
  {
   "cell_type": "code",
   "execution_count": null,
   "metadata": {},
   "outputs": [
    {
     "name": "stdout",
     "output_type": "stream",
     "text": [
      "Sensitivity using adjoint method:  0.46869451662679296\n",
      "sensitivity using central finite differences method:  0.48237197121444586\n",
      "Relative difference in percentage:  2.8354579875812025\n"
     ]
    }
   ],
   "source": [
    "burger = BurgersEquation(model, u0, mesh) # create the burger's equation object\n",
    "schedule = Revolve(model[\"max_n\"], model[\"chk_ram\"]) # create the checkpointing schedule\n",
    "manager = CheckpointingManager(schedule, burger)  # create the checkpointing manager\n",
    "manager.execute()  # execute the forward and adjoint solvers using checkpointing\n",
    "adj_sensitivity = burger.compute_gradient()  # compute the adjoint-based sensitivity\n",
    "print(\"Sensitivity using adjoint method: \", adj_sensitivity)\n",
    "print(\"sensitivity using central finite differences method: \", fd_sensitivity)\n",
    "error = np.abs(adj_sensitivity - fd_sensitivity)/np.abs(fd_sensitivity)\n",
    "print(\"Relative difference in percentage: \", error*100)"
   ]
  },
  {
   "cell_type": "markdown",
   "metadata": {},
   "source": [
    "The `DiskRevolve` [3] schedule requires the definition of the maximal step `model[\"max_n\"]` before the execution of the forward solver, and the maximum number of checkpoints to be saved in RAM. This schedule automatically computes the number of checkpoints to store on disk, considering factors such as:\n",
    "- Computational cost to execute the forward solver in one step.\n",
    "- Computational cost to store the forward data on disk."
   ]
  },
  {
   "cell_type": "code",
   "execution_count": null,
   "metadata": {},
   "outputs": [
    {
     "name": "stdout",
     "output_type": "stream",
     "text": [
      "Sensitivity using adjoint method:  0.46869451662679296\n",
      "sensitivity using central finite differences method:  0.48237197121444586\n",
      "Relative difference in percentage:  2.8354579875812025\n"
     ]
    }
   ],
   "source": [
    "burger = BurgersEquation(model, u0, mesh) # create the burger's equation object\n",
    "schedule = DiskRevolve(model[\"max_n\"], model[\"chk_ram\"]) # create the checkpointing schedule\n",
    "manager = CheckpointingManager(schedule, burger)  # create the checkpointing manager\n",
    "manager.execute()  # execute the forward and adjoint solvers using checkpointing\n",
    "adj_sensitivity = burger.compute_gradient()  # compute the adjoint-based sensitivity\n",
    "print(\"Sensitivity using adjoint method: \", adj_sensitivity)\n",
    "print(\"sensitivity using central finite differences method: \", fd_sensitivity)\n",
    "error = np.abs(adj_sensitivity - fd_sensitivity)/np.abs(fd_sensitivity)\n",
    "print(\"Relative difference in percentage: \", error*100)"
   ]
  },
  {
   "cell_type": "markdown",
   "metadata": {},
   "source": [
    "The `PeriodicDiskRevolve` [4] schedule also requires the definition of the maximal step `model[\"max_n\"]` before the execution of the forward solver. Additionally, this schedule requires the specification of the number of checkpoints intended to be stored in RAM, with the schedule automatically calculating the number of steps for which the forward data is stored on disk."
   ]
  },
  {
   "cell_type": "code",
   "execution_count": null,
   "metadata": {},
   "outputs": [
    {
     "name": "stdout",
     "output_type": "stream",
     "text": [
      "We use periods of size  11\n",
      "Sensitivity using adjoint method:  0.46869451662679296\n",
      "sensitivity using central finite differences method:  0.48237197121444586\n",
      "Relative difference in percentage:  2.8354579875812025\n"
     ]
    }
   ],
   "source": [
    "burger = BurgersEquation(model, u0, mesh) # create the burger's equation object\n",
    "schedule = PeriodicDiskRevolve(model[\"max_n\"], model[\"chk_ram\"]) # create the checkpointing schedule\n",
    "manager = CheckpointingManager(schedule, burger)  # create the checkpointing manager\n",
    "manager.execute()  # execute the forward and adjoint solvers using checkpointing\n",
    "adj_sensitivity = burger.compute_gradient()  # compute the adjoint-based sensitivity\n",
    "print(\"Sensitivity using adjoint method: \", adj_sensitivity)\n",
    "print(\"sensitivity using central finite differences method: \", fd_sensitivity)\n",
    "error = np.abs(adj_sensitivity - fd_sensitivity)/np.abs(fd_sensitivity)\n",
    "print(\"Relative difference in percentage: \", error*100)"
   ]
  },
  {
   "cell_type": "markdown",
   "metadata": {},
   "source": [
    "In the following examples, we employ the `HRevolve` [5] and `MultistageCheckpointSchedule` [2] schedules. These checkpointing schedules requires the definition of the maximal step `model[\"max_n\"]` before the execution of the forward solver. Additionally, the specification of the maximum number of checkpoints allowed to be stored in both RAM and on disk."
   ]
  },
  {
   "cell_type": "code",
   "execution_count": null,
   "metadata": {},
   "outputs": [
    {
     "name": "stdout",
     "output_type": "stream",
     "text": [
      "Sensitivity using adjoint method:  0.46869451662679296\n",
      "sensitivity using central finite differences method:  0.48237197121444586\n",
      "Relative difference in percentage:  2.8354579875812025\n"
     ]
    }
   ],
   "source": [
    "burger = BurgersEquation(model, u0, mesh) # create the burger's equation object\n",
    "schedule = HRevolve(model[\"max_n\"], model[\"chk_ram\"], model[\"chk_disk\"]) # create the checkpointing schedule\n",
    "manager = CheckpointingManager(schedule, burger)  # create the checkpointing manager\n",
    "manager.execute()  # execute the forward and adjoint solvers using checkpointing\n",
    "adj_sensitivity = burger.compute_gradient()  # compute the adjoint-based sensitivity\n",
    "print(\"Sensitivity using adjoint method: \", adj_sensitivity)\n",
    "print(\"sensitivity using central finite differences method: \", fd_sensitivity)\n",
    "error = np.abs(adj_sensitivity - fd_sensitivity)/np.abs(fd_sensitivity)\n",
    "print(\"Relative difference in percentage: \", error*100)"
   ]
  },
  {
   "cell_type": "code",
   "execution_count": null,
   "metadata": {},
   "outputs": [
    {
     "name": "stdout",
     "output_type": "stream",
     "text": [
      "Sensitivity using adjoint method:  0.46869451662679296\n",
      "sensitivity using central finite differences method:  0.48237197121444586\n",
      "Relative difference in percentage:  2.8354579875812025\n"
     ]
    }
   ],
   "source": [
    "burger = BurgersEquation(model, u0, mesh) # create the burger's equation object\n",
    "schedule = MultistageCheckpointSchedule(model[\"max_n\"], model[\"chk_ram\"], model[\"chk_disk\"]) # create the checkpointing schedule\n",
    "manager = CheckpointingManager(schedule, burger)  # create the checkpointing manager\n",
    "manager.execute()  # execute the forward and adjoint solvers using checkpointing\n",
    "adj_sensitivity = burger.compute_gradient()  # compute the adjoint-based sensitivity\n",
    "print(\"Sensitivity using adjoint method: \", adj_sensitivity)\n",
    "print(\"sensitivity using central finite differences method: \", fd_sensitivity)\n",
    "error = np.abs(adj_sensitivity - fd_sensitivity)/np.abs(fd_sensitivity)\n",
    "print(\"Relative difference in percentage: \", error*100)"
   ]
  },
  {
   "cell_type": "markdown",
   "metadata": {},
   "source": [
    "`TwoLevelCheckpointSchedule` [7] does not require the maximal step `model[\"max_n\"]` to be defined before the execution of the forward solver, it saves the forward restart data on disk based on the `period` argument. For instance, if `period = 10`, the forward restart data is stored on disk every ten steps.\n",
    "\n",
    "During the adjoint computation, the user can define additional forward restart data storage in RAM or on disk. This is carried out according to the `binomial_storage` argument. The additional number of checkpoints stored is set by the second argument of the `TwoLevelCheckpointSchedule` class. In the example below, we set `model[\"chk_ram\"]` as the additional number of checkpoints to be stored during the adjoint computation, and the storage type is on disk (`binomial_storage=StorageType.RAM`)."
   ]
  },
  {
   "cell_type": "code",
   "execution_count": null,
   "metadata": {},
   "outputs": [
    {
     "name": "stdout",
     "output_type": "stream",
     "text": [
      "Sensitivity using adjoint method:  0.46869451662679296\n",
      "sensitivity using central finite differences method:  0.48237197121444586\n",
      "Relative difference in percentage:  2.8354579875812025\n"
     ]
    }
   ],
   "source": [
    "burger = BurgersEquation(model, u0, mesh) # create the burger's equation object\n",
    "period = 10\n",
    "schedule = TwoLevelCheckpointSchedule(period, model[\"chk_ram\"], binomial_storage=StorageType.RAM) # create the checkpointing schedule\n",
    "manager = CheckpointingManager(schedule, burger)  # create the checkpointing manager\n",
    "manager.execute()  # execute the forward and adjoint solvers using checkpointing\n",
    "adj_sensitivity = burger.compute_gradient()  # compute the adjoint-based sensitivity\n",
    "print(\"Sensitivity using adjoint method: \", adj_sensitivity)\n",
    "print(\"sensitivity using central finite differences method: \", fd_sensitivity)\n",
    "error = np.abs(adj_sensitivity - fd_sensitivity)/np.abs(fd_sensitivity)\n",
    "print(\"Relative difference in percentage: \", error*100)"
   ]
  },
  {
   "cell_type": "markdown",
   "metadata": {},
   "source": [
    "Now, we define to store the additional forward restart data on dink during the adjoint computation with the storage type `binomial_storage=StorageType.DISK`, as shown below."
   ]
  },
  {
   "cell_type": "code",
   "execution_count": null,
   "metadata": {},
   "outputs": [
    {
     "name": "stdout",
     "output_type": "stream",
     "text": [
      "Sensitivity using adjoint method:  0.46869451662679296\n",
      "sensitivity using central finite differences method:  0.48237197121444586\n",
      "Relative difference in percentage:  2.8354579875812025\n"
     ]
    }
   ],
   "source": [
    "burger = BurgersEquation(model, u0, mesh) # create the burger's equation object\n",
    "period = 10\n",
    "schedule = TwoLevelCheckpointSchedule(period, model[\"chk_disk\"], binomial_storage=StorageType.DISK) # create the checkpointing schedule\n",
    "manager = CheckpointingManager(schedule, burger)  # create the checkpointing manager\n",
    "manager.execute()  # execute the forward and adjoint solvers using checkpointing\n",
    "adj_sensitivity = burger.compute_gradient()  # compute the adjoint-based sensitivity\n",
    "print(\"Sensitivity using adjoint method: \", adj_sensitivity)\n",
    "print(\"sensitivity using central finite differences method: \", fd_sensitivity)\n",
    "error = np.abs(adj_sensitivity - fd_sensitivity)/np.abs(fd_sensitivity)\n",
    "print(\"Relative difference in percentage: \", error*100)"
   ]
  },
  {
   "cell_type": "markdown",
   "metadata": {},
   "source": [
    "### References\n",
    "\n",
    "[1] Griewank, A., & Walther, A. (2000). Algorithm 799: revolve: an implementation of checkpointing for the reverse or adjoint mode of computational differentiation. ACM Transactions on Mathematical Software (TOMS), 26(1), 19-45., doi: https://doi.org/10.1145/347837.347846\n",
    "\n",
    "[2] Stumm, P., & Walther, A. (2009). Multistage approaches for optimal offline checkpointing. SIAM Journal on Scientific Computing, 31(3), 1946-1967. https://doi.org/10.1137/080718036\n",
    "\n",
    "[3] Aupy, G., Herrmann, J., Hovland, P., & Robert, Y. (2016). Optimal multistage algorithm for adjoint computation. SIAM Journal on Scientific Computing, 38(3), C232-C255. DOI: https://doi.org/10.1145/347837.347846.\n",
    "\n",
    "[4] Aupy, G., & Herrmann, J. (2017). Periodicity in optimal hierarchical checkpointing schemes for adjoint computations. Optimization Methods and Software, 32(3), 594-624. doi: https://doi.org/10.1080/10556788.2016.1230612\n",
    "\n",
    "[5] Herrmann, J. and Pallez (Aupy), G. (2020). H-Revolve: a framework for adjoint computation on synchronous hierarchical platforms. ACM Transactions on Mathematical Software (TOMS), 46(2), 1-25. DOI: https://doi.org/10.1145/3378672.\n",
    "\n",
    "[6] Maddison, J. R. (2023). On the implementation of checkpointing with high-level algorithmic differentiation. arXiv preprint arXiv:2305.09568. https://doi.org/10.48550/arXiv.2305.09568.\n",
    "\n",
    "[7] Pringle, G. C., Jones, D. C., Goswami, S., Narayanan, S. H. K., and  Goldberg, D. (2016). Providing the ARCHER community with adjoint modelling tools for high-performance oceanographic and cryospheric computation. https://nora.nerc.ac.uk/id/eprint/516314.\n",
    "\n",
    "[8] Goldberg, D. N., Smith, T. A., Narayanan, S. H., Heimbach, P., and Morlighem, M. (2020). Bathymetric Influences on Antarctic Ice‐Shelf Melt Rates. Journal of Geophysical Research: Oceans, 125(11), e2020JC016370. doi: https://doi.org/10.1029/2020JC016370."
   ]
  }
 ],
 "metadata": {
  "kernelspec": {
   "display_name": "Python 3 (ipykernel)",
   "language": "python",
   "name": "python3"
  },
  "language_info": {
   "codemirror_mode": {
    "name": "ipython",
    "version": 3
   },
   "file_extension": ".py",
   "mimetype": "text/x-python",
   "name": "python",
   "nbconvert_exporter": "python",
   "pygments_lexer": "ipython3",
   "version": "3.11.6"
  }
 },
 "nbformat": 4,
 "nbformat_minor": 2
}
